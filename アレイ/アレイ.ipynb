{
 "cells": [
  {
   "cell_type": "code",
   "execution_count": 27,
   "id": "1586cc08-c79f-4e02-8263-2542ee7bd72b",
   "metadata": {},
   "outputs": [],
   "source": [
    "import numpy as np"
   ]
  },
  {
   "cell_type": "code",
   "execution_count": 29,
   "id": "cdca9f41-5b15-441a-bae8-1bfc6c14a27b",
   "metadata": {},
   "outputs": [],
   "source": [
    "x=np.arange(0,10)"
   ]
  },
  {
   "cell_type": "code",
   "execution_count": 31,
   "id": "4d61f56f-097c-40c7-be8d-c3e095adce20",
   "metadata": {},
   "outputs": [
    {
     "data": {
      "text/plain": [
       "array([0, 1, 2, 3, 4, 5, 6, 7, 8, 9])"
      ]
     },
     "execution_count": 31,
     "metadata": {},
     "output_type": "execute_result"
    }
   ],
   "source": [
    "x"
   ]
  },
  {
   "cell_type": "code",
   "execution_count": 33,
   "id": "42964060-8aef-4008-8df0-3e1ddbdb87b1",
   "metadata": {},
   "outputs": [],
   "source": [
    "y=x"
   ]
  },
  {
   "cell_type": "code",
   "execution_count": 35,
   "id": "cb43816e-5e0c-4cba-af16-69c33bc4bba8",
   "metadata": {},
   "outputs": [],
   "source": [
    "y[1:4]=10"
   ]
  },
  {
   "cell_type": "code",
   "execution_count": 37,
   "id": "6c8cbf51-1795-40bd-bdac-df79724833bf",
   "metadata": {},
   "outputs": [
    {
     "data": {
      "text/plain": [
       "array([ 0, 10, 10, 10,  4,  5,  6,  7,  8,  9])"
      ]
     },
     "execution_count": 37,
     "metadata": {},
     "output_type": "execute_result"
    }
   ],
   "source": [
    "x"
   ]
  },
  {
   "cell_type": "code",
   "execution_count": 39,
   "id": "7afa08c6-4024-478a-9f9b-0d535f48ef06",
   "metadata": {},
   "outputs": [],
   "source": [
    "y[:]=5"
   ]
  },
  {
   "cell_type": "code",
   "execution_count": 41,
   "id": "c81c1d5a-98b8-4a2d-992a-4d4bf5e4de07",
   "metadata": {},
   "outputs": [
    {
     "data": {
      "text/plain": [
       "array([5, 5, 5, 5, 5, 5, 5, 5, 5, 5])"
      ]
     },
     "execution_count": 41,
     "metadata": {},
     "output_type": "execute_result"
    }
   ],
   "source": [
    "x"
   ]
  },
  {
   "cell_type": "markdown",
   "id": "675d579f-2bc8-4e25-b323-b083b2acf1d7",
   "metadata": {},
   "source": [
    "---"
   ]
  },
  {
   "cell_type": "code",
   "execution_count": 48,
   "id": "b9e203cd-f7d9-4e6b-8f3b-b92d6e8a0a99",
   "metadata": {},
   "outputs": [
    {
     "data": {
      "text/plain": [
       "array([ 0,  1,  2,  3,  4,  5,  6,  7,  8,  9, 10])"
      ]
     },
     "execution_count": 48,
     "metadata": {},
     "output_type": "execute_result"
    }
   ],
   "source": [
    "import numpy as np\n",
    "arr = np.arange(11)\n",
    "arr"
   ]
  },
  {
   "cell_type": "code",
   "execution_count": 50,
   "id": "65a17008-0d25-4a24-b45d-8128695a5c0c",
   "metadata": {},
   "outputs": [
    {
     "data": {
      "text/plain": [
       "array([0.        , 1.        , 1.41421356, 1.73205081, 2.        ,\n",
       "       2.23606798, 2.44948974, 2.64575131, 2.82842712, 3.        ,\n",
       "       3.16227766])"
      ]
     },
     "execution_count": 50,
     "metadata": {},
     "output_type": "execute_result"
    }
   ],
   "source": [
    "np.sqrt(arr)"
   ]
  },
  {
   "cell_type": "code",
   "execution_count": 53,
   "id": "7da1001e-3002-49df-9b23-77757a4f9eba",
   "metadata": {},
   "outputs": [
    {
     "data": {
      "text/plain": [
       "array([1.00000000e+00, 2.71828183e+00, 7.38905610e+00, 2.00855369e+01,\n",
       "       5.45981500e+01, 1.48413159e+02, 4.03428793e+02, 1.09663316e+03,\n",
       "       2.98095799e+03, 8.10308393e+03, 2.20264658e+04])"
      ]
     },
     "execution_count": 53,
     "metadata": {},
     "output_type": "execute_result"
    }
   ],
   "source": [
    "np.exp(arr)"
   ]
  },
  {
   "cell_type": "code",
   "execution_count": 63,
   "id": "f19d36fa-826e-4c8d-a4f8-e350c45b6d14",
   "metadata": {},
   "outputs": [],
   "source": [
    "A=np.random.randn(10)"
   ]
  },
  {
   "cell_type": "code",
   "execution_count": 65,
   "id": "4ad3cc47-9bb0-4eb7-82dd-08a03722e233",
   "metadata": {},
   "outputs": [],
   "source": [
    "rng = np.random.default_rng()\n",
    "B=rng.standard_normal(10)"
   ]
  },
  {
   "cell_type": "code",
   "execution_count": 67,
   "id": "51a501dd-2e51-4216-b464-9d3c04c2a258",
   "metadata": {},
   "outputs": [
    {
     "data": {
      "text/plain": [
       "array([ 0.11207074,  0.20698943, -1.63242936, -0.22690597, -1.25281925,\n",
       "       -1.38268989,  0.7611891 ,  1.93564325, -0.0038426 , -0.65566807])"
      ]
     },
     "execution_count": 67,
     "metadata": {},
     "output_type": "execute_result"
    }
   ],
   "source": [
    "np.add(A,B)"
   ]
  },
  {
   "cell_type": "code",
   "execution_count": 69,
   "id": "fa2ee489-aab9-48dd-9471-e904e3c283cc",
   "metadata": {},
   "outputs": [
    {
     "data": {
      "text/plain": [
       "array([ 0.83222397,  0.8995017 , -0.72657743,  0.28599396, -0.14500793,\n",
       "       -0.58855267,  0.84112378,  1.33453313,  0.00357103,  0.77039868])"
      ]
     },
     "execution_count": 69,
     "metadata": {},
     "output_type": "execute_result"
    }
   ],
   "source": [
    "np.maximum(A,B)"
   ]
  },
  {
   "cell_type": "code",
   "execution_count": null,
   "id": "5189a02a-2ce7-4348-980f-0dbef8d4a592",
   "metadata": {},
   "outputs": [],
   "source": []
  }
 ],
 "metadata": {
  "kernelspec": {
   "display_name": "Python [conda env:base] *",
   "language": "python",
   "name": "conda-base-py"
  },
  "language_info": {
   "codemirror_mode": {
    "name": "ipython",
    "version": 3
   },
   "file_extension": ".py",
   "mimetype": "text/x-python",
   "name": "python",
   "nbconvert_exporter": "python",
   "pygments_lexer": "ipython3",
   "version": "3.12.7"
  }
 },
 "nbformat": 4,
 "nbformat_minor": 5
}
