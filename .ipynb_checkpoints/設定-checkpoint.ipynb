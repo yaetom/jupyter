{
 "cells": [
  {
   "cell_type": "markdown",
   "id": "58f138fc-9b96-4b82-b86f-8cb0fdfd0f0e",
   "metadata": {},
   "source": [
    "# GitHub\n",
    "git remote add origin https://github.com/yaetom/jupyter.git  \n",
    "git branch -M main  \n",
    "git push -u origin main  "
   ]
  },
  {
   "cell_type": "markdown",
   "id": "0480dc2c-c37c-4b91-96bb-80831fa0a0a5",
   "metadata": {},
   "source": [
    "# デフォルト表示のディレクトリ変更\n",
    ".jupyter/jupyter_lab_config.py  \n",
    "c.ServerApp.notebook_dir = '/iCloudDrive/program/python_jupyter'  "
   ]
  },
  {
   "cell_type": "code",
   "execution_count": null,
   "id": "cf66727a-e65e-4136-b968-271bde114ef3",
   "metadata": {},
   "outputs": [],
   "source": []
  }
 ],
 "metadata": {
  "kernelspec": {
   "display_name": "Python [conda env:base] *",
   "language": "python",
   "name": "conda-base-py"
  },
  "language_info": {
   "codemirror_mode": {
    "name": "ipython",
    "version": 3
   },
   "file_extension": ".py",
   "mimetype": "text/x-python",
   "name": "python",
   "nbconvert_exporter": "python",
   "pygments_lexer": "ipython3",
   "version": "3.12.7"
  }
 },
 "nbformat": 4,
 "nbformat_minor": 5
}
