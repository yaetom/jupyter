{
 "cells": [
  {
   "cell_type": "markdown",
   "id": "c39ee049-0133-483f-80a6-c5e4c7c9a7c6",
   "metadata": {},
   "source": [
    "## numpy - 高速な線形代数ライブラリ\n",
    "* 線形代数のための行列（arrat,zeros,ones,eyeなどの行列）\n",
    "* 便利で高速な演算（ベクトル演算やブロードキャスト・統計処理）\n",
    "* 乱数系のモジュール\n",
    "* 並列の便利な操作（条件抽出、ファイル入出力）\n",
    "* 線形代数用の関数（逆行列、固有値を求める）"
   ]
  },
  {
   "cell_type": "markdown",
   "id": "d8cbe6dd-219c-49e2-9f58-78cd7328af77",
   "metadata": {},
   "source": [
    "## pandas - データ分析・解析用のライブラリ\n",
    "* データ表示の可読性\n",
    "* データの指定方法（番号、キーボード）\n",
    "* 配列操作（条件抽出、ファイル入出力）\n",
    "* 配列内の統計処理、可視化\n",
    "\n",
    " Series（=1次元）を作るのがポイント　／　DataFrame（=2次元）"
   ]
  },
  {
   "cell_type": "markdown",
   "id": "b3e302e0-7568-4b2b-8fa7-55706f2bd372",
   "metadata": {},
   "source": [
    "## matplotlib - データ可視化のグラフライブラリ\n",
    "* 散布図（scatter）\n",
    "* 折れ線グラフ（plot）\n",
    "* ヒストグラム\n",
    "* 棒グラフ（bar）\n",
    "* 3次元プロット\n",
    "* インタラクティブ\n",
    "* 等高線図"
   ]
  },
  {
   "cell_type": "markdown",
   "id": "2d46be7f-8273-43dc-9b2f-f38878af42eb",
   "metadata": {},
   "source": [
    "## scipy - 科学技術計算用ライブラリ\n",
    "* 線形近似、多項式近似\n",
    "* 種々の数値積分方法\n",
    "* 常微分方程式のソルバー\n",
    "* フーリエ変換\n",
    "* 画像処理\n",
    "* 最適化"
   ]
  },
  {
   "cell_type": "code",
   "execution_count": 1,
   "id": "237520cf-75d2-4315-9767-c4b8f9b7bf25",
   "metadata": {},
   "outputs": [],
   "source": [
    "import scipy as sp #sp.polyfit →　np.polyfit"
   ]
  },
  {
   "cell_type": "markdown",
   "id": "d054b3ae-4ada-4800-b7a0-46291bed77b2",
   "metadata": {},
   "source": [
    "## IPywidgets"
   ]
  },
  {
   "cell_type": "code",
   "execution_count": 3,
   "id": "1723a370-f9bb-449f-aca8-bc729fba2e72",
   "metadata": {},
   "outputs": [],
   "source": [
    "#from IPython.html.widgets import interact\n",
    "from ipywidgets import interact"
   ]
  },
  {
   "cell_type": "markdown",
   "id": "79f88351-53f2-47da-92ec-2f9eef38cc31",
   "metadata": {},
   "source": [
    "## Seaborn\n",
    "* import seaborn as sns"
   ]
  },
  {
   "cell_type": "markdown",
   "id": "64164169-6ff4-4da3-b387-8ad8a3f68f27",
   "metadata": {},
   "source": [
    "## yfinance\n",
    "* import yfinance as yf"
   ]
  },
  {
   "cell_type": "markdown",
   "id": "1d1df514-cf0f-45b2-a4f6-2325116cbf04",
   "metadata": {},
   "source": [
    "## mplfinance\n",
    "* import mplfinance as mpf"
   ]
  },
  {
   "cell_type": "markdown",
   "id": "76673eb3-ab89-4a25-8182-2cdbe39c79ff",
   "metadata": {},
   "source": [
    "## XGBoost  - 決定木にアンサンブル学習、複数の決定木、教師あり強化学習、\n",
    "　　　　　　　　特徴量を考える＝特徴量エンジニアリング、標準化および欠損値補完が不要\n",
    "## LightGBM - 勾配ブースティング（決定木の学習方法相違、特徴量ヒストグラム化）\n",
    "## CatBoost - カテゴリ変数に強い"
   ]
  },
  {
   "cell_type": "markdown",
   "id": "9cabc982-1db7-41d6-8de3-1fdaa6b854e0",
   "metadata": {},
   "source": [
    "## plotly - 株価のグラフ化\n",
    "* from plotly.subplots import make_subplots\n",
    "* import plotly.graph_objects as go"
   ]
  },
  {
   "cell_type": "markdown",
   "id": "42ad183b-a82b-4e72-9364-42f1bd40e48e",
   "metadata": {},
   "source": [
    "## Scrapy - \n",
    "1. Webページのダウンロード（クローリング）\n",
    "2. データの抽出（スクレイピング）\n",
    "3. データの保存"
   ]
  },
  {
   "cell_type": "code",
   "execution_count": null,
   "id": "c54e29ad-86b6-4352-8c70-42c09b314db7",
   "metadata": {},
   "outputs": [],
   "source": []
  }
 ],
 "metadata": {
  "kernelspec": {
   "display_name": "Python 3 (ipykernel)",
   "language": "python",
   "name": "python3"
  },
  "language_info": {
   "codemirror_mode": {
    "name": "ipython",
    "version": 3
   },
   "file_extension": ".py",
   "mimetype": "text/x-python",
   "name": "python",
   "nbconvert_exporter": "python",
   "pygments_lexer": "ipython3",
   "version": "3.10.2"
  }
 },
 "nbformat": 4,
 "nbformat_minor": 5
}
