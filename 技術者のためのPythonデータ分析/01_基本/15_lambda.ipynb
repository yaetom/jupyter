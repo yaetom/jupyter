{
 "cells": [
  {
   "cell_type": "code",
   "execution_count": 2,
   "id": "d9164599-eb5e-4c47-b01f-14d89e978b96",
   "metadata": {},
   "outputs": [],
   "source": [
    "def distance(x,y,z):\n",
    "    dis=(x**2+y**2+z**2)**0.5\n",
    "    return dis"
   ]
  },
  {
   "cell_type": "code",
   "execution_count": 3,
   "id": "08985edc-26ce-4236-a3b5-2fef13dbf6b8",
   "metadata": {},
   "outputs": [],
   "source": [
    "f=lambda x,y,z:(x**2+y**2+z**2)**0.5"
   ]
  },
  {
   "cell_type": "code",
   "execution_count": 4,
   "id": "6c3140df-82a8-48a2-b561-1b73f040bc82",
   "metadata": {},
   "outputs": [
    {
     "data": {
      "text/plain": [
       "3.7416573867739413"
      ]
     },
     "execution_count": 4,
     "metadata": {},
     "output_type": "execute_result"
    }
   ],
   "source": [
    "f(1.0,2.0,3.0)"
   ]
  },
  {
   "cell_type": "code",
   "execution_count": null,
   "id": "b7b55289-070d-49d7-86c1-c47c15953b79",
   "metadata": {},
   "outputs": [],
   "source": []
  }
 ],
 "metadata": {
  "kernelspec": {
   "display_name": "Python 3 (ipykernel)",
   "language": "python",
   "name": "python3"
  },
  "language_info": {
   "codemirror_mode": {
    "name": "ipython",
    "version": 3
   },
   "file_extension": ".py",
   "mimetype": "text/x-python",
   "name": "python",
   "nbconvert_exporter": "python",
   "pygments_lexer": "ipython3",
   "version": "3.10.2"
  }
 },
 "nbformat": 4,
 "nbformat_minor": 5
}
