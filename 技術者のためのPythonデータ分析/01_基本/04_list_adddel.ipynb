{
 "cells": [
  {
   "cell_type": "code",
   "execution_count": 1,
   "id": "ec67c212-a899-4278-b528-991054428650",
   "metadata": {},
   "outputs": [],
   "source": [
    "num_list=[]"
   ]
  },
  {
   "cell_type": "code",
   "execution_count": 2,
   "id": "a51f6824-2f9b-4276-8459-f432a77a0fcf",
   "metadata": {},
   "outputs": [],
   "source": [
    "num_list.append(0)"
   ]
  },
  {
   "cell_type": "code",
   "execution_count": 3,
   "id": "960d5c16-7d08-4ef7-8ab6-bdc9aafd5974",
   "metadata": {},
   "outputs": [
    {
     "data": {
      "text/plain": [
       "[0]"
      ]
     },
     "execution_count": 3,
     "metadata": {},
     "output_type": "execute_result"
    }
   ],
   "source": [
    "num_list"
   ]
  },
  {
   "cell_type": "code",
   "execution_count": 4,
   "id": "ddc6141b-a21e-42dd-93eb-45cfefc4e1e0",
   "metadata": {},
   "outputs": [],
   "source": [
    "num_list.append(1)"
   ]
  },
  {
   "cell_type": "code",
   "execution_count": 5,
   "id": "4d87212a-9c50-4dd4-8199-1e47d066de12",
   "metadata": {},
   "outputs": [
    {
     "data": {
      "text/plain": [
       "[0, 1]"
      ]
     },
     "execution_count": 5,
     "metadata": {},
     "output_type": "execute_result"
    }
   ],
   "source": [
    "num_list"
   ]
  },
  {
   "cell_type": "markdown",
   "id": "aabc2b5f-34db-4663-89be-05b0e66a6b29",
   "metadata": {},
   "source": [
    "リストにリストを追加（extend）"
   ]
  },
  {
   "cell_type": "code",
   "execution_count": 6,
   "id": "7308f45d-b7b5-47bf-8e88-e2c6214e0240",
   "metadata": {},
   "outputs": [],
   "source": [
    "num_list.extend([2,3,4,5])"
   ]
  },
  {
   "cell_type": "code",
   "execution_count": 7,
   "id": "f929022b-89fe-42b2-b948-e8b63ff9b969",
   "metadata": {},
   "outputs": [
    {
     "data": {
      "text/plain": [
       "[0, 1, 2, 3, 4, 5]"
      ]
     },
     "execution_count": 7,
     "metadata": {},
     "output_type": "execute_result"
    }
   ],
   "source": [
    "num_list"
   ]
  },
  {
   "cell_type": "code",
   "execution_count": 8,
   "id": "f948ca68-ab46-47bf-8d23-f71c739710c4",
   "metadata": {},
   "outputs": [
    {
     "data": {
      "text/plain": [
       "5"
      ]
     },
     "execution_count": 8,
     "metadata": {},
     "output_type": "execute_result"
    }
   ],
   "source": [
    "num_list.pop()"
   ]
  },
  {
   "cell_type": "code",
   "execution_count": 9,
   "id": "fb5a26f4-6c79-4e1d-ae96-3c9658dcaae3",
   "metadata": {},
   "outputs": [
    {
     "data": {
      "text/plain": [
       "[0, 1, 2, 3, 4]"
      ]
     },
     "execution_count": 9,
     "metadata": {},
     "output_type": "execute_result"
    }
   ],
   "source": [
    "num_list"
   ]
  },
  {
   "cell_type": "code",
   "execution_count": 10,
   "id": "888e42a1-ca68-4897-bf17-9b746c772bbd",
   "metadata": {},
   "outputs": [],
   "source": [
    "num_list.remove(3)"
   ]
  },
  {
   "cell_type": "code",
   "execution_count": 11,
   "id": "c7b55190-c720-4c6f-9a27-ab04d65bfeff",
   "metadata": {},
   "outputs": [
    {
     "data": {
      "text/plain": [
       "[0, 1, 2, 4]"
      ]
     },
     "execution_count": 11,
     "metadata": {},
     "output_type": "execute_result"
    }
   ],
   "source": [
    "num_list"
   ]
  },
  {
   "cell_type": "code",
   "execution_count": 12,
   "id": "9f7973c7-096c-4470-9aa0-fbaeaedf64a7",
   "metadata": {},
   "outputs": [
    {
     "data": {
      "text/plain": [
       "7"
      ]
     },
     "execution_count": 12,
     "metadata": {},
     "output_type": "execute_result"
    }
   ],
   "source": [
    "sum(num_list)"
   ]
  },
  {
   "cell_type": "code",
   "execution_count": 1,
   "id": "5e24cf28-87bc-42a2-b4b2-15f0565dcf99",
   "metadata": {},
   "outputs": [],
   "source": [
    "num_list2=[3,5,3,5,6,7,3,2,1]"
   ]
  },
  {
   "cell_type": "code",
   "execution_count": 3,
   "id": "352d3d8a-1697-43ed-ade1-2ead917e984e",
   "metadata": {},
   "outputs": [
    {
     "data": {
      "text/plain": [
       "[1, 2, 3, 3, 3, 5, 5, 6, 7]"
      ]
     },
     "execution_count": 3,
     "metadata": {},
     "output_type": "execute_result"
    }
   ],
   "source": [
    "num_list2.sort()\n",
    "num_list2"
   ]
  },
  {
   "cell_type": "code",
   "execution_count": 6,
   "id": "fbb2decc-ff40-4a13-b6d8-c77d1183eb55",
   "metadata": {},
   "outputs": [
    {
     "data": {
      "text/plain": [
       "[1, 2, 5, 5, 6, 7]"
      ]
     },
     "execution_count": 6,
     "metadata": {},
     "output_type": "execute_result"
    }
   ],
   "source": [
    "num_list2.remove(3)\n",
    "num_list2"
   ]
  }
 ],
 "metadata": {
  "kernelspec": {
   "display_name": "Python [conda env:base] *",
   "language": "python",
   "name": "conda-base-py"
  },
  "language_info": {
   "codemirror_mode": {
    "name": "ipython",
    "version": 3
   },
   "file_extension": ".py",
   "mimetype": "text/x-python",
   "name": "python",
   "nbconvert_exporter": "python",
   "pygments_lexer": "ipython3",
   "version": "3.12.7"
  }
 },
 "nbformat": 4,
 "nbformat_minor": 5
}
