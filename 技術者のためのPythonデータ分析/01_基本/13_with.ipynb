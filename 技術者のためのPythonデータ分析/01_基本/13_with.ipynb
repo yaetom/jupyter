{
 "cells": [
  {
   "cell_type": "code",
   "execution_count": 1,
   "id": "bd7e87e4-9d05-4437-9243-a4960814fa39",
   "metadata": {},
   "outputs": [
    {
     "name": "stdout",
     "output_type": "stream",
     "text": [
      "2016 03 05\n",
      "\n",
      "0\t1.0\n",
      "\n",
      "1\t1.1\n",
      "\n",
      "2\t1.4\n",
      "\n",
      "3\t1.3\n",
      "\n",
      "4\t1.4\n",
      "\n",
      "5\t1.8\n",
      "\n"
     ]
    }
   ],
   "source": [
    "with open(\"./resources/sample.txt\",mode=\"r\",encoding=\"utf-8\") as f:\n",
    "    for i in f:\n",
    "        print(i)\n",
    "        "
   ]
  },
  {
   "cell_type": "code",
   "execution_count": null,
   "id": "cfa37508-94c8-46e9-9bfe-724484f333a3",
   "metadata": {},
   "outputs": [],
   "source": []
  }
 ],
 "metadata": {
  "kernelspec": {
   "display_name": "Python 3 (ipykernel)",
   "language": "python",
   "name": "python3"
  },
  "language_info": {
   "codemirror_mode": {
    "name": "ipython",
    "version": 3
   },
   "file_extension": ".py",
   "mimetype": "text/x-python",
   "name": "python",
   "nbconvert_exporter": "python",
   "pygments_lexer": "ipython3",
   "version": "3.10.2"
  }
 },
 "nbformat": 4,
 "nbformat_minor": 5
}
