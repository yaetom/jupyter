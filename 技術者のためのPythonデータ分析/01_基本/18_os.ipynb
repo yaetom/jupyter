{
 "cells": [
  {
   "cell_type": "code",
   "execution_count": 1,
   "id": "ed48b35a-5bb7-406f-a6a7-9b3520b05490",
   "metadata": {},
   "outputs": [],
   "source": [
    "import os"
   ]
  },
  {
   "cell_type": "code",
   "execution_count": 3,
   "id": "920c5028-4ae4-42fc-b34f-ef86817156e9",
   "metadata": {},
   "outputs": [],
   "source": [
    "c_path=os.getcwd()"
   ]
  },
  {
   "cell_type": "code",
   "execution_count": 4,
   "id": "98c56050-8730-4018-9626-961ae1910eb2",
   "metadata": {},
   "outputs": [
    {
     "data": {
      "text/plain": [
       "['.ipynb_checkpoints',\n",
       " '00_type.ipynb',\n",
       " '01_list.ipynb',\n",
       " '02_list_.ipynb',\n",
       " '03_list_string.ipynb',\n",
       " '04_list_adddel.ipynb',\n",
       " '05_list_string.ipynb',\n",
       " '06_tuple.ipynb',\n",
       " '07_dict.ipynb',\n",
       " '08_print_input.ipynb',\n",
       " '09_for.ipynb',\n",
       " '10_enumerate.ipynb',\n",
       " '11_open_r.ipynb',\n",
       " '12_opne_w.ipynb',\n",
       " '12_output.txt',\n",
       " '13_with.ipynb',\n",
       " '14_def.ipynb',\n",
       " '15_lambda.ipynb',\n",
       " '16_lambda_map_filter.ipynb',\n",
       " '17_import.ipynb',\n",
       " '18_os.ipynb',\n",
       " 'resources']"
      ]
     },
     "execution_count": 4,
     "metadata": {},
     "output_type": "execute_result"
    }
   ],
   "source": [
    "os.listdir(c_path)"
   ]
  },
  {
   "cell_type": "code",
   "execution_count": 6,
   "id": "c0916697-621c-44ea-8f0b-c978e8108cc2",
   "metadata": {},
   "outputs": [
    {
     "name": "stdout",
     "output_type": "stream",
     "text": [
      "14 12_output.txt\n"
     ]
    }
   ],
   "source": [
    "for i,j in enumerate(os.listdir(c_path)):\n",
    "    if j[-4:]==\".txt\":\n",
    "        print(i,j)"
   ]
  },
  {
   "cell_type": "code",
   "execution_count": 8,
   "id": "a35d70de-7a2e-4c5b-ab5b-956593cef3ca",
   "metadata": {},
   "outputs": [],
   "source": [
    "os.mkdir(\"test\")"
   ]
  },
  {
   "cell_type": "code",
   "execution_count": 12,
   "id": "d82483c9-941f-4f7b-8f15-85caed3f068a",
   "metadata": {},
   "outputs": [],
   "source": [
    "os.rmdir(\"test\")"
   ]
  },
  {
   "cell_type": "code",
   "execution_count": null,
   "id": "1c2e82cb-a294-42ea-bdee-3b80fb5877ae",
   "metadata": {},
   "outputs": [],
   "source": []
  }
 ],
 "metadata": {
  "kernelspec": {
   "display_name": "Python 3 (ipykernel)",
   "language": "python",
   "name": "python3"
  },
  "language_info": {
   "codemirror_mode": {
    "name": "ipython",
    "version": 3
   },
   "file_extension": ".py",
   "mimetype": "text/x-python",
   "name": "python",
   "nbconvert_exporter": "python",
   "pygments_lexer": "ipython3",
   "version": "3.10.2"
  }
 },
 "nbformat": 4,
 "nbformat_minor": 5
}
