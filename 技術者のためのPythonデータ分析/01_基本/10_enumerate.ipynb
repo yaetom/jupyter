{
 "cells": [
  {
   "cell_type": "code",
   "execution_count": 3,
   "id": "2712ee10-01b8-4e9b-ba73-547cc3e17253",
   "metadata": {},
   "outputs": [
    {
     "name": "stdout",
     "output_type": "stream",
     "text": [
      "japanese\n",
      "English\n",
      "Math\n",
      "Science\n",
      "Society\n"
     ]
    }
   ],
   "source": [
    "subject_list=[\"japanese\",\"English\",\"Math\",\"Science\",\"Society\"]\n",
    "for i in subject_list:\n",
    "    print(i)"
   ]
  },
  {
   "cell_type": "code",
   "execution_count": 4,
   "id": "82bbebe1-42dd-48a3-9c34-1c85cbb3ebeb",
   "metadata": {},
   "outputs": [
    {
     "name": "stdout",
     "output_type": "stream",
     "text": [
      "0 japanese\n",
      "1 English\n",
      "2 Math\n",
      "3 Science\n",
      "4 Society\n"
     ]
    }
   ],
   "source": [
    "for i,j in enumerate(subject_list):\n",
    "    print(i,j)"
   ]
  },
  {
   "cell_type": "code",
   "execution_count": null,
   "id": "71861a9a-1708-4305-b9ea-00f0a5c3808a",
   "metadata": {},
   "outputs": [],
   "source": []
  }
 ],
 "metadata": {
  "kernelspec": {
   "display_name": "Python 3 (ipykernel)",
   "language": "python",
   "name": "python3"
  },
  "language_info": {
   "codemirror_mode": {
    "name": "ipython",
    "version": 3
   },
   "file_extension": ".py",
   "mimetype": "text/x-python",
   "name": "python",
   "nbconvert_exporter": "python",
   "pygments_lexer": "ipython3",
   "version": "3.10.2"
  }
 },
 "nbformat": 4,
 "nbformat_minor": 5
}
