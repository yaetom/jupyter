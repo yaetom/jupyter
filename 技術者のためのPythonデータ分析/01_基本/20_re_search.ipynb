{
 "cells": [
  {
   "cell_type": "code",
   "execution_count": 1,
   "id": "a7ee30a4-56ea-4f2f-8d14-b4ba755b27f8",
   "metadata": {},
   "outputs": [],
   "source": [
    "import re"
   ]
  },
  {
   "cell_type": "code",
   "execution_count": 2,
   "id": "fdcd7daf-594c-4198-841b-b8db6580236f",
   "metadata": {},
   "outputs": [
    {
     "name": "stdout",
     "output_type": "stream",
     "text": [
      "a\tb\tc\n"
     ]
    }
   ],
   "source": [
    "print(\"a\\tb\\tc\")"
   ]
  },
  {
   "cell_type": "code",
   "execution_count": 4,
   "id": "819788e3-32e9-4681-a394-755e3d27792c",
   "metadata": {},
   "outputs": [
    {
     "name": "stdout",
     "output_type": "stream",
     "text": [
      "a\\tb\\tc\n"
     ]
    }
   ],
   "source": [
    "print(r\"a\\tb\\tc\")"
   ]
  },
  {
   "cell_type": "code",
   "execution_count": 5,
   "id": "e6e9be55-f241-46d4-98a9-cd1550a4db85",
   "metadata": {},
   "outputs": [
    {
     "data": {
      "text/plain": [
       "<re.Match object; span=(0, 3), match='123'>"
      ]
     },
     "execution_count": 5,
     "metadata": {},
     "output_type": "execute_result"
    }
   ],
   "source": [
    "re.search(r\"123\",\"123456\")"
   ]
  },
  {
   "cell_type": "code",
   "execution_count": 7,
   "id": "979d326a-2606-47d8-9db8-f1f13c1dcc4a",
   "metadata": {},
   "outputs": [],
   "source": [
    "m=re.search(r\"123\",\"123456\")"
   ]
  },
  {
   "cell_type": "code",
   "execution_count": 8,
   "id": "6c93f22f-6573-4ae6-a253-f873254e4594",
   "metadata": {},
   "outputs": [
    {
     "data": {
      "text/plain": [
       "'123'"
      ]
     },
     "execution_count": 8,
     "metadata": {},
     "output_type": "execute_result"
    }
   ],
   "source": [
    "m.group()"
   ]
  },
  {
   "cell_type": "code",
   "execution_count": 9,
   "id": "a52af2ef-f992-4c11-85a6-4c42043d2b4c",
   "metadata": {},
   "outputs": [
    {
     "data": {
      "text/plain": [
       "0"
      ]
     },
     "execution_count": 9,
     "metadata": {},
     "output_type": "execute_result"
    }
   ],
   "source": [
    "m.start()"
   ]
  },
  {
   "cell_type": "code",
   "execution_count": 10,
   "id": "6df2608e-81c9-4dee-88cd-02dcc80f9cfa",
   "metadata": {},
   "outputs": [
    {
     "data": {
      "text/plain": [
       "3"
      ]
     },
     "execution_count": 10,
     "metadata": {},
     "output_type": "execute_result"
    }
   ],
   "source": [
    "m.end()"
   ]
  },
  {
   "cell_type": "code",
   "execution_count": 12,
   "id": "a5e3481b-8a15-4787-a621-4baeb229f2b5",
   "metadata": {},
   "outputs": [
    {
     "data": {
      "text/plain": [
       "<re.Match object; span=(0, 9), match='111111111'>"
      ]
     },
     "execution_count": 12,
     "metadata": {},
     "output_type": "execute_result"
    }
   ],
   "source": [
    "re.search(r\"1*\",\"111111111\")"
   ]
  },
  {
   "cell_type": "code",
   "execution_count": 13,
   "id": "03be619d-dcba-4c49-950a-e2547cc31051",
   "metadata": {},
   "outputs": [
    {
     "data": {
      "text/plain": [
       "<re.Match object; span=(0, 1), match='1'>"
      ]
     },
     "execution_count": 13,
     "metadata": {},
     "output_type": "execute_result"
    }
   ],
   "source": [
    "re.search(r\"1*\",\"1\")"
   ]
  },
  {
   "cell_type": "code",
   "execution_count": 14,
   "id": "891a4ed5-72a2-40f8-a646-825ff369bb3d",
   "metadata": {},
   "outputs": [
    {
     "data": {
      "text/plain": [
       "<re.Match object; span=(0, 4), match='1 23'>"
      ]
     },
     "execution_count": 14,
     "metadata": {},
     "output_type": "execute_result"
    }
   ],
   "source": [
    "re.search(r\"1\\s23*\",\"1 23\")"
   ]
  },
  {
   "cell_type": "code",
   "execution_count": 15,
   "id": "75f055b6-9378-4d6d-88a6-5cd54b4ea992",
   "metadata": {},
   "outputs": [],
   "source": [
    "re.search(r\"^123\",\"abc123\")"
   ]
  },
  {
   "cell_type": "code",
   "execution_count": 16,
   "id": "b5cf4e04-4ed7-4ad9-b3f5-5581f4a33635",
   "metadata": {},
   "outputs": [
    {
     "data": {
      "text/plain": [
       "<re.Match object; span=(3, 6), match='123'>"
      ]
     },
     "execution_count": 16,
     "metadata": {},
     "output_type": "execute_result"
    }
   ],
   "source": [
    "re.search(r\"123$\",\"abc123\")"
   ]
  },
  {
   "cell_type": "code",
   "execution_count": 17,
   "id": "d5ecca31-b488-4ab1-a132-e8edc3f1a4ed",
   "metadata": {},
   "outputs": [
    {
     "data": {
      "text/plain": [
       "<re.Match object; span=(0, 4), match='2456'>"
      ]
     },
     "execution_count": 17,
     "metadata": {},
     "output_type": "execute_result"
    }
   ],
   "source": [
    "re.search(r\"[123]456\",\"2456\")"
   ]
  },
  {
   "cell_type": "code",
   "execution_count": 18,
   "id": "5dd525bd-f2c2-4a4e-aa85-b4c8b5b4b90a",
   "metadata": {},
   "outputs": [
    {
     "data": {
      "text/plain": [
       "<re.Match object; span=(0, 6), match='Python'>"
      ]
     },
     "execution_count": 18,
     "metadata": {},
     "output_type": "execute_result"
    }
   ],
   "source": [
    "re.search(r\"Python3?\",\"Python\")"
   ]
  },
  {
   "cell_type": "code",
   "execution_count": 19,
   "id": "f49c4e67-4955-4bd8-a556-6f4fb8df7d32",
   "metadata": {},
   "outputs": [
    {
     "data": {
      "text/plain": [
       "<re.Match object; span=(0, 7), match='Python2'>"
      ]
     },
     "execution_count": 19,
     "metadata": {},
     "output_type": "execute_result"
    }
   ],
   "source": [
    "re.search(r\"Python\\d\",\"Python2\")"
   ]
  },
  {
   "cell_type": "code",
   "execution_count": 20,
   "id": "bcb6e35a-8dfe-4f0d-8bad-62a14d4e824d",
   "metadata": {},
   "outputs": [
    {
     "data": {
      "text/plain": [
       "<re.Match object; span=(7, 10), match='red'>"
      ]
     },
     "execution_count": 20,
     "metadata": {},
     "output_type": "execute_result"
    }
   ],
   "source": [
    "re.search(r\"(red|blue)\",\"I like red\")"
   ]
  },
  {
   "cell_type": "code",
   "execution_count": null,
   "id": "b91d869d-7731-40fe-bb45-a6ae1c979ac1",
   "metadata": {},
   "outputs": [],
   "source": []
  }
 ],
 "metadata": {
  "kernelspec": {
   "display_name": "Python 3 (ipykernel)",
   "language": "python",
   "name": "python3"
  },
  "language_info": {
   "codemirror_mode": {
    "name": "ipython",
    "version": 3
   },
   "file_extension": ".py",
   "mimetype": "text/x-python",
   "name": "python",
   "nbconvert_exporter": "python",
   "pygments_lexer": "ipython3",
   "version": "3.10.2"
  }
 },
 "nbformat": 4,
 "nbformat_minor": 5
}
