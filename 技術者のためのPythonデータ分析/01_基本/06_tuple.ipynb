{
 "cells": [
  {
   "cell_type": "code",
   "execution_count": 1,
   "id": "74cdf9eb-19df-46a3-87bb-7cb8a10b02f9",
   "metadata": {},
   "outputs": [],
   "source": [
    "num_list=[1,2,3,4]"
   ]
  },
  {
   "cell_type": "code",
   "execution_count": 2,
   "id": "9b5a5a30-d6fe-4197-9c3a-0f5b325c266d",
   "metadata": {},
   "outputs": [],
   "source": [
    "num_tuple=(1,2,3,4)"
   ]
  },
  {
   "cell_type": "code",
   "execution_count": 5,
   "id": "37c6cab2-72df-40fd-ae18-1cc9b1a43417",
   "metadata": {},
   "outputs": [
    {
     "data": {
      "text/plain": [
       "5"
      ]
     },
     "execution_count": 5,
     "metadata": {},
     "output_type": "execute_result"
    }
   ],
   "source": [
    "num_list[0]=5\n",
    "num_list[0]"
   ]
  },
  {
   "cell_type": "markdown",
   "id": "c5628c17-32d2-4b05-bc86-2d4a44fd395b",
   "metadata": {},
   "source": [
    "タプルは初期値を変更できない"
   ]
  },
  {
   "cell_type": "code",
   "execution_count": 8,
   "id": "1304df87-db64-42d2-9633-d146c9ac2683",
   "metadata": {},
   "outputs": [
    {
     "ename": "TypeError",
     "evalue": "'tuple' object does not support item assignment",
     "output_type": "error",
     "traceback": [
      "\u001b[1;31m---------------------------------------------------------------------------\u001b[0m",
      "\u001b[1;31mTypeError\u001b[0m                                 Traceback (most recent call last)",
      "Cell \u001b[1;32mIn[8], line 1\u001b[0m\n\u001b[1;32m----> 1\u001b[0m \u001b[43mnum_tuple\u001b[49m\u001b[43m[\u001b[49m\u001b[38;5;241;43m0\u001b[39;49m\u001b[43m]\u001b[49m\u001b[38;5;241m=\u001b[39m\u001b[38;5;241m5\u001b[39m\n",
      "\u001b[1;31mTypeError\u001b[0m: 'tuple' object does not support item assignment"
     ]
    }
   ],
   "source": [
    "num_tuple[0]=5"
   ]
  },
  {
   "cell_type": "code",
   "execution_count": 9,
   "id": "c7638e29-633e-45ed-bd18-eb4bfb318bfb",
   "metadata": {},
   "outputs": [
    {
     "data": {
      "text/plain": [
       "1"
      ]
     },
     "execution_count": 9,
     "metadata": {},
     "output_type": "execute_result"
    }
   ],
   "source": [
    "num_tuple[0]"
   ]
  },
  {
   "cell_type": "code",
   "execution_count": 10,
   "id": "d14caa57-f178-47d6-b76e-b6af9205fde7",
   "metadata": {},
   "outputs": [
    {
     "data": {
      "text/plain": [
       "[1, 2, 3, 4]"
      ]
     },
     "execution_count": 10,
     "metadata": {},
     "output_type": "execute_result"
    }
   ],
   "source": [
    "list(num_tuple) #相互に変換"
   ]
  },
  {
   "cell_type": "code",
   "execution_count": 11,
   "id": "222a1984-5ac9-4c96-8241-774aa1fe5cc1",
   "metadata": {},
   "outputs": [
    {
     "data": {
      "text/plain": [
       "(5, 2, 3, 4)"
      ]
     },
     "execution_count": 11,
     "metadata": {},
     "output_type": "execute_result"
    }
   ],
   "source": [
    "tuple(num_list) #相互に変換"
   ]
  },
  {
   "cell_type": "code",
   "execution_count": 12,
   "id": "cf7dd88c-b686-4a9a-a2a9-02081d8a804a",
   "metadata": {},
   "outputs": [
    {
     "data": {
      "text/plain": [
       "\u001b[1;31mType:\u001b[0m        list\n",
       "\u001b[1;31mString form:\u001b[0m [5, 2, 3, 4]\n",
       "\u001b[1;31mLength:\u001b[0m      4\n",
       "\u001b[1;31mDocstring:\u001b[0m  \n",
       "Built-in mutable sequence.\n",
       "\n",
       "If no argument is given, the constructor creates a new empty list.\n",
       "The argument must be an iterable if specified."
      ]
     },
     "metadata": {},
     "output_type": "display_data"
    }
   ],
   "source": [
    "num_list?"
   ]
  },
  {
   "cell_type": "code",
   "execution_count": 13,
   "id": "9371c636-b55e-4abe-a94f-fc6f6c4d5ac3",
   "metadata": {},
   "outputs": [
    {
     "data": {
      "text/plain": [
       "\u001b[1;31mType:\u001b[0m        tuple\n",
       "\u001b[1;31mString form:\u001b[0m (1, 2, 3, 4)\n",
       "\u001b[1;31mLength:\u001b[0m      4\n",
       "\u001b[1;31mDocstring:\u001b[0m  \n",
       "Built-in immutable sequence.\n",
       "\n",
       "If no argument is given, the constructor returns an empty tuple.\n",
       "If iterable is specified the tuple is initialized from iterable's items.\n",
       "\n",
       "If the argument is a tuple, the return value is the same object."
      ]
     },
     "metadata": {},
     "output_type": "display_data"
    }
   ],
   "source": [
    "num_tuple?"
   ]
  },
  {
   "cell_type": "code",
   "execution_count": null,
   "id": "91cb4ee3-f7fd-48b5-9ce6-c011da7c2340",
   "metadata": {},
   "outputs": [],
   "source": []
  }
 ],
 "metadata": {
  "kernelspec": {
   "display_name": "Python [conda env:base] *",
   "language": "python",
   "name": "conda-base-py"
  },
  "language_info": {
   "codemirror_mode": {
    "name": "ipython",
    "version": 3
   },
   "file_extension": ".py",
   "mimetype": "text/x-python",
   "name": "python",
   "nbconvert_exporter": "python",
   "pygments_lexer": "ipython3",
   "version": "3.12.7"
  }
 },
 "nbformat": 4,
 "nbformat_minor": 5
}
