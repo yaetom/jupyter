{
 "cells": [
  {
   "cell_type": "code",
   "execution_count": 1,
   "id": "2d6d298c-a292-440e-8212-f4fb9f1d1992",
   "metadata": {},
   "outputs": [],
   "source": [
    "num_list=[]\n",
    "for i in range(11):\n",
    "    num_list.append(i**2)"
   ]
  },
  {
   "cell_type": "code",
   "execution_count": 2,
   "id": "53a9069b-70af-4234-99b9-756f6716db36",
   "metadata": {},
   "outputs": [
    {
     "data": {
      "text/plain": [
       "[0, 1, 4, 9, 16, 25, 36, 49, 64, 81, 100]"
      ]
     },
     "execution_count": 2,
     "metadata": {},
     "output_type": "execute_result"
    }
   ],
   "source": [
    "num_list"
   ]
  },
  {
   "cell_type": "code",
   "execution_count": 3,
   "id": "c5af7115-00fd-43e3-9f1d-3cdcb2f54132",
   "metadata": {},
   "outputs": [],
   "source": [
    "num_list2=[i**2 for i in range(11)]"
   ]
  },
  {
   "cell_type": "code",
   "execution_count": 4,
   "id": "ca5029eb-84c6-4abe-8bd9-5ab529312aa4",
   "metadata": {},
   "outputs": [
    {
     "data": {
      "text/plain": [
       "[0, 1, 4, 9, 16, 25, 36, 49, 64, 81, 100]"
      ]
     },
     "execution_count": 4,
     "metadata": {},
     "output_type": "execute_result"
    }
   ],
   "source": [
    "num_list2"
   ]
  },
  {
   "cell_type": "code",
   "execution_count": 5,
   "id": "d2113963-f54b-4fc9-b544-4a93e28db0e7",
   "metadata": {},
   "outputs": [],
   "source": [
    "import os"
   ]
  },
  {
   "cell_type": "code",
   "execution_count": 6,
   "id": "5b4e2485-8f14-4860-8a7f-fa8f531a5a71",
   "metadata": {},
   "outputs": [],
   "source": [
    "fileList=os.listdir()"
   ]
  },
  {
   "cell_type": "code",
   "execution_count": 7,
   "id": "7777fc0e-711e-4e29-a621-4e8993e5c1d2",
   "metadata": {},
   "outputs": [
    {
     "data": {
      "text/plain": [
       "['.ipynb_checkpoints',\n",
       " '00_type.ipynb',\n",
       " '01_list.ipynb',\n",
       " '02_list_.ipynb',\n",
       " '03_list_string.ipynb',\n",
       " '04_list_adddel.ipynb',\n",
       " '05_list_string.ipynb',\n",
       " '06_tuple.ipynb',\n",
       " '07_dict.ipynb',\n",
       " '08_print_input.ipynb',\n",
       " '09_for.ipynb',\n",
       " '10_enumerate.ipynb',\n",
       " '11_open_r.ipynb',\n",
       " '12_opne_w.ipynb',\n",
       " '12_output.txt',\n",
       " '13_with.ipynb',\n",
       " '14_def.ipynb',\n",
       " '15_lambda.ipynb',\n",
       " '16_lambda_map_filter.ipynb',\n",
       " '17_import.ipynb',\n",
       " '18_os.ipynb',\n",
       " 'resources',\n",
       " 'Untitled.ipynb']"
      ]
     },
     "execution_count": 7,
     "metadata": {},
     "output_type": "execute_result"
    }
   ],
   "source": [
    "fileList"
   ]
  },
  {
   "cell_type": "code",
   "execution_count": 11,
   "id": "efb9f4b9-ca35-403d-8c44-1cd440c9d31a",
   "metadata": {},
   "outputs": [],
   "source": [
    "textList=[i for i in fileList if i[-4:] == \".txt\"]"
   ]
  },
  {
   "cell_type": "code",
   "execution_count": 12,
   "id": "4e81f041-3afc-4421-aa5b-a48049342420",
   "metadata": {},
   "outputs": [
    {
     "data": {
      "text/plain": [
       "['12_output.txt']"
      ]
     },
     "execution_count": 12,
     "metadata": {},
     "output_type": "execute_result"
    }
   ],
   "source": [
    "textList"
   ]
  },
  {
   "cell_type": "code",
   "execution_count": null,
   "id": "13dddac8-d2a7-488b-978f-74bf3eddb690",
   "metadata": {},
   "outputs": [],
   "source": []
  }
 ],
 "metadata": {
  "kernelspec": {
   "display_name": "Python 3 (ipykernel)",
   "language": "python",
   "name": "python3"
  },
  "language_info": {
   "codemirror_mode": {
    "name": "ipython",
    "version": 3
   },
   "file_extension": ".py",
   "mimetype": "text/x-python",
   "name": "python",
   "nbconvert_exporter": "python",
   "pygments_lexer": "ipython3",
   "version": "3.10.2"
  }
 },
 "nbformat": 4,
 "nbformat_minor": 5
}
