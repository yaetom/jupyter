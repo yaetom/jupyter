{
 "cells": [
  {
   "cell_type": "code",
   "execution_count": 1,
   "id": "4bdd5cc0-0232-4008-880e-021ac660a94c",
   "metadata": {},
   "outputs": [],
   "source": [
    "import re"
   ]
  },
  {
   "cell_type": "code",
   "execution_count": 2,
   "id": "8174c0c0-7981-418e-9be2-e42e86a22803",
   "metadata": {},
   "outputs": [],
   "source": [
    "obj=\"-3.01E-10   1.000123   1.051E1  NaN\""
   ]
  },
  {
   "cell_type": "code",
   "execution_count": 3,
   "id": "809ce1f2-f50a-4988-87ae-3d0af3073c28",
   "metadata": {},
   "outputs": [
    {
     "data": {
      "text/plain": [
       "['-3.', '1.', '1.']"
      ]
     },
     "execution_count": 3,
     "metadata": {},
     "output_type": "execute_result"
    }
   ],
   "source": [
    "re.findall(r\"-?\\d\\.\",obj)"
   ]
  },
  {
   "cell_type": "code",
   "execution_count": 4,
   "id": "2374f221-8b5d-4572-bff5-424b4967e7b4",
   "metadata": {},
   "outputs": [
    {
     "data": {
      "text/plain": [
       "['-3.01', '1.000123', '1.051']"
      ]
     },
     "execution_count": 4,
     "metadata": {},
     "output_type": "execute_result"
    }
   ],
   "source": [
    "re.findall(r\"-?\\d\\.\\d*\",obj)"
   ]
  },
  {
   "cell_type": "code",
   "execution_count": 5,
   "id": "9fb30451-199b-4999-b714-bfb5a28e8f25",
   "metadata": {},
   "outputs": [
    {
     "data": {
      "text/plain": [
       "['-3.01E-10', '1.000123', '1.051E1']"
      ]
     },
     "execution_count": 5,
     "metadata": {},
     "output_type": "execute_result"
    }
   ],
   "source": [
    "re.findall(r\"-?\\d\\.\\d*E?-?\\d?\\d?\",obj)"
   ]
  },
  {
   "cell_type": "code",
   "execution_count": 6,
   "id": "38c3b427-0eda-4102-86f4-9fe8c90d7eb7",
   "metadata": {},
   "outputs": [
    {
     "data": {
      "text/plain": [
       "['-3.01E-10', '1.000123', '1.051E1', 'NaN']"
      ]
     },
     "execution_count": 6,
     "metadata": {},
     "output_type": "execute_result"
    }
   ],
   "source": [
    "re.findall(r\"(-?\\d\\.\\d*E?-?\\d?\\d?|NaN)\",obj)"
   ]
  },
  {
   "cell_type": "code",
   "execution_count": null,
   "id": "a9a6f7cf-6ab6-44f9-97ce-5b20b30b80ee",
   "metadata": {},
   "outputs": [],
   "source": []
  }
 ],
 "metadata": {
  "kernelspec": {
   "display_name": "Python 3 (ipykernel)",
   "language": "python",
   "name": "python3"
  },
  "language_info": {
   "codemirror_mode": {
    "name": "ipython",
    "version": 3
   },
   "file_extension": ".py",
   "mimetype": "text/x-python",
   "name": "python",
   "nbconvert_exporter": "python",
   "pygments_lexer": "ipython3",
   "version": "3.10.2"
  }
 },
 "nbformat": 4,
 "nbformat_minor": 5
}
