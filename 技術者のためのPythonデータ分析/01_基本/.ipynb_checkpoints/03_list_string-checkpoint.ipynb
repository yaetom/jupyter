{
 "cells": [
  {
   "cell_type": "code",
   "execution_count": 2,
   "id": "c4b96130-83d8-4706-b5f3-666042b76c8f",
   "metadata": {},
   "outputs": [
    {
     "data": {
      "text/plain": [
       "'Python3.6'"
      ]
     },
     "execution_count": 2,
     "metadata": {},
     "output_type": "execute_result"
    }
   ],
   "source": [
    "moji=\"Python3.6\"\n",
    "moji"
   ]
  },
  {
   "cell_type": "code",
   "execution_count": 3,
   "id": "d5c3edf4-be7a-42d3-ac19-9bf6bf30f6c2",
   "metadata": {},
   "outputs": [
    {
     "data": {
      "text/plain": [
       "'P'"
      ]
     },
     "execution_count": 3,
     "metadata": {},
     "output_type": "execute_result"
    }
   ],
   "source": [
    "moji[0]"
   ]
  },
  {
   "cell_type": "code",
   "execution_count": 4,
   "id": "64e7cc4d-939a-4ece-8c2f-d4289ac6dbba",
   "metadata": {},
   "outputs": [
    {
     "data": {
      "text/plain": [
       "'6'"
      ]
     },
     "execution_count": 4,
     "metadata": {},
     "output_type": "execute_result"
    }
   ],
   "source": [
    "moji[-1]"
   ]
  },
  {
   "cell_type": "code",
   "execution_count": 8,
   "id": "3b3b2a4e-5933-487a-8812-ba035853329b",
   "metadata": {},
   "outputs": [
    {
     "data": {
      "text/plain": [
       "'yth'"
      ]
     },
     "execution_count": 8,
     "metadata": {},
     "output_type": "execute_result"
    }
   ],
   "source": [
    "moji[1:4]"
   ]
  },
  {
   "cell_type": "code",
   "execution_count": 9,
   "id": "219cf4a4-3646-4a1a-b111-0a4e4a618299",
   "metadata": {},
   "outputs": [
    {
     "data": {
      "text/plain": [
       "'3.6'"
      ]
     },
     "execution_count": 9,
     "metadata": {},
     "output_type": "execute_result"
    }
   ],
   "source": [
    "moji[-3:]"
   ]
  },
  {
   "cell_type": "code",
   "execution_count": 23,
   "id": "5bba434d-a34f-4c73-b42e-20926448ff29",
   "metadata": {},
   "outputs": [
    {
     "data": {
      "text/plain": [
       "'Hello\\tWorld!\\n'"
      ]
     },
     "execution_count": 23,
     "metadata": {},
     "output_type": "execute_result"
    }
   ],
   "source": [
    "moji2=\"Hello\\tWorld!\\n\"\n",
    "moji2"
   ]
  },
  {
   "cell_type": "code",
   "execution_count": 24,
   "id": "154c8fea-348f-4702-b383-6d386f1c06f0",
   "metadata": {},
   "outputs": [
    {
     "name": "stdout",
     "output_type": "stream",
     "text": [
      "Hello\tWorld!\n",
      "\n"
     ]
    }
   ],
   "source": [
    "print(moji2)"
   ]
  },
  {
   "cell_type": "code",
   "execution_count": null,
   "id": "c7e5f0f6-e7a8-48f5-960f-593d9a88a23b",
   "metadata": {},
   "outputs": [],
   "source": []
  }
 ],
 "metadata": {
  "kernelspec": {
   "display_name": "Python 3 (ipykernel)",
   "language": "python",
   "name": "python3"
  },
  "language_info": {
   "codemirror_mode": {
    "name": "ipython",
    "version": 3
   },
   "file_extension": ".py",
   "mimetype": "text/x-python",
   "name": "python",
   "nbconvert_exporter": "python",
   "pygments_lexer": "ipython3",
   "version": "3.10.2"
  }
 },
 "nbformat": 4,
 "nbformat_minor": 5
}
