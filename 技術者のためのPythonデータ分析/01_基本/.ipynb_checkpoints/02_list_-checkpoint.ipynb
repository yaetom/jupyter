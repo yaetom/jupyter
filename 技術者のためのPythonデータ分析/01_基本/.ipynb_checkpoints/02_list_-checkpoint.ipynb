{
 "cells": [
  {
   "cell_type": "code",
   "execution_count": 1,
   "id": "ce94e9fc-114c-4a35-8ba7-8fd4e3b200d3",
   "metadata": {},
   "outputs": [],
   "source": [
    "num_list=[1,2,3,4,5,6,7,8,9]"
   ]
  },
  {
   "cell_type": "code",
   "execution_count": 5,
   "id": "44756a89-29b4-43b6-8f62-a67a6c39b4be",
   "metadata": {},
   "outputs": [
    {
     "data": {
      "text/plain": [
       "[1, 2, 3, 4]"
      ]
     },
     "execution_count": 5,
     "metadata": {},
     "output_type": "execute_result"
    }
   ],
   "source": [
    "num_list[0:4]"
   ]
  },
  {
   "cell_type": "code",
   "execution_count": 6,
   "id": "08816335-7117-48a2-8a7d-9b16be6e9718",
   "metadata": {},
   "outputs": [
    {
     "data": {
      "text/plain": [
       "[1, 2, 3, 4]"
      ]
     },
     "execution_count": 6,
     "metadata": {},
     "output_type": "execute_result"
    }
   ],
   "source": [
    "num_list[:4]"
   ]
  },
  {
   "cell_type": "code",
   "execution_count": 7,
   "id": "80e23b69-7cd6-454f-a11c-ae4131bbd079",
   "metadata": {},
   "outputs": [
    {
     "data": {
      "text/plain": [
       "[7, 8, 9]"
      ]
     },
     "execution_count": 7,
     "metadata": {},
     "output_type": "execute_result"
    }
   ],
   "source": [
    "num_list[-3:]"
   ]
  },
  {
   "cell_type": "code",
   "execution_count": null,
   "id": "70ebbfac-2794-42cb-b7b9-48893693dee4",
   "metadata": {},
   "outputs": [],
   "source": []
  }
 ],
 "metadata": {
  "kernelspec": {
   "display_name": "Python 3 (ipykernel)",
   "language": "python",
   "name": "python3"
  },
  "language_info": {
   "codemirror_mode": {
    "name": "ipython",
    "version": 3
   },
   "file_extension": ".py",
   "mimetype": "text/x-python",
   "name": "python",
   "nbconvert_exporter": "python",
   "pygments_lexer": "ipython3",
   "version": "3.10.2"
  }
 },
 "nbformat": 4,
 "nbformat_minor": 5
}
