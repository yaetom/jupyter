{
 "cells": [
  {
   "cell_type": "code",
   "execution_count": 4,
   "id": "c75d159d-d97e-4859-b526-f34e719b3552",
   "metadata": {},
   "outputs": [],
   "source": [
    "ProgLang=\"Pytohn-C-Java-Perl   \\n\""
   ]
  },
  {
   "cell_type": "code",
   "execution_count": 2,
   "id": "110d0bf4-40b1-4dd9-8b79-daa65ff2e230",
   "metadata": {},
   "outputs": [
    {
     "data": {
      "text/plain": [
       "'Pytohn-C-Java-Perl   \\n'"
      ]
     },
     "execution_count": 2,
     "metadata": {},
     "output_type": "execute_result"
    }
   ],
   "source": [
    "ProgLang"
   ]
  },
  {
   "cell_type": "markdown",
   "id": "0217e01f-83c4-4601-94fb-80e8120310a6",
   "metadata": {},
   "source": [
    "半角スペースと改行を除く"
   ]
  },
  {
   "cell_type": "code",
   "execution_count": 3,
   "id": "8da044d2-52f4-4493-89f0-2d3195f868b7",
   "metadata": {},
   "outputs": [
    {
     "data": {
      "text/plain": [
       "'Pytohn-C-Java-Perl'"
      ]
     },
     "execution_count": 3,
     "metadata": {},
     "output_type": "execute_result"
    }
   ],
   "source": [
    "ProgLang.strip()"
   ]
  },
  {
   "cell_type": "code",
   "execution_count": 4,
   "id": "da5acf32-f8f1-4fc4-9a7e-3cfa540c15ad",
   "metadata": {},
   "outputs": [
    {
     "data": {
      "text/plain": [
       "9"
      ]
     },
     "execution_count": 4,
     "metadata": {},
     "output_type": "execute_result"
    }
   ],
   "source": [
    "ProgLang.find(\"Java\")"
   ]
  },
  {
   "cell_type": "code",
   "execution_count": 5,
   "id": "d34e4e61-ca02-497a-acdd-0b73feb343bf",
   "metadata": {},
   "outputs": [
    {
     "data": {
      "text/plain": [
       "6"
      ]
     },
     "execution_count": 5,
     "metadata": {},
     "output_type": "execute_result"
    }
   ],
   "source": [
    "ProgLang.find(\"-\")"
   ]
  },
  {
   "cell_type": "code",
   "execution_count": 6,
   "id": "8fa2af8c-a18e-4554-a046-f0dee679b7d9",
   "metadata": {},
   "outputs": [
    {
     "data": {
      "text/plain": [
       "-1"
      ]
     },
     "execution_count": 6,
     "metadata": {},
     "output_type": "execute_result"
    }
   ],
   "source": [
    "ProgLang.find(\"C++\")"
   ]
  },
  {
   "cell_type": "code",
   "execution_count": 7,
   "id": "77fb7466-e520-44ea-b948-7a13c7378176",
   "metadata": {},
   "outputs": [
    {
     "data": {
      "text/plain": [
       "True"
      ]
     },
     "execution_count": 7,
     "metadata": {},
     "output_type": "execute_result"
    }
   ],
   "source": [
    "\"Perl\" in ProgLang"
   ]
  },
  {
   "cell_type": "markdown",
   "id": "04ae703c-34ea-4648-91fd-1d6404adf0be",
   "metadata": {},
   "source": [
    "文字列の置き換え"
   ]
  },
  {
   "cell_type": "code",
   "execution_count": 8,
   "id": "68c0d214-b050-45d5-ad8e-58a42a43142e",
   "metadata": {},
   "outputs": [
    {
     "data": {
      "text/plain": [
       "'Pytohn-C++-Java-Perl   \\n'"
      ]
     },
     "execution_count": 8,
     "metadata": {},
     "output_type": "execute_result"
    }
   ],
   "source": [
    "ProgLang.replace(\"C\",\"C++\")"
   ]
  },
  {
   "cell_type": "code",
   "execution_count": 6,
   "id": "cc860af6-25b2-41c7-9810-52c1956dd7e0",
   "metadata": {},
   "outputs": [],
   "source": [
    "ProgLang2=ProgLang.strip()\n",
    "ProgList=ProgLang2.split(\"-\")"
   ]
  },
  {
   "cell_type": "code",
   "execution_count": 7,
   "id": "0f62c4b6-61ba-4e04-961c-156bbe50c4fd",
   "metadata": {},
   "outputs": [
    {
     "data": {
      "text/plain": [
       "['Pytohn', 'C', 'Java', 'Perl']"
      ]
     },
     "execution_count": 7,
     "metadata": {},
     "output_type": "execute_result"
    }
   ],
   "source": [
    "ProgList"
   ]
  },
  {
   "cell_type": "code",
   "execution_count": 8,
   "id": "8fc6913d-4bd9-4707-a871-b0aaed9610da",
   "metadata": {},
   "outputs": [
    {
     "data": {
      "text/plain": [
       "'Pytohn,C,Java,Perl'"
      ]
     },
     "execution_count": 8,
     "metadata": {},
     "output_type": "execute_result"
    }
   ],
   "source": [
    "\",\".join(ProgList)"
   ]
  },
  {
   "cell_type": "code",
   "execution_count": null,
   "id": "ebb7d757-02e1-4927-8164-eb041c345e8b",
   "metadata": {},
   "outputs": [],
   "source": []
  }
 ],
 "metadata": {
  "kernelspec": {
   "display_name": "Python 3 (ipykernel)",
   "language": "python",
   "name": "python3"
  },
  "language_info": {
   "codemirror_mode": {
    "name": "ipython",
    "version": 3
   },
   "file_extension": ".py",
   "mimetype": "text/x-python",
   "name": "python",
   "nbconvert_exporter": "python",
   "pygments_lexer": "ipython3",
   "version": "3.10.2"
  }
 },
 "nbformat": 4,
 "nbformat_minor": 5
}
