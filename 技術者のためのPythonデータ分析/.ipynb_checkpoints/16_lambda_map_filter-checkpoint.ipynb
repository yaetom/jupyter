{
 "cells": [
  {
   "cell_type": "code",
   "execution_count": 1,
   "id": "160904f8-287b-4edd-a32f-c366dcbb1dd3",
   "metadata": {},
   "outputs": [],
   "source": [
    "num_list=[1,2,3,4,5,6,7,8]"
   ]
  },
  {
   "cell_type": "code",
   "execution_count": 2,
   "id": "f6e42076-5170-4101-b19f-46bc55ec5a45",
   "metadata": {},
   "outputs": [],
   "source": [
    "func=lambda x:x**2"
   ]
  },
  {
   "cell_type": "code",
   "execution_count": 3,
   "id": "05005d36-2ff3-4667-935e-d16d08325015",
   "metadata": {},
   "outputs": [
    {
     "data": {
      "text/plain": [
       "9.0"
      ]
     },
     "execution_count": 3,
     "metadata": {},
     "output_type": "execute_result"
    }
   ],
   "source": [
    "func(3.0)"
   ]
  },
  {
   "cell_type": "code",
   "execution_count": 4,
   "id": "2d2f56de-8df2-49bd-a8cd-a486a7349597",
   "metadata": {},
   "outputs": [
    {
     "data": {
      "text/plain": [
       "[1, 4, 9, 16, 25, 36, 49, 64]"
      ]
     },
     "execution_count": 4,
     "metadata": {},
     "output_type": "execute_result"
    }
   ],
   "source": [
    "list(map(func,num_list))"
   ]
  },
  {
   "cell_type": "code",
   "execution_count": 6,
   "id": "b7fa4d75-e18a-41df-a82f-c3fe06697cc8",
   "metadata": {},
   "outputs": [],
   "source": [
    "fileList=[\"aaa.txt\",\"bbb.csv2\",\"ccc.xlsx\"]"
   ]
  },
  {
   "cell_type": "code",
   "execution_count": 7,
   "id": "4a5f67d8-539f-45ac-a2ac-30ffbb2b5a49",
   "metadata": {},
   "outputs": [],
   "source": [
    "func2=lambda x:x[-4:] == \".txt\""
   ]
  },
  {
   "cell_type": "code",
   "execution_count": 8,
   "id": "fc35a529-db65-4718-9252-ac87841178cf",
   "metadata": {},
   "outputs": [
    {
     "data": {
      "text/plain": [
       "['aaa.txt']"
      ]
     },
     "execution_count": 8,
     "metadata": {},
     "output_type": "execute_result"
    }
   ],
   "source": [
    "list(filter(func2,fileList))"
   ]
  },
  {
   "cell_type": "code",
   "execution_count": null,
   "id": "cc3a3c51-eae1-42c6-9684-33276bee916b",
   "metadata": {},
   "outputs": [],
   "source": []
  }
 ],
 "metadata": {
  "kernelspec": {
   "display_name": "Python 3 (ipykernel)",
   "language": "python",
   "name": "python3"
  },
  "language_info": {
   "codemirror_mode": {
    "name": "ipython",
    "version": 3
   },
   "file_extension": ".py",
   "mimetype": "text/x-python",
   "name": "python",
   "nbconvert_exporter": "python",
   "pygments_lexer": "ipython3",
   "version": "3.10.2"
  }
 },
 "nbformat": 4,
 "nbformat_minor": 5
}
