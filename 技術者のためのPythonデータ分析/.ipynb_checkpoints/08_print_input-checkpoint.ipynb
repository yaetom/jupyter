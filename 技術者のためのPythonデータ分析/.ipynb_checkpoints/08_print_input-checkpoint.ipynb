{
 "cells": [
  {
   "cell_type": "code",
   "execution_count": 17,
   "id": "2ccf610f-9ae0-4d1a-8c8d-673ab3f21ac4",
   "metadata": {},
   "outputs": [
    {
     "name": "stdout",
     "output_type": "stream",
     "text": [
      "a= 5\n",
      "a=5 b=3\n"
     ]
    }
   ],
   "source": [
    "a=5\n",
    "b=3\n",
    "print(\"a=\",a)\n",
    "print(\"a={0} b={1}\".format(a,b))"
   ]
  },
  {
   "cell_type": "code",
   "execution_count": 9,
   "id": "e6251c1d-94c5-4f2a-aca5-c7a4ed4c2300",
   "metadata": {},
   "outputs": [
    {
     "name": "stdin",
     "output_type": "stream",
     "text": [
      "input radius:  5\n"
     ]
    },
    {
     "name": "stdout",
     "output_type": "stream",
     "text": [
      "55555\n"
     ]
    }
   ],
   "source": [
    "r=input(\"input radius: \")\n",
    "print(r*5)"
   ]
  },
  {
   "cell_type": "code",
   "execution_count": 10,
   "id": "4e385802-8343-4a5f-8f7f-3fef2c586fcc",
   "metadata": {},
   "outputs": [
    {
     "name": "stdin",
     "output_type": "stream",
     "text": [
      "input radius:  5\n"
     ]
    }
   ],
   "source": [
    "r=input(\"input radius: \")"
   ]
  },
  {
   "cell_type": "code",
   "execution_count": 12,
   "id": "1cda9d6f-47f5-4b6e-893d-16ad254564b0",
   "metadata": {},
   "outputs": [
    {
     "data": {
      "text/plain": [
       "str"
      ]
     },
     "execution_count": 12,
     "metadata": {},
     "output_type": "execute_result"
    }
   ],
   "source": [
    "type(r)"
   ]
  },
  {
   "cell_type": "code",
   "execution_count": 13,
   "id": "650ebefd-18bf-4c22-b621-d604bcc0699d",
   "metadata": {},
   "outputs": [
    {
     "name": "stdin",
     "output_type": "stream",
     "text": [
      "input radius:  5\n"
     ]
    }
   ],
   "source": [
    "rr=float(input(\"input radius: \"))"
   ]
  },
  {
   "cell_type": "code",
   "execution_count": 14,
   "id": "c9a84fcf-75fd-4917-a6c9-a0ad3ee89a12",
   "metadata": {},
   "outputs": [
    {
     "data": {
      "text/plain": [
       "float"
      ]
     },
     "execution_count": 14,
     "metadata": {},
     "output_type": "execute_result"
    }
   ],
   "source": [
    "type(rr)"
   ]
  },
  {
   "cell_type": "code",
   "execution_count": 15,
   "id": "e0f54565-1f16-44c4-a922-9ace968f8ae3",
   "metadata": {},
   "outputs": [
    {
     "name": "stdin",
     "output_type": "stream",
     "text": [
      "input radius:  5\n"
     ]
    },
    {
     "name": "stdout",
     "output_type": "stream",
     "text": [
      "25.0\n"
     ]
    }
   ],
   "source": [
    "rr=float(input(\"input radius: \"))\n",
    "print(rr*5)"
   ]
  },
  {
   "cell_type": "code",
   "execution_count": null,
   "id": "156c6121-24aa-4c34-b366-97e501868b9d",
   "metadata": {},
   "outputs": [],
   "source": []
  }
 ],
 "metadata": {
  "kernelspec": {
   "display_name": "Python 3 (ipykernel)",
   "language": "python",
   "name": "python3"
  },
  "language_info": {
   "codemirror_mode": {
    "name": "ipython",
    "version": 3
   },
   "file_extension": ".py",
   "mimetype": "text/x-python",
   "name": "python",
   "nbconvert_exporter": "python",
   "pygments_lexer": "ipython3",
   "version": "3.10.2"
  }
 },
 "nbformat": 4,
 "nbformat_minor": 5
}
