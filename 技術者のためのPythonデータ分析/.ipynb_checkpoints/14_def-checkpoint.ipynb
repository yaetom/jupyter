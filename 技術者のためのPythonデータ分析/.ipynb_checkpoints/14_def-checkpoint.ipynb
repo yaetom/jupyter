{
 "cells": [
  {
   "cell_type": "code",
   "execution_count": 1,
   "id": "c6f20ae8-32c8-4e60-a6e7-66500cd51f6d",
   "metadata": {},
   "outputs": [],
   "source": [
    "def distance(x,y,z):\n",
    "    dis=(x**2+y**2+z**2)**0.5\n",
    "    return dis"
   ]
  },
  {
   "cell_type": "code",
   "execution_count": 2,
   "id": "4f8c79aa-7912-4a05-8cb8-0095d08cf0c5",
   "metadata": {},
   "outputs": [
    {
     "data": {
      "text/plain": [
       "3.7416573867739413"
      ]
     },
     "execution_count": 2,
     "metadata": {},
     "output_type": "execute_result"
    }
   ],
   "source": [
    "distance(3.0,1.0,2.0)"
   ]
  },
  {
   "cell_type": "code",
   "execution_count": 4,
   "id": "60509776-5eb1-45c4-853a-5253554003d2",
   "metadata": {},
   "outputs": [],
   "source": [
    "def distance_d(x=1.0,y=2.0,z=3.0):\n",
    "    dis=(x**2+y**2+z**2)**0.5\n",
    "    return dis"
   ]
  },
  {
   "cell_type": "code",
   "execution_count": 5,
   "id": "c889eb45-0808-4c66-a265-a66363ae4c51",
   "metadata": {},
   "outputs": [
    {
     "data": {
      "text/plain": [
       "3.7416573867739413"
      ]
     },
     "execution_count": 5,
     "metadata": {},
     "output_type": "execute_result"
    }
   ],
   "source": [
    "distance_d()"
   ]
  },
  {
   "cell_type": "code",
   "execution_count": 8,
   "id": "f313ac14-5066-4d7f-891a-e100d489862b",
   "metadata": {},
   "outputs": [
    {
     "data": {
      "text/plain": [
       "4.69041575982343"
      ]
     },
     "execution_count": 8,
     "metadata": {},
     "output_type": "execute_result"
    }
   ],
   "source": [
    "distance_d(3.0)"
   ]
  },
  {
   "cell_type": "code",
   "execution_count": 9,
   "id": "607be4b8-a1f5-4572-93ee-9e34a0c5bc0b",
   "metadata": {},
   "outputs": [
    {
     "ename": "SyntaxError",
     "evalue": "invalid syntax (1081183802.py, line 1)",
     "output_type": "error",
     "traceback": [
      "\u001b[1;36m  Cell \u001b[1;32mIn[9], line 1\u001b[1;36m\u001b[0m\n\u001b[1;33m    distance_d(,,)\u001b[0m\n\u001b[1;37m               ^\u001b[0m\n\u001b[1;31mSyntaxError\u001b[0m\u001b[1;31m:\u001b[0m invalid syntax\n"
     ]
    }
   ],
   "source": [
    "distance_d(,,)"
   ]
  },
  {
   "cell_type": "code",
   "execution_count": null,
   "id": "13137545-2111-415b-b325-a6fa4183cbaa",
   "metadata": {},
   "outputs": [],
   "source": []
  }
 ],
 "metadata": {
  "kernelspec": {
   "display_name": "Python 3 (ipykernel)",
   "language": "python",
   "name": "python3"
  },
  "language_info": {
   "codemirror_mode": {
    "name": "ipython",
    "version": 3
   },
   "file_extension": ".py",
   "mimetype": "text/x-python",
   "name": "python",
   "nbconvert_exporter": "python",
   "pygments_lexer": "ipython3",
   "version": "3.10.2"
  }
 },
 "nbformat": 4,
 "nbformat_minor": 5
}
