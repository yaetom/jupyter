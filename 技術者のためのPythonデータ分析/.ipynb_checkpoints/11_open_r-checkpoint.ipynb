{
 "cells": [
  {
   "cell_type": "code",
   "execution_count": 1,
   "id": "73d071dc-dc19-40d7-9057-b20ed6ce184b",
   "metadata": {},
   "outputs": [
    {
     "name": "stdout",
     "output_type": "stream",
     "text": [
      "2016 03 05\n",
      "\n",
      "0\t1.0\n",
      "\n",
      "1\t1.1\n",
      "\n",
      "2\t1.4\n",
      "\n",
      "3\t1.3\n",
      "\n",
      "4\t1.4\n",
      "\n",
      "5\t1.8\n",
      "\n"
     ]
    }
   ],
   "source": [
    "fileName=\"./resources/sample.txt\"\n",
    "f=open(fileName,mode=\"r\",encoding=\"utf-8\")\n",
    "for i in f:\n",
    "    print(i)"
   ]
  },
  {
   "cell_type": "code",
   "execution_count": 2,
   "id": "f00e321f-b782-4e6c-8784-dc40c6411af3",
   "metadata": {},
   "outputs": [
    {
     "name": "stdout",
     "output_type": "stream",
     "text": [
      "2016 03 05\n",
      "0\t1.0\n",
      "1\t1.1\n",
      "2\t1.4\n",
      "3\t1.3\n",
      "4\t1.4\n",
      "5\t1.8\n"
     ]
    }
   ],
   "source": [
    "fileName=\"./resources/sample.txt\"\n",
    "f=open(fileName,mode=\"r\",encoding=\"utf-8\")\n",
    "for i in f:\n",
    "    k=i.strip()\n",
    "    print(k)"
   ]
  },
  {
   "cell_type": "code",
   "execution_count": 7,
   "id": "3516b035-ba5e-4747-9f6f-dc9709172915",
   "metadata": {},
   "outputs": [
    {
     "name": "stdout",
     "output_type": "stream",
     "text": [
      "1.0\n",
      "1.1\n",
      "1.4\n",
      "1.3\n",
      "1.4\n",
      "1.8\n"
     ]
    }
   ],
   "source": [
    "fileName=\"./resources/sample.txt\"\n",
    "f=open(fileName,mode=\"r\",encoding=\"utf-8\")\n",
    "for i,j in enumerate(f):\n",
    "    k=j.strip()\n",
    "    if i>0:\n",
    "        k2=k.split(\"\\t\")\n",
    "        print(k2[1])"
   ]
  },
  {
   "cell_type": "code",
   "execution_count": null,
   "id": "9ac28753-2410-4216-92bf-2cd5aeb5e631",
   "metadata": {},
   "outputs": [],
   "source": []
  }
 ],
 "metadata": {
  "kernelspec": {
   "display_name": "Python 3 (ipykernel)",
   "language": "python",
   "name": "python3"
  },
  "language_info": {
   "codemirror_mode": {
    "name": "ipython",
    "version": 3
   },
   "file_extension": ".py",
   "mimetype": "text/x-python",
   "name": "python",
   "nbconvert_exporter": "python",
   "pygments_lexer": "ipython3",
   "version": "3.10.2"
  }
 },
 "nbformat": 4,
 "nbformat_minor": 5
}
