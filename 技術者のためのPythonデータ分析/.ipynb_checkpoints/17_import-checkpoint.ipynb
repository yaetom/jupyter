{
 "cells": [
  {
   "cell_type": "code",
   "execution_count": 1,
   "id": "2441308a-889a-4041-85a1-a8f9faaf4c49",
   "metadata": {},
   "outputs": [],
   "source": [
    "import numpy"
   ]
  },
  {
   "cell_type": "code",
   "execution_count": 2,
   "id": "927689f6-52fc-44c1-bfd8-930dcc94a1be",
   "metadata": {},
   "outputs": [
    {
     "data": {
      "text/plain": [
       "3.0"
      ]
     },
     "execution_count": 2,
     "metadata": {},
     "output_type": "execute_result"
    }
   ],
   "source": [
    "numpy.abs(-3.0)"
   ]
  },
  {
   "cell_type": "code",
   "execution_count": 3,
   "id": "25deddea-f852-4e76-9f1b-f1f391b42336",
   "metadata": {},
   "outputs": [
    {
     "data": {
      "text/plain": [
       "0.9234184711725134"
      ]
     },
     "execution_count": 3,
     "metadata": {},
     "output_type": "execute_result"
    }
   ],
   "source": [
    "numpy.random.rand()"
   ]
  },
  {
   "cell_type": "code",
   "execution_count": 4,
   "id": "f2e4ad4d-b805-4761-857f-c64d4d166edb",
   "metadata": {},
   "outputs": [],
   "source": [
    "import numpy as np"
   ]
  },
  {
   "cell_type": "code",
   "execution_count": 7,
   "id": "17e38f12-e548-4e01-8232-eb96055e8faa",
   "metadata": {},
   "outputs": [],
   "source": [
    "from numpy import random"
   ]
  },
  {
   "cell_type": "code",
   "execution_count": 8,
   "id": "25ca9b1b-876c-4fd2-8f04-ac64ef2b59e6",
   "metadata": {},
   "outputs": [
    {
     "data": {
      "text/plain": [
       "0.5560181263984563"
      ]
     },
     "execution_count": 8,
     "metadata": {},
     "output_type": "execute_result"
    }
   ],
   "source": [
    "random.rand()"
   ]
  },
  {
   "cell_type": "code",
   "execution_count": 9,
   "id": "e374428d-c707-4f82-bc9a-63dea910eddd",
   "metadata": {},
   "outputs": [],
   "source": [
    "from numpy import *"
   ]
  },
  {
   "cell_type": "code",
   "execution_count": null,
   "id": "20727293-bb39-4be8-8f07-8b3ec228b471",
   "metadata": {},
   "outputs": [],
   "source": [
    "def abs xxxxxxxx"
   ]
  }
 ],
 "metadata": {
  "kernelspec": {
   "display_name": "Python 3 (ipykernel)",
   "language": "python",
   "name": "python3"
  },
  "language_info": {
   "codemirror_mode": {
    "name": "ipython",
    "version": 3
   },
   "file_extension": ".py",
   "mimetype": "text/x-python",
   "name": "python",
   "nbconvert_exporter": "python",
   "pygments_lexer": "ipython3",
   "version": "3.10.2"
  }
 },
 "nbformat": 4,
 "nbformat_minor": 5
}
