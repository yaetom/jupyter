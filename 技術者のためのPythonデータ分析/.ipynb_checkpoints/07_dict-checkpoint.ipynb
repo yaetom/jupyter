{
 "cells": [
  {
   "cell_type": "code",
   "execution_count": 1,
   "id": "242682c0-9b12-4c0d-8237-ef6057b63efe",
   "metadata": {},
   "outputs": [],
   "source": [
    "num_list=[1,2,3,4]"
   ]
  },
  {
   "cell_type": "code",
   "execution_count": 2,
   "id": "2d3ec11e-36c3-43ab-86ec-97cd390d4f15",
   "metadata": {},
   "outputs": [
    {
     "data": {
      "text/plain": [
       "1"
      ]
     },
     "execution_count": 2,
     "metadata": {},
     "output_type": "execute_result"
    }
   ],
   "source": [
    "num_list[0]"
   ]
  },
  {
   "cell_type": "code",
   "execution_count": 3,
   "id": "d4b11208-0ec0-4ee4-9314-9393d7548c60",
   "metadata": {},
   "outputs": [],
   "source": [
    "kyushu_pop=[504,120,182]"
   ]
  },
  {
   "cell_type": "code",
   "execution_count": 4,
   "id": "ccbb143a-1e32-4db6-adc7-9d6f27e4b3cf",
   "metadata": {},
   "outputs": [],
   "source": [
    "kyushu_pop_dict={\"Fukuoka\":504,\"Oita\":120,\"Kumamoto\":120}"
   ]
  },
  {
   "cell_type": "code",
   "execution_count": 5,
   "id": "b7bbb4d7-d4da-4716-bafa-fd53ddef37ae",
   "metadata": {},
   "outputs": [
    {
     "data": {
      "text/plain": [
       "{'Fukuoka': 504, 'Oita': 120, 'Kumamoto': 120}"
      ]
     },
     "execution_count": 5,
     "metadata": {},
     "output_type": "execute_result"
    }
   ],
   "source": [
    "kyushu_pop_dict"
   ]
  },
  {
   "cell_type": "code",
   "execution_count": 6,
   "id": "81f33b4c-5934-4ad3-ac05-7157ef700c0a",
   "metadata": {},
   "outputs": [
    {
     "data": {
      "text/plain": [
       "504"
      ]
     },
     "execution_count": 6,
     "metadata": {},
     "output_type": "execute_result"
    }
   ],
   "source": [
    "kyushu_pop_dict[\"Fukuoka\"]"
   ]
  },
  {
   "cell_type": "code",
   "execution_count": 7,
   "id": "3a54f05e-0afe-4b2f-879c-caf2385ef4e8",
   "metadata": {},
   "outputs": [
    {
     "data": {
      "text/plain": [
       "dict_keys(['Fukuoka', 'Oita', 'Kumamoto'])"
      ]
     },
     "execution_count": 7,
     "metadata": {},
     "output_type": "execute_result"
    }
   ],
   "source": [
    "kyushu_pop_dict.keys() #キーのみの確認"
   ]
  },
  {
   "cell_type": "code",
   "execution_count": 8,
   "id": "925f0b4c-60b2-46ee-a0f2-d27e0950c1c6",
   "metadata": {},
   "outputs": [
    {
     "data": {
      "text/plain": [
       "dict_values([504, 120, 120])"
      ]
     },
     "execution_count": 8,
     "metadata": {},
     "output_type": "execute_result"
    }
   ],
   "source": [
    "kyushu_pop_dict.values() #値のみの確認"
   ]
  },
  {
   "cell_type": "code",
   "execution_count": 10,
   "id": "b713bcbc-d610-48f1-a4fb-852f7f46586d",
   "metadata": {},
   "outputs": [],
   "source": [
    "kyushu_pop_dict.update({\"Kagoshima\":170,\"Miyazaki\":114,\"Saga\":85})"
   ]
  },
  {
   "cell_type": "code",
   "execution_count": 11,
   "id": "091f9545-c8e6-4766-a5ce-779f8761def6",
   "metadata": {},
   "outputs": [
    {
     "data": {
      "text/plain": [
       "{'Fukuoka': 504,\n",
       " 'Oita': 120,\n",
       " 'Kumamoto': 120,\n",
       " 'Kagoshima': 170,\n",
       " 'Miyazaki': 114,\n",
       " 'Saga': 85}"
      ]
     },
     "execution_count": 11,
     "metadata": {},
     "output_type": "execute_result"
    }
   ],
   "source": [
    "kyushu_pop_dict"
   ]
  },
  {
   "cell_type": "code",
   "execution_count": null,
   "id": "bd9d73e1-78f7-4068-bae0-539b741a038f",
   "metadata": {},
   "outputs": [],
   "source": []
  }
 ],
 "metadata": {
  "kernelspec": {
   "display_name": "Python 3 (ipykernel)",
   "language": "python",
   "name": "python3"
  },
  "language_info": {
   "codemirror_mode": {
    "name": "ipython",
    "version": 3
   },
   "file_extension": ".py",
   "mimetype": "text/x-python",
   "name": "python",
   "nbconvert_exporter": "python",
   "pygments_lexer": "ipython3",
   "version": "3.10.2"
  }
 },
 "nbformat": 4,
 "nbformat_minor": 5
}
