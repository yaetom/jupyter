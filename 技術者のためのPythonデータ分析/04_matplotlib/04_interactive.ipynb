{
 "cells": [
  {
   "cell_type": "code",
   "execution_count": 2,
   "id": "f86863f3-674e-4942-a5e1-6ea9fb67278c",
   "metadata": {},
   "outputs": [],
   "source": [
    "#インタラクティブ（相互作用）\n",
    "import numpy as np\n",
    "import pandas as pd\n",
    "import matplotlib.pyplot as plt\n",
    "#from IPython.html.widgets import interact\n",
    "from ipywidgets import interact #最近のバージョンでは、IPython.htmlからipywidgetsに移っている\n",
    "%matplotlib inline"
   ]
  },
  {
   "cell_type": "code",
   "execution_count": 4,
   "id": "b04dd30e-27f9-4c58-b8e0-6c2d6effaf09",
   "metadata": {},
   "outputs": [],
   "source": [
    "df_x = pd.read_csv(\"./../99_resources/brownian_x.csv\",delimiter=\",\", index_col=0)\n",
    "df_y = pd.read_csv(\"./../99_resources/brownian_y.csv\",delimiter=\",\", index_col=0)"
   ]
  },
  {
   "cell_type": "code",
   "execution_count": 6,
   "id": "996ee2f0-4b83-432f-b5d8-e2600d9dbf98",
   "metadata": {},
   "outputs": [
    {
     "data": {
      "application/vnd.jupyter.widget-view+json": {
       "model_id": "98bb60873c9e4097bdff100b1152a01d",
       "version_major": 2,
       "version_minor": 0
      },
      "text/plain": [
       "interactive(children=(IntSlider(value=0, description='time', max=500, step=10), Output()), _dom_classes=('widg…"
      ]
     },
     "metadata": {},
     "output_type": "display_data"
    }
   ],
   "source": [
    "@interact(time=(0,500,10)) #デコレーター\n",
    "def animetion(time=0):\n",
    "    plt.xlim((-100,100))\n",
    "    plt.ylim((-100,100))\n",
    "    for i in range(df_x.shape[1]):\n",
    "        plt.scatter(df_x.iloc[time,i],df_y.iloc[time,i])\n",
    "    plt.show()"
   ]
  },
  {
   "cell_type": "code",
   "execution_count": null,
   "id": "a12d0058-9191-4393-b75d-98f3965e3c8d",
   "metadata": {},
   "outputs": [],
   "source": []
  }
 ],
 "metadata": {
  "kernelspec": {
   "display_name": "Python [conda env:base] *",
   "language": "python",
   "name": "conda-base-py"
  },
  "language_info": {
   "codemirror_mode": {
    "name": "ipython",
    "version": 3
   },
   "file_extension": ".py",
   "mimetype": "text/x-python",
   "name": "python",
   "nbconvert_exporter": "python",
   "pygments_lexer": "ipython3",
   "version": "3.12.7"
  }
 },
 "nbformat": 4,
 "nbformat_minor": 5
}
