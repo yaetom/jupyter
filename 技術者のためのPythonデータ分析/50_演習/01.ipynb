{
 "cells": [
  {
   "cell_type": "code",
   "execution_count": 24,
   "id": "a67f5c0b-f382-43ce-84f2-3335ed8b658e",
   "metadata": {},
   "outputs": [
    {
     "name": "stdout",
     "output_type": "stream",
     "text": [
      "Requirement already satisfied: scipy in c:\\users\\key\\appdata\\local\\programs\\python\\python310\\lib\\site-packages (1.15.2)\n",
      "Requirement already satisfied: numpy<2.5,>=1.23.5 in c:\\users\\key\\appdata\\local\\programs\\python\\python310\\lib\\site-packages (from scipy) (2.1.3)\n"
     ]
    }
   ],
   "source": [
    "!pip install scipy"
   ]
  },
  {
   "cell_type": "code",
   "execution_count": 37,
   "id": "965fda78-799a-45f7-bb9a-e00ce862b046",
   "metadata": {},
   "outputs": [],
   "source": [
    "import numpy as np\n",
    "import pandas as pd\n",
    "import scipy as sp #sp.polyfit →　np.polyfit\n",
    "import matplotlib.pyplot as plt\n",
    "%matplotlib inline"
   ]
  },
  {
   "cell_type": "code",
   "execution_count": 2,
   "id": "a9e2d413-71e0-4361-874b-db45fd67e246",
   "metadata": {},
   "outputs": [],
   "source": [
    "plt.style.use(\"ggplot\")"
   ]
  },
  {
   "cell_type": "code",
   "execution_count": 4,
   "id": "7550f65e-320b-4994-aa01-8bd598f0723a",
   "metadata": {},
   "outputs": [],
   "source": [
    "df = pd.read_excel(\"./01_linear_approximation.xlsx\",header=6, index_col=0, sheet_name=\"Sheet1\")"
   ]
  },
  {
   "cell_type": "code",
   "execution_count": 5,
   "id": "bcf284ac-7002-4495-acab-fd1f757c4c9a",
   "metadata": {},
   "outputs": [
    {
     "data": {
      "text/html": [
       "<div>\n",
       "<style scoped>\n",
       "    .dataframe tbody tr th:only-of-type {\n",
       "        vertical-align: middle;\n",
       "    }\n",
       "\n",
       "    .dataframe tbody tr th {\n",
       "        vertical-align: top;\n",
       "    }\n",
       "\n",
       "    .dataframe thead th {\n",
       "        text-align: right;\n",
       "    }\n",
       "</style>\n",
       "<table border=\"1\" class=\"dataframe\">\n",
       "  <thead>\n",
       "    <tr style=\"text-align: right;\">\n",
       "      <th></th>\n",
       "      <th>Number</th>\n",
       "    </tr>\n",
       "    <tr>\n",
       "      <th>Time[s]</th>\n",
       "      <th></th>\n",
       "    </tr>\n",
       "  </thead>\n",
       "  <tbody>\n",
       "    <tr>\n",
       "      <th>0</th>\n",
       "      <td>98433.561371</td>\n",
       "    </tr>\n",
       "    <tr>\n",
       "      <th>10</th>\n",
       "      <td>94203.487920</td>\n",
       "    </tr>\n",
       "    <tr>\n",
       "      <th>20</th>\n",
       "      <td>91517.336375</td>\n",
       "    </tr>\n",
       "    <tr>\n",
       "      <th>30</th>\n",
       "      <td>86539.457397</td>\n",
       "    </tr>\n",
       "    <tr>\n",
       "      <th>40</th>\n",
       "      <td>81777.430583</td>\n",
       "    </tr>\n",
       "  </tbody>\n",
       "</table>\n",
       "</div>"
      ],
      "text/plain": [
       "               Number\n",
       "Time[s]              \n",
       "0        98433.561371\n",
       "10       94203.487920\n",
       "20       91517.336375\n",
       "30       86539.457397\n",
       "40       81777.430583"
      ]
     },
     "execution_count": 5,
     "metadata": {},
     "output_type": "execute_result"
    }
   ],
   "source": [
    "df.head()"
   ]
  },
  {
   "cell_type": "code",
   "execution_count": 7,
   "id": "ad25a96b-0ad1-4b94-8591-4ea01bbf6f60",
   "metadata": {},
   "outputs": [],
   "source": [
    "watt_arr = np.array([0,10,20,40,60,80])\n",
    "df_all = pd.DataFrame()\n",
    "\n",
    "for i in range(1,6):\n",
    "    df = pd.read_excel(\"./01_linear_approximation.xlsx\",header=6,index_col=0,sheet_name=\"Sheet\"+str(i))\n",
    "    df[\"W\"] = watt_arr[i]\n",
    "    df_all = pd.concat([df_all,df])"
   ]
  },
  {
   "cell_type": "code",
   "execution_count": 8,
   "id": "03d8ea10-84cc-4daf-9dce-2ddc41be45f2",
   "metadata": {
    "scrolled": true
   },
   "outputs": [
    {
     "data": {
      "text/html": [
       "<div>\n",
       "<style scoped>\n",
       "    .dataframe tbody tr th:only-of-type {\n",
       "        vertical-align: middle;\n",
       "    }\n",
       "\n",
       "    .dataframe tbody tr th {\n",
       "        vertical-align: top;\n",
       "    }\n",
       "\n",
       "    .dataframe thead th {\n",
       "        text-align: right;\n",
       "    }\n",
       "</style>\n",
       "<table border=\"1\" class=\"dataframe\">\n",
       "  <thead>\n",
       "    <tr style=\"text-align: right;\">\n",
       "      <th></th>\n",
       "      <th>Number</th>\n",
       "      <th>W</th>\n",
       "    </tr>\n",
       "    <tr>\n",
       "      <th>Time[s]</th>\n",
       "      <th></th>\n",
       "      <th></th>\n",
       "    </tr>\n",
       "  </thead>\n",
       "  <tbody>\n",
       "    <tr>\n",
       "      <th>0</th>\n",
       "      <td>98433.561371</td>\n",
       "      <td>10</td>\n",
       "    </tr>\n",
       "    <tr>\n",
       "      <th>10</th>\n",
       "      <td>94203.487920</td>\n",
       "      <td>10</td>\n",
       "    </tr>\n",
       "    <tr>\n",
       "      <th>20</th>\n",
       "      <td>91517.336375</td>\n",
       "      <td>10</td>\n",
       "    </tr>\n",
       "    <tr>\n",
       "      <th>30</th>\n",
       "      <td>86539.457397</td>\n",
       "      <td>10</td>\n",
       "    </tr>\n",
       "    <tr>\n",
       "      <th>40</th>\n",
       "      <td>81777.430583</td>\n",
       "      <td>10</td>\n",
       "    </tr>\n",
       "    <tr>\n",
       "      <th>50</th>\n",
       "      <td>76858.586685</td>\n",
       "      <td>10</td>\n",
       "    </tr>\n",
       "    <tr>\n",
       "      <th>60</th>\n",
       "      <td>73447.031317</td>\n",
       "      <td>10</td>\n",
       "    </tr>\n",
       "    <tr>\n",
       "      <th>0</th>\n",
       "      <td>99029.902000</td>\n",
       "      <td>20</td>\n",
       "    </tr>\n",
       "    <tr>\n",
       "      <th>10</th>\n",
       "      <td>91712.170320</td>\n",
       "      <td>20</td>\n",
       "    </tr>\n",
       "    <tr>\n",
       "      <th>20</th>\n",
       "      <td>86593.658500</td>\n",
       "      <td>20</td>\n",
       "    </tr>\n",
       "    <tr>\n",
       "      <th>30</th>\n",
       "      <td>78543.853600</td>\n",
       "      <td>20</td>\n",
       "    </tr>\n",
       "    <tr>\n",
       "      <th>40</th>\n",
       "      <td>74147.414000</td>\n",
       "      <td>20</td>\n",
       "    </tr>\n",
       "    <tr>\n",
       "      <th>50</th>\n",
       "      <td>67316.731000</td>\n",
       "      <td>20</td>\n",
       "    </tr>\n",
       "    <tr>\n",
       "      <th>60</th>\n",
       "      <td>58785.878000</td>\n",
       "      <td>20</td>\n",
       "    </tr>\n",
       "    <tr>\n",
       "      <th>0</th>\n",
       "      <td>99256.645965</td>\n",
       "      <td>40</td>\n",
       "    </tr>\n",
       "    <tr>\n",
       "      <th>10</th>\n",
       "      <td>90079.602170</td>\n",
       "      <td>40</td>\n",
       "    </tr>\n",
       "    <tr>\n",
       "      <th>20</th>\n",
       "      <td>80138.408516</td>\n",
       "      <td>40</td>\n",
       "    </tr>\n",
       "    <tr>\n",
       "      <th>30</th>\n",
       "      <td>73927.710702</td>\n",
       "      <td>40</td>\n",
       "    </tr>\n",
       "    <tr>\n",
       "      <th>40</th>\n",
       "      <td>64151.212934</td>\n",
       "      <td>40</td>\n",
       "    </tr>\n",
       "    <tr>\n",
       "      <th>50</th>\n",
       "      <td>52875.745986</td>\n",
       "      <td>40</td>\n",
       "    </tr>\n",
       "    <tr>\n",
       "      <th>60</th>\n",
       "      <td>40932.548634</td>\n",
       "      <td>40</td>\n",
       "    </tr>\n",
       "    <tr>\n",
       "      <th>0</th>\n",
       "      <td>99909.250536</td>\n",
       "      <td>60</td>\n",
       "    </tr>\n",
       "    <tr>\n",
       "      <th>10</th>\n",
       "      <td>86909.250536</td>\n",
       "      <td>60</td>\n",
       "    </tr>\n",
       "    <tr>\n",
       "      <th>20</th>\n",
       "      <td>73709.250536</td>\n",
       "      <td>60</td>\n",
       "    </tr>\n",
       "    <tr>\n",
       "      <th>30</th>\n",
       "      <td>60209.250536</td>\n",
       "      <td>60</td>\n",
       "    </tr>\n",
       "    <tr>\n",
       "      <th>40</th>\n",
       "      <td>46909.250536</td>\n",
       "      <td>60</td>\n",
       "    </tr>\n",
       "    <tr>\n",
       "      <th>50</th>\n",
       "      <td>33509.250536</td>\n",
       "      <td>60</td>\n",
       "    </tr>\n",
       "    <tr>\n",
       "      <th>60</th>\n",
       "      <td>20509.250536</td>\n",
       "      <td>60</td>\n",
       "    </tr>\n",
       "    <tr>\n",
       "      <th>0</th>\n",
       "      <td>100259.250536</td>\n",
       "      <td>80</td>\n",
       "    </tr>\n",
       "    <tr>\n",
       "      <th>10</th>\n",
       "      <td>89592.962119</td>\n",
       "      <td>80</td>\n",
       "    </tr>\n",
       "    <tr>\n",
       "      <th>20</th>\n",
       "      <td>76998.207791</td>\n",
       "      <td>80</td>\n",
       "    </tr>\n",
       "    <tr>\n",
       "      <th>30</th>\n",
       "      <td>61671.653256</td>\n",
       "      <td>80</td>\n",
       "    </tr>\n",
       "    <tr>\n",
       "      <th>40</th>\n",
       "      <td>44993.276522</td>\n",
       "      <td>80</td>\n",
       "    </tr>\n",
       "    <tr>\n",
       "      <th>50</th>\n",
       "      <td>28732.547644</td>\n",
       "      <td>80</td>\n",
       "    </tr>\n",
       "    <tr>\n",
       "      <th>60</th>\n",
       "      <td>10744.778936</td>\n",
       "      <td>80</td>\n",
       "    </tr>\n",
       "  </tbody>\n",
       "</table>\n",
       "</div>"
      ],
      "text/plain": [
       "                Number   W\n",
       "Time[s]                   \n",
       "0         98433.561371  10\n",
       "10        94203.487920  10\n",
       "20        91517.336375  10\n",
       "30        86539.457397  10\n",
       "40        81777.430583  10\n",
       "50        76858.586685  10\n",
       "60        73447.031317  10\n",
       "0         99029.902000  20\n",
       "10        91712.170320  20\n",
       "20        86593.658500  20\n",
       "30        78543.853600  20\n",
       "40        74147.414000  20\n",
       "50        67316.731000  20\n",
       "60        58785.878000  20\n",
       "0         99256.645965  40\n",
       "10        90079.602170  40\n",
       "20        80138.408516  40\n",
       "30        73927.710702  40\n",
       "40        64151.212934  40\n",
       "50        52875.745986  40\n",
       "60        40932.548634  40\n",
       "0         99909.250536  60\n",
       "10        86909.250536  60\n",
       "20        73709.250536  60\n",
       "30        60209.250536  60\n",
       "40        46909.250536  60\n",
       "50        33509.250536  60\n",
       "60        20509.250536  60\n",
       "0        100259.250536  80\n",
       "10        89592.962119  80\n",
       "20        76998.207791  80\n",
       "30        61671.653256  80\n",
       "40        44993.276522  80\n",
       "50        28732.547644  80\n",
       "60        10744.778936  80"
      ]
     },
     "execution_count": 8,
     "metadata": {},
     "output_type": "execute_result"
    }
   ],
   "source": [
    "df_all"
   ]
  },
  {
   "cell_type": "code",
   "execution_count": 13,
   "id": "3f6a4387-4e52-4394-85a2-350fa9c7c24a",
   "metadata": {},
   "outputs": [],
   "source": [
    "groups = df_all.groupby(\"W\")"
   ]
  },
  {
   "cell_type": "code",
   "execution_count": 14,
   "id": "beccb5d0-23ee-454e-809f-accdff6f9f47",
   "metadata": {},
   "outputs": [],
   "source": [
    "df_10w = groups.get_group(10)"
   ]
  },
  {
   "cell_type": "code",
   "execution_count": 15,
   "id": "804595cd-6feb-4f17-adce-8388c57dabfd",
   "metadata": {},
   "outputs": [
    {
     "data": {
      "text/html": [
       "<div>\n",
       "<style scoped>\n",
       "    .dataframe tbody tr th:only-of-type {\n",
       "        vertical-align: middle;\n",
       "    }\n",
       "\n",
       "    .dataframe tbody tr th {\n",
       "        vertical-align: top;\n",
       "    }\n",
       "\n",
       "    .dataframe thead th {\n",
       "        text-align: right;\n",
       "    }\n",
       "</style>\n",
       "<table border=\"1\" class=\"dataframe\">\n",
       "  <thead>\n",
       "    <tr style=\"text-align: right;\">\n",
       "      <th></th>\n",
       "      <th>Number</th>\n",
       "      <th>W</th>\n",
       "    </tr>\n",
       "    <tr>\n",
       "      <th>Time[s]</th>\n",
       "      <th></th>\n",
       "      <th></th>\n",
       "    </tr>\n",
       "  </thead>\n",
       "  <tbody>\n",
       "    <tr>\n",
       "      <th>0</th>\n",
       "      <td>98433.561371</td>\n",
       "      <td>10</td>\n",
       "    </tr>\n",
       "    <tr>\n",
       "      <th>10</th>\n",
       "      <td>94203.487920</td>\n",
       "      <td>10</td>\n",
       "    </tr>\n",
       "    <tr>\n",
       "      <th>20</th>\n",
       "      <td>91517.336375</td>\n",
       "      <td>10</td>\n",
       "    </tr>\n",
       "    <tr>\n",
       "      <th>30</th>\n",
       "      <td>86539.457397</td>\n",
       "      <td>10</td>\n",
       "    </tr>\n",
       "    <tr>\n",
       "      <th>40</th>\n",
       "      <td>81777.430583</td>\n",
       "      <td>10</td>\n",
       "    </tr>\n",
       "    <tr>\n",
       "      <th>50</th>\n",
       "      <td>76858.586685</td>\n",
       "      <td>10</td>\n",
       "    </tr>\n",
       "    <tr>\n",
       "      <th>60</th>\n",
       "      <td>73447.031317</td>\n",
       "      <td>10</td>\n",
       "    </tr>\n",
       "  </tbody>\n",
       "</table>\n",
       "</div>"
      ],
      "text/plain": [
       "               Number   W\n",
       "Time[s]                  \n",
       "0        98433.561371  10\n",
       "10       94203.487920  10\n",
       "20       91517.336375  10\n",
       "30       86539.457397  10\n",
       "40       81777.430583  10\n",
       "50       76858.586685  10\n",
       "60       73447.031317  10"
      ]
     },
     "execution_count": 15,
     "metadata": {},
     "output_type": "execute_result"
    }
   ],
   "source": [
    "df_10w"
   ]
  },
  {
   "cell_type": "code",
   "execution_count": 16,
   "id": "2a3a86d9-fabb-4249-9e39-dc27c8ef63a6",
   "metadata": {},
   "outputs": [
    {
     "data": {
      "text/plain": [
       "<matplotlib.collections.PathCollection at 0x1bfc27b0700>"
      ]
     },
     "execution_count": 16,
     "metadata": {},
     "output_type": "execute_result"
    },
    {
     "data": {
      "image/png": "[encoded data removed]",
      "text/plain": [
       "<Figure size 640x480 with 1 Axes>"
      ]
     },
     "metadata": {},
     "output_type": "display_data"
    }
   ],
   "source": [
    "plt.scatter(df_10w.index,df_10w[\"Number\"])"
   ]
  },
  {
   "cell_type": "code",
   "execution_count": 20,
   "id": "c1fd8ad1-ca48-446e-951a-20778f50cdae",
   "metadata": {},
   "outputs": [
    {
     "data": {
      "text/plain": [
       "<matplotlib.legend.Legend at 0x1bfc72794b0>"
      ]
     },
     "execution_count": 20,
     "metadata": {},
     "output_type": "execute_result"
    },
    {
     "data": {
      "image/png": "[encoded data removed]",
      "text/plain": [
       "<Figure size 640x480 with 1 Axes>"
      ]
     },
     "metadata": {},
     "output_type": "display_data"
    }
   ],
   "source": [
    "for name,group in groups:\n",
    "    plt.scatter(group.index ,group[\"Number\"], label=name)\n",
    "plt.legend(loc = \"lower left\")"
   ]
  },
  {
   "cell_type": "code",
   "execution_count": 28,
   "id": "cedc2755-45a4-4396-a498-07deda88b8e6",
   "metadata": {},
   "outputs": [],
   "source": [
    "param = np.polyfit(df_10w.index, df_10w[\"Number\"],1) #sp->np"
   ]
  },
  {
   "cell_type": "code",
   "execution_count": 29,
   "id": "e6856cc9-c624-4aea-829a-6fccb960f440",
   "metadata": {},
   "outputs": [
    {
     "data": {
      "text/plain": [
       "array([ -426.39035152, 98902.69506669])"
      ]
     },
     "execution_count": 29,
     "metadata": {},
     "output_type": "execute_result"
    }
   ],
   "source": [
    "param"
   ]
  },
  {
   "cell_type": "code",
   "execution_count": 31,
   "id": "080aeeda-562f-4dcc-bc41-7e5c2565b2e8",
   "metadata": {},
   "outputs": [
    {
     "name": "stdout",
     "output_type": "stream",
     "text": [
      "10 426.3903515160272\n",
      "20 649.8899826428571\n",
      "40 947.7399997936388\n",
      "60 1327.857142857142\n",
      "80 1508.1041964947824\n"
     ]
    }
   ],
   "source": [
    "#polyfitにより近似式を抽出し、Wごとの傾き＝殺菌力を確認\n",
    "p_list = []\n",
    "p_list.append(0)\n",
    "for name, group in groups:\n",
    "    param = np.polyfit(group.index, group[\"Number\"], 1)\n",
    "    print(name, -param[0])\n",
    "    p_list.append(-param[0])"
   ]
  },
  {
   "cell_type": "code",
   "execution_count": 32,
   "id": "d8afa22a-00ee-447a-b595-f6a7470bd4cd",
   "metadata": {},
   "outputs": [
    {
     "data": {
      "text/plain": [
       "[0,\n",
       " np.float64(426.3903515160272),\n",
       " np.float64(649.8899826428571),\n",
       " np.float64(947.7399997936388),\n",
       " np.float64(1327.857142857142),\n",
       " np.float64(1508.1041964947824)]"
      ]
     },
     "execution_count": 32,
     "metadata": {},
     "output_type": "execute_result"
    }
   ],
   "source": [
    "p_list"
   ]
  },
  {
   "cell_type": "code",
   "execution_count": 33,
   "id": "72ed4719-27ec-4d11-a251-e486a5927d31",
   "metadata": {},
   "outputs": [
    {
     "data": {
      "text/plain": [
       "Text(0, 0.5, 'Efficiency')"
      ]
     },
     "execution_count": 33,
     "metadata": {},
     "output_type": "execute_result"
    },
    {
     "data": {
      "image/png": "[encoded data removed]",
      "text/plain": [
       "<Figure size 640x480 with 1 Axes>"
      ]
     },
     "metadata": {},
     "output_type": "display_data"
    }
   ],
   "source": [
    "#Wごとの殺菌力をプロット（散布図）\n",
    "plt.scatter(watt_arr, p_list)\n",
    "plt.xlabel(\"Input Power[w]\")\n",
    "plt.ylabel(\"Efficiency\")"
   ]
  },
  {
   "cell_type": "code",
   "execution_count": 34,
   "id": "4212482c-6af5-4e5b-af3d-2e7912b81564",
   "metadata": {},
   "outputs": [],
   "source": [
    "a = np.polyfit(watt_arr[:3], p_list[:3], 1)"
   ]
  },
  {
   "cell_type": "code",
   "execution_count": 35,
   "id": "fe6456f6-d297-49ea-9d8a-cd9f8fa69fcf",
   "metadata": {},
   "outputs": [
    {
     "data": {
      "text/plain": [
       "array([32.49449913, 33.81512006])"
      ]
     },
     "execution_count": 35,
     "metadata": {},
     "output_type": "execute_result"
    }
   ],
   "source": [
    "a"
   ]
  },
  {
   "cell_type": "code",
   "execution_count": 36,
   "id": "dc95d22a-83fa-431c-b52c-3a4306a73462",
   "metadata": {},
   "outputs": [
    {
     "data": {
      "text/plain": [
       "[<matplotlib.lines.Line2D at 0x1bfddca25f0>]"
      ]
     },
     "execution_count": 36,
     "metadata": {},
     "output_type": "execute_result"
    },
    {
     "data": {
      "image/png": "[encoded data removed]",
      "text/plain": [
       "<Figure size 640x480 with 1 Axes>"
      ]
     },
     "metadata": {},
     "output_type": "display_data"
    }
   ],
   "source": [
    "plt.scatter(watt_arr, p_list)\n",
    "x = np.arange(0,80,1)\n",
    "plt.plot(x, a[0]*x)"
   ]
  },
  {
   "cell_type": "code",
   "execution_count": null,
   "id": "65a116a0-c70c-423a-ab3c-692b192ee4d3",
   "metadata": {},
   "outputs": [],
   "source": []
  }
 ],
 "metadata": {
  "kernelspec": {
   "display_name": "Python [conda env:base] *",
   "language": "python",
   "name": "conda-base-py"
  },
  "language_info": {
   "codemirror_mode": {
    "name": "ipython",
    "version": 3
   },
   "file_extension": ".py",
   "mimetype": "text/x-python",
   "name": "python",
   "nbconvert_exporter": "python",
   "pygments_lexer": "ipython3",
   "version": "3.12.7"
  }
 },
 "nbformat": 4,
 "nbformat_minor": 5
}
