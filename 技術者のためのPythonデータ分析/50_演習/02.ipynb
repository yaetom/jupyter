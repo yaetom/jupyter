{
 "cells": [
  {
   "cell_type": "code",
   "execution_count": 5,
   "id": "c04a4946-8a40-4a58-a972-e15469764493",
   "metadata": {
    "collapsed": true,
    "jupyter": {
     "outputs_hidden": true
    },
    "scrolled": true
   },
   "outputs": [
    {
     "name": "stdout",
     "output_type": "stream",
     "text": [
      "Requirement already satisfied: ipython in c:\\users\\key\\appdata\\local\\programs\\python\\python310\\lib\\site-packages (8.34.0)\n",
      "Collecting jupter\n",
      "  Downloading jupter-0.1.0-py3-none-any.whl.metadata (191 bytes)\n",
      "Requirement already satisfied: notebook in c:\\users\\key\\appdata\\local\\programs\\python\\python310\\lib\\site-packages (7.3.1)\n",
      "Requirement already satisfied: colorama in c:\\users\\key\\appdata\\local\\programs\\python\\python310\\lib\\site-packages (from ipython) (0.4.4)\n",
      "Requirement already satisfied: decorator in c:\\users\\key\\appdata\\local\\programs\\python\\python310\\lib\\site-packages (from ipython) (5.1.1)\n",
      "Requirement already satisfied: exceptiongroup in c:\\users\\key\\appdata\\local\\programs\\python\\python310\\lib\\site-packages (from ipython) (1.2.2)\n",
      "Requirement already satisfied: jedi>=0.16 in c:\\users\\key\\appdata\\local\\programs\\python\\python310\\lib\\site-packages (from ipython) (0.19.2)\n",
      "Requirement already satisfied: matplotlib-inline in c:\\users\\key\\appdata\\local\\programs\\python\\python310\\lib\\site-packages (from ipython) (0.1.7)\n",
      "Requirement already satisfied: prompt_toolkit<3.1.0,>=3.0.41 in c:\\users\\key\\appdata\\local\\programs\\python\\python310\\lib\\site-packages (from ipython) (3.0.48)\n",
      "Requirement already satisfied: pygments>=2.4.0 in c:\\users\\key\\appdata\\local\\programs\\python\\python310\\lib\\site-packages (from ipython) (2.18.0)\n",
      "Requirement already satisfied: stack_data in c:\\users\\key\\appdata\\local\\programs\\python\\python310\\lib\\site-packages (from ipython) (0.6.3)\n",
      "Requirement already satisfied: traitlets>=5.13.0 in c:\\users\\key\\appdata\\local\\programs\\python\\python310\\lib\\site-packages (from ipython) (5.14.3)\n",
      "Requirement already satisfied: typing_extensions>=4.6 in c:\\users\\key\\appdata\\local\\programs\\python\\python310\\lib\\site-packages (from ipython) (4.12.2)\n",
      "Requirement already satisfied: jupyter-server<3,>=2.4.0 in c:\\users\\key\\appdata\\local\\programs\\python\\python310\\lib\\site-packages (from notebook) (2.14.2)\n",
      "Requirement already satisfied: jupyterlab-server<3,>=2.27.1 in c:\\users\\key\\appdata\\local\\programs\\python\\python310\\lib\\site-packages (from notebook) (2.27.3)\n",
      "Requirement already satisfied: jupyterlab<4.4,>=4.3.2 in c:\\users\\key\\appdata\\local\\programs\\python\\python310\\lib\\site-packages (from notebook) (4.3.2)\n",
      "Requirement already satisfied: notebook-shim<0.3,>=0.2 in c:\\users\\key\\appdata\\local\\programs\\python\\python310\\lib\\site-packages (from notebook) (0.2.4)\n",
      "Requirement already satisfied: tornado>=6.2.0 in c:\\users\\key\\appdata\\local\\programs\\python\\python310\\lib\\site-packages (from notebook) (6.4.2)\n",
      "Requirement already satisfied: parso<0.9.0,>=0.8.4 in c:\\users\\key\\appdata\\local\\programs\\python\\python310\\lib\\site-packages (from jedi>=0.16->ipython) (0.8.4)\n",
      "Requirement already satisfied: anyio>=3.1.0 in c:\\users\\key\\appdata\\local\\programs\\python\\python310\\lib\\site-packages (from jupyter-server<3,>=2.4.0->notebook) (4.6.2.post1)\n",
      "Requirement already satisfied: argon2-cffi>=21.1 in c:\\users\\key\\appdata\\local\\programs\\python\\python310\\lib\\site-packages (from jupyter-server<3,>=2.4.0->notebook) (23.1.0)\n",
      "Requirement already satisfied: jinja2>=3.0.3 in c:\\users\\key\\appdata\\local\\programs\\python\\python310\\lib\\site-packages (from jupyter-server<3,>=2.4.0->notebook) (3.1.4)\n",
      "Requirement already satisfied: jupyter-client>=7.4.4 in c:\\users\\key\\appdata\\local\\programs\\python\\python310\\lib\\site-packages (from jupyter-server<3,>=2.4.0->notebook) (8.6.3)\n",
      "Requirement already satisfied: jupyter-core!=5.0.*,>=4.12 in c:\\users\\key\\appdata\\local\\programs\\python\\python310\\lib\\site-packages (from jupyter-server<3,>=2.4.0->notebook) (5.7.2)\n",
      "Requirement already satisfied: jupyter-events>=0.9.0 in c:\\users\\key\\appdata\\local\\programs\\python\\python310\\lib\\site-packages (from jupyter-server<3,>=2.4.0->notebook) (0.10.0)\n",
      "Requirement already satisfied: jupyter-server-terminals>=0.4.4 in c:\\users\\key\\appdata\\local\\programs\\python\\python310\\lib\\site-packages (from jupyter-server<3,>=2.4.0->notebook) (0.5.3)\n",
      "Requirement already satisfied: nbconvert>=6.4.4 in c:\\users\\key\\appdata\\local\\programs\\python\\python310\\lib\\site-packages (from jupyter-server<3,>=2.4.0->notebook) (7.16.4)\n",
      "Requirement already satisfied: nbformat>=5.3.0 in c:\\users\\key\\appdata\\local\\programs\\python\\python310\\lib\\site-packages (from jupyter-server<3,>=2.4.0->notebook) (5.10.4)\n",
      "Requirement already satisfied: overrides>=5.0 in c:\\users\\key\\appdata\\local\\programs\\python\\python310\\lib\\site-packages (from jupyter-server<3,>=2.4.0->notebook) (7.7.0)\n",
      "Requirement already satisfied: packaging>=22.0 in c:\\users\\key\\appdata\\local\\programs\\python\\python310\\lib\\site-packages (from jupyter-server<3,>=2.4.0->notebook) (24.2)\n",
      "Requirement already satisfied: prometheus-client>=0.9 in c:\\users\\key\\appdata\\local\\programs\\python\\python310\\lib\\site-packages (from jupyter-server<3,>=2.4.0->notebook) (0.21.1)\n",
      "Requirement already satisfied: pywinpty>=2.0.1 in c:\\users\\key\\appdata\\local\\programs\\python\\python310\\lib\\site-packages (from jupyter-server<3,>=2.4.0->notebook) (2.0.14)\n",
      "Requirement already satisfied: pyzmq>=24 in c:\\users\\key\\appdata\\local\\programs\\python\\python310\\lib\\site-packages (from jupyter-server<3,>=2.4.0->notebook) (26.2.0)\n",
      "Requirement already satisfied: send2trash>=1.8.2 in c:\\users\\key\\appdata\\local\\programs\\python\\python310\\lib\\site-packages (from jupyter-server<3,>=2.4.0->notebook) (1.8.3)\n",
      "Requirement already satisfied: terminado>=0.8.3 in c:\\users\\key\\appdata\\local\\programs\\python\\python310\\lib\\site-packages (from jupyter-server<3,>=2.4.0->notebook) (0.18.1)\n",
      "Requirement already satisfied: websocket-client>=1.7 in c:\\users\\key\\appdata\\local\\programs\\python\\python310\\lib\\site-packages (from jupyter-server<3,>=2.4.0->notebook) (1.8.0)\n",
      "Requirement already satisfied: async-lru>=1.0.0 in c:\\users\\key\\appdata\\local\\programs\\python\\python310\\lib\\site-packages (from jupyterlab<4.4,>=4.3.2->notebook) (2.0.4)\n",
      "Requirement already satisfied: httpx~=0.28.0 in c:\\users\\key\\appdata\\local\\programs\\python\\python310\\lib\\site-packages (from jupyterlab<4.4,>=4.3.2->notebook) (0.28.0)\n",
      "Requirement already satisfied: ipykernel>=6.5.0 in c:\\users\\key\\appdata\\local\\programs\\python\\python310\\lib\\site-packages (from jupyterlab<4.4,>=4.3.2->notebook) (6.29.5)\n",
      "Requirement already satisfied: jupyter-lsp>=2.0.0 in c:\\users\\key\\appdata\\local\\programs\\python\\python310\\lib\\site-packages (from jupyterlab<4.4,>=4.3.2->notebook) (2.2.5)\n",
      "Requirement already satisfied: setuptools>=40.8.0 in c:\\users\\key\\appdata\\local\\programs\\python\\python310\\lib\\site-packages (from jupyterlab<4.4,>=4.3.2->notebook) (58.1.0)\n",
      "Requirement already satisfied: tomli>=1.2.2 in c:\\users\\key\\appdata\\local\\programs\\python\\python310\\lib\\site-packages (from jupyterlab<4.4,>=4.3.2->notebook) (2.2.1)\n",
      "Requirement already satisfied: babel>=2.10 in c:\\users\\key\\appdata\\local\\programs\\python\\python310\\lib\\site-packages (from jupyterlab-server<3,>=2.27.1->notebook) (2.16.0)\n",
      "Requirement already satisfied: json5>=0.9.0 in c:\\users\\key\\appdata\\local\\programs\\python\\python310\\lib\\site-packages (from jupyterlab-server<3,>=2.27.1->notebook) (0.10.0)\n",
      "Requirement already satisfied: jsonschema>=4.18.0 in c:\\users\\key\\appdata\\local\\programs\\python\\python310\\lib\\site-packages (from jupyterlab-server<3,>=2.27.1->notebook) (4.23.0)\n",
      "Requirement already satisfied: requests>=2.31 in c:\\users\\key\\appdata\\local\\programs\\python\\python310\\lib\\site-packages (from jupyterlab-server<3,>=2.27.1->notebook) (2.31.0)\n",
      "Requirement already satisfied: wcwidth in c:\\users\\key\\appdata\\local\\programs\\python\\python310\\lib\\site-packages (from prompt_toolkit<3.1.0,>=3.0.41->ipython) (0.2.13)\n",
      "Requirement already satisfied: executing>=1.2.0 in c:\\users\\key\\appdata\\local\\programs\\python\\python310\\lib\\site-packages (from stack_data->ipython) (2.1.0)\n",
      "Requirement already satisfied: asttokens>=2.1.0 in c:\\users\\key\\appdata\\local\\programs\\python\\python310\\lib\\site-packages (from stack_data->ipython) (3.0.0)\n",
      "Requirement already satisfied: pure-eval in c:\\users\\key\\appdata\\local\\programs\\python\\python310\\lib\\site-packages (from stack_data->ipython) (0.2.3)\n",
      "Requirement already satisfied: idna>=2.8 in c:\\users\\key\\appdata\\local\\programs\\python\\python310\\lib\\site-packages (from anyio>=3.1.0->jupyter-server<3,>=2.4.0->notebook) (3.3)\n",
      "Requirement already satisfied: sniffio>=1.1 in c:\\users\\key\\appdata\\local\\programs\\python\\python310\\lib\\site-packages (from anyio>=3.1.0->jupyter-server<3,>=2.4.0->notebook) (1.3.1)\n",
      "Requirement already satisfied: argon2-cffi-bindings in c:\\users\\key\\appdata\\local\\programs\\python\\python310\\lib\\site-packages (from argon2-cffi>=21.1->jupyter-server<3,>=2.4.0->notebook) (21.2.0)\n",
      "Requirement already satisfied: certifi in c:\\users\\key\\appdata\\local\\programs\\python\\python310\\lib\\site-packages (from httpx~=0.28.0->jupyterlab<4.4,>=4.3.2->notebook) (2021.10.8)\n",
      "Requirement already satisfied: httpcore==1.* in c:\\users\\key\\appdata\\local\\programs\\python\\python310\\lib\\site-packages (from httpx~=0.28.0->jupyterlab<4.4,>=4.3.2->notebook) (1.0.7)\n",
      "Requirement already satisfied: h11<0.15,>=0.13 in c:\\users\\key\\appdata\\local\\programs\\python\\python310\\lib\\site-packages (from httpcore==1.*->httpx~=0.28.0->jupyterlab<4.4,>=4.3.2->notebook) (0.14.0)\n",
      "Requirement already satisfied: comm>=0.1.1 in c:\\users\\key\\appdata\\local\\programs\\python\\python310\\lib\\site-packages (from ipykernel>=6.5.0->jupyterlab<4.4,>=4.3.2->notebook) (0.2.2)\n",
      "Requirement already satisfied: debugpy>=1.6.5 in c:\\users\\key\\appdata\\local\\programs\\python\\python310\\lib\\site-packages (from ipykernel>=6.5.0->jupyterlab<4.4,>=4.3.2->notebook) (1.8.9)\n",
      "Requirement already satisfied: nest-asyncio in c:\\users\\key\\appdata\\local\\programs\\python\\python310\\lib\\site-packages (from ipykernel>=6.5.0->jupyterlab<4.4,>=4.3.2->notebook) (1.6.0)\n",
      "Requirement already satisfied: psutil in c:\\users\\key\\appdata\\local\\programs\\python\\python310\\lib\\site-packages (from ipykernel>=6.5.0->jupyterlab<4.4,>=4.3.2->notebook) (5.9.5)\n",
      "Requirement already satisfied: MarkupSafe>=2.0 in c:\\users\\key\\appdata\\local\\programs\\python\\python310\\lib\\site-packages (from jinja2>=3.0.3->jupyter-server<3,>=2.4.0->notebook) (3.0.2)\n",
      "Requirement already satisfied: attrs>=22.2.0 in c:\\users\\key\\appdata\\local\\programs\\python\\python310\\lib\\site-packages (from jsonschema>=4.18.0->jupyterlab-server<3,>=2.27.1->notebook) (24.2.0)\n",
      "Requirement already satisfied: jsonschema-specifications>=2023.03.6 in c:\\users\\key\\appdata\\local\\programs\\python\\python310\\lib\\site-packages (from jsonschema>=4.18.0->jupyterlab-server<3,>=2.27.1->notebook) (2024.10.1)\n",
      "Requirement already satisfied: referencing>=0.28.4 in c:\\users\\key\\appdata\\local\\programs\\python\\python310\\lib\\site-packages (from jsonschema>=4.18.0->jupyterlab-server<3,>=2.27.1->notebook) (0.35.1)\n",
      "Requirement already satisfied: rpds-py>=0.7.1 in c:\\users\\key\\appdata\\local\\programs\\python\\python310\\lib\\site-packages (from jsonschema>=4.18.0->jupyterlab-server<3,>=2.27.1->notebook) (0.22.3)\n",
      "Requirement already satisfied: python-dateutil>=2.8.2 in c:\\users\\key\\appdata\\local\\programs\\python\\python310\\lib\\site-packages (from jupyter-client>=7.4.4->jupyter-server<3,>=2.4.0->notebook) (2.8.2)\n",
      "Requirement already satisfied: platformdirs>=2.5 in c:\\users\\key\\appdata\\local\\programs\\python\\python310\\lib\\site-packages (from jupyter-core!=5.0.*,>=4.12->jupyter-server<3,>=2.4.0->notebook) (4.3.6)\n",
      "Requirement already satisfied: pywin32>=300 in c:\\users\\key\\appdata\\local\\programs\\python\\python310\\lib\\site-packages (from jupyter-core!=5.0.*,>=4.12->jupyter-server<3,>=2.4.0->notebook) (308)\n",
      "Requirement already satisfied: python-json-logger>=2.0.4 in c:\\users\\key\\appdata\\local\\programs\\python\\python310\\lib\\site-packages (from jupyter-events>=0.9.0->jupyter-server<3,>=2.4.0->notebook) (2.0.7)\n",
      "Requirement already satisfied: pyyaml>=5.3 in c:\\users\\key\\appdata\\local\\programs\\python\\python310\\lib\\site-packages (from jupyter-events>=0.9.0->jupyter-server<3,>=2.4.0->notebook) (6.0.2)\n",
      "Requirement already satisfied: rfc3339-validator in c:\\users\\key\\appdata\\local\\programs\\python\\python310\\lib\\site-packages (from jupyter-events>=0.9.0->jupyter-server<3,>=2.4.0->notebook) (0.1.4)\n",
      "Requirement already satisfied: rfc3986-validator>=0.1.1 in c:\\users\\key\\appdata\\local\\programs\\python\\python310\\lib\\site-packages (from jupyter-events>=0.9.0->jupyter-server<3,>=2.4.0->notebook) (0.1.1)\n",
      "Requirement already satisfied: beautifulsoup4 in c:\\users\\key\\appdata\\local\\programs\\python\\python310\\lib\\site-packages (from nbconvert>=6.4.4->jupyter-server<3,>=2.4.0->notebook) (4.12.3)\n",
      "Requirement already satisfied: bleach!=5.0.0 in c:\\users\\key\\appdata\\local\\programs\\python\\python310\\lib\\site-packages (from nbconvert>=6.4.4->jupyter-server<3,>=2.4.0->notebook) (6.2.0)\n",
      "Requirement already satisfied: defusedxml in c:\\users\\key\\appdata\\local\\programs\\python\\python310\\lib\\site-packages (from nbconvert>=6.4.4->jupyter-server<3,>=2.4.0->notebook) (0.7.1)\n",
      "Requirement already satisfied: jupyterlab-pygments in c:\\users\\key\\appdata\\local\\programs\\python\\python310\\lib\\site-packages (from nbconvert>=6.4.4->jupyter-server<3,>=2.4.0->notebook) (0.3.0)\n",
      "Requirement already satisfied: mistune<4,>=2.0.3 in c:\\users\\key\\appdata\\local\\programs\\python\\python310\\lib\\site-packages (from nbconvert>=6.4.4->jupyter-server<3,>=2.4.0->notebook) (3.0.2)\n",
      "Requirement already satisfied: nbclient>=0.5.0 in c:\\users\\key\\appdata\\local\\programs\\python\\python310\\lib\\site-packages (from nbconvert>=6.4.4->jupyter-server<3,>=2.4.0->notebook) (0.10.1)\n",
      "Requirement already satisfied: pandocfilters>=1.4.1 in c:\\users\\key\\appdata\\local\\programs\\python\\python310\\lib\\site-packages (from nbconvert>=6.4.4->jupyter-server<3,>=2.4.0->notebook) (1.5.1)\n",
      "Requirement already satisfied: tinycss2 in c:\\users\\key\\appdata\\local\\programs\\python\\python310\\lib\\site-packages (from nbconvert>=6.4.4->jupyter-server<3,>=2.4.0->notebook) (1.4.0)\n",
      "Requirement already satisfied: fastjsonschema>=2.15 in c:\\users\\key\\appdata\\local\\programs\\python\\python310\\lib\\site-packages (from nbformat>=5.3.0->jupyter-server<3,>=2.4.0->notebook) (2.21.1)\n",
      "Requirement already satisfied: charset-normalizer<4,>=2 in c:\\users\\key\\appdata\\local\\programs\\python\\python310\\lib\\site-packages (from requests>=2.31->jupyterlab-server<3,>=2.27.1->notebook) (2.0.10)\n",
      "Requirement already satisfied: urllib3<3,>=1.21.1 in c:\\users\\key\\appdata\\local\\programs\\python\\python310\\lib\\site-packages (from requests>=2.31->jupyterlab-server<3,>=2.27.1->notebook) (1.26.8)\n",
      "Requirement already satisfied: webencodings in c:\\users\\key\\appdata\\local\\programs\\python\\python310\\lib\\site-packages (from bleach!=5.0.0->nbconvert>=6.4.4->jupyter-server<3,>=2.4.0->notebook) (0.5.1)\n",
      "Requirement already satisfied: fqdn in c:\\users\\key\\appdata\\local\\programs\\python\\python310\\lib\\site-packages (from jsonschema[format-nongpl]>=4.18.0->jupyter-events>=0.9.0->jupyter-server<3,>=2.4.0->notebook) (1.5.1)\n",
      "Requirement already satisfied: isoduration in c:\\users\\key\\appdata\\local\\programs\\python\\python310\\lib\\site-packages (from jsonschema[format-nongpl]>=4.18.0->jupyter-events>=0.9.0->jupyter-server<3,>=2.4.0->notebook) (20.11.0)\n",
      "Requirement already satisfied: jsonpointer>1.13 in c:\\users\\key\\appdata\\local\\programs\\python\\python310\\lib\\site-packages (from jsonschema[format-nongpl]>=4.18.0->jupyter-events>=0.9.0->jupyter-server<3,>=2.4.0->notebook) (3.0.0)\n",
      "Requirement already satisfied: uri-template in c:\\users\\key\\appdata\\local\\programs\\python\\python310\\lib\\site-packages (from jsonschema[format-nongpl]>=4.18.0->jupyter-events>=0.9.0->jupyter-server<3,>=2.4.0->notebook) (1.3.0)\n",
      "Requirement already satisfied: webcolors>=24.6.0 in c:\\users\\key\\appdata\\local\\programs\\python\\python310\\lib\\site-packages (from jsonschema[format-nongpl]>=4.18.0->jupyter-events>=0.9.0->jupyter-server<3,>=2.4.0->notebook) (24.11.1)\n",
      "Requirement already satisfied: six>=1.5 in c:\\users\\key\\appdata\\local\\programs\\python\\python310\\lib\\site-packages (from python-dateutil>=2.8.2->jupyter-client>=7.4.4->jupyter-server<3,>=2.4.0->notebook) (1.16.0)\n",
      "Requirement already satisfied: cffi>=1.0.1 in c:\\users\\key\\appdata\\local\\programs\\python\\python310\\lib\\site-packages (from argon2-cffi-bindings->argon2-cffi>=21.1->jupyter-server<3,>=2.4.0->notebook) (1.15.1)\n",
      "Requirement already satisfied: soupsieve>1.2 in c:\\users\\key\\appdata\\local\\programs\\python\\python310\\lib\\site-packages (from beautifulsoup4->nbconvert>=6.4.4->jupyter-server<3,>=2.4.0->notebook) (2.6)\n",
      "Requirement already satisfied: pycparser in c:\\users\\key\\appdata\\local\\programs\\python\\python310\\lib\\site-packages (from cffi>=1.0.1->argon2-cffi-bindings->argon2-cffi>=21.1->jupyter-server<3,>=2.4.0->notebook) (2.21)\n",
      "Requirement already satisfied: arrow>=0.15.0 in c:\\users\\key\\appdata\\local\\programs\\python\\python310\\lib\\site-packages (from isoduration->jsonschema[format-nongpl]>=4.18.0->jupyter-events>=0.9.0->jupyter-server<3,>=2.4.0->notebook) (1.3.0)\n",
      "Requirement already satisfied: types-python-dateutil>=2.8.10 in c:\\users\\key\\appdata\\local\\programs\\python\\python310\\lib\\site-packages (from arrow>=0.15.0->isoduration->jsonschema[format-nongpl]>=4.18.0->jupyter-events>=0.9.0->jupyter-server<3,>=2.4.0->notebook) (2.9.0.20241206)\n",
      "Downloading jupter-0.1.0-py3-none-any.whl (5.8 kB)\n",
      "Installing collected packages: jupter\n",
      "Successfully installed jupter-0.1.0\n"
     ]
    }
   ],
   "source": [
    "!pip install ipython jupter notebook"
   ]
  },
  {
   "cell_type": "code",
   "execution_count": 7,
   "id": "b06d78ef-e5d1-401f-bb7c-a54aed51d362",
   "metadata": {},
   "outputs": [],
   "source": [
    "import numpy as np\n",
    "import pandas as pd\n",
    "import matplotlib.pyplot as plt\n",
    "from scipy import integrate\n",
    "#from IPython.html.widgets import interact\n",
    "from ipywidgets import interact\n",
    "%matplotlib inline"
   ]
  },
  {
   "cell_type": "code",
   "execution_count": 8,
   "id": "3378e6aa-f45a-4d52-a530-75648ff9b276",
   "metadata": {},
   "outputs": [],
   "source": [
    "plt.style.use(\"ggplot\")"
   ]
  },
  {
   "cell_type": "code",
   "execution_count": 9,
   "id": "1f13a4ef-40d6-4942-bbe5-9ab60be95c28",
   "metadata": {},
   "outputs": [],
   "source": [
    "df = pd.read_excel(\"./02_spectrum.xlsx\",header=None)"
   ]
  },
  {
   "cell_type": "code",
   "execution_count": 10,
   "id": "4939c2d7-27a7-4e3f-a498-e554f46a8d18",
   "metadata": {},
   "outputs": [
    {
     "data": {
      "text/html": [
       "<div>\n",
       "<style scoped>\n",
       "    .dataframe tbody tr th:only-of-type {\n",
       "        vertical-align: middle;\n",
       "    }\n",
       "\n",
       "    .dataframe tbody tr th {\n",
       "        vertical-align: top;\n",
       "    }\n",
       "\n",
       "    .dataframe thead th {\n",
       "        text-align: right;\n",
       "    }\n",
       "</style>\n",
       "<table border=\"1\" class=\"dataframe\">\n",
       "  <thead>\n",
       "    <tr style=\"text-align: right;\">\n",
       "      <th></th>\n",
       "      <th>0</th>\n",
       "      <th>1</th>\n",
       "    </tr>\n",
       "  </thead>\n",
       "  <tbody>\n",
       "    <tr>\n",
       "      <th>0</th>\n",
       "      <td>349.0</td>\n",
       "      <td>-2.9678</td>\n",
       "    </tr>\n",
       "    <tr>\n",
       "      <th>1</th>\n",
       "      <td>349.1</td>\n",
       "      <td>1.7821</td>\n",
       "    </tr>\n",
       "    <tr>\n",
       "      <th>2</th>\n",
       "      <td>349.2</td>\n",
       "      <td>0.9071</td>\n",
       "    </tr>\n",
       "    <tr>\n",
       "      <th>3</th>\n",
       "      <td>349.3</td>\n",
       "      <td>0.7821</td>\n",
       "    </tr>\n",
       "    <tr>\n",
       "      <th>4</th>\n",
       "      <td>349.4</td>\n",
       "      <td>0.7196</td>\n",
       "    </tr>\n",
       "  </tbody>\n",
       "</table>\n",
       "</div>"
      ],
      "text/plain": [
       "       0       1\n",
       "0  349.0 -2.9678\n",
       "1  349.1  1.7821\n",
       "2  349.2  0.9071\n",
       "3  349.3  0.7821\n",
       "4  349.4  0.7196"
      ]
     },
     "execution_count": 10,
     "metadata": {},
     "output_type": "execute_result"
    }
   ],
   "source": [
    "df.head()"
   ]
  },
  {
   "cell_type": "code",
   "execution_count": 18,
   "id": "5d58c2e7-f232-41b3-9efe-34c6dbf6a71b",
   "metadata": {},
   "outputs": [],
   "source": [
    "#リネーム　ラベル名\n",
    "df2 = df.rename(columns={0:\"labda\",1:\"Intensity\"})"
   ]
  },
  {
   "cell_type": "code",
   "execution_count": 19,
   "id": "13df3f2b-428f-434f-9012-6849dfc6077a",
   "metadata": {
    "scrolled": true
   },
   "outputs": [
    {
     "data": {
      "text/html": [
       "<div>\n",
       "<style scoped>\n",
       "    .dataframe tbody tr th:only-of-type {\n",
       "        vertical-align: middle;\n",
       "    }\n",
       "\n",
       "    .dataframe tbody tr th {\n",
       "        vertical-align: top;\n",
       "    }\n",
       "\n",
       "    .dataframe thead th {\n",
       "        text-align: right;\n",
       "    }\n",
       "</style>\n",
       "<table border=\"1\" class=\"dataframe\">\n",
       "  <thead>\n",
       "    <tr style=\"text-align: right;\">\n",
       "      <th></th>\n",
       "      <th>labda</th>\n",
       "      <th>Intensity</th>\n",
       "    </tr>\n",
       "  </thead>\n",
       "  <tbody>\n",
       "    <tr>\n",
       "      <th>0</th>\n",
       "      <td>349.0</td>\n",
       "      <td>-2.9678</td>\n",
       "    </tr>\n",
       "    <tr>\n",
       "      <th>1</th>\n",
       "      <td>349.1</td>\n",
       "      <td>1.7821</td>\n",
       "    </tr>\n",
       "    <tr>\n",
       "      <th>2</th>\n",
       "      <td>349.2</td>\n",
       "      <td>0.9071</td>\n",
       "    </tr>\n",
       "    <tr>\n",
       "      <th>3</th>\n",
       "      <td>349.3</td>\n",
       "      <td>0.7821</td>\n",
       "    </tr>\n",
       "    <tr>\n",
       "      <th>4</th>\n",
       "      <td>349.4</td>\n",
       "      <td>0.7196</td>\n",
       "    </tr>\n",
       "    <tr>\n",
       "      <th>...</th>\n",
       "      <td>...</td>\n",
       "      <td>...</td>\n",
       "    </tr>\n",
       "    <tr>\n",
       "      <th>917</th>\n",
       "      <td>440.7</td>\n",
       "      <td>-14.7803</td>\n",
       "    </tr>\n",
       "    <tr>\n",
       "      <th>918</th>\n",
       "      <td>440.8</td>\n",
       "      <td>-11.2803</td>\n",
       "    </tr>\n",
       "    <tr>\n",
       "      <th>919</th>\n",
       "      <td>440.9</td>\n",
       "      <td>-11.8428</td>\n",
       "    </tr>\n",
       "    <tr>\n",
       "      <th>920</th>\n",
       "      <td>441.0</td>\n",
       "      <td>-12.5303</td>\n",
       "    </tr>\n",
       "    <tr>\n",
       "      <th>921</th>\n",
       "      <td>441.1</td>\n",
       "      <td>-10.9678</td>\n",
       "    </tr>\n",
       "  </tbody>\n",
       "</table>\n",
       "<p>922 rows × 2 columns</p>\n",
       "</div>"
      ],
      "text/plain": [
       "     labda  Intensity\n",
       "0    349.0    -2.9678\n",
       "1    349.1     1.7821\n",
       "2    349.2     0.9071\n",
       "3    349.3     0.7821\n",
       "4    349.4     0.7196\n",
       "..     ...        ...\n",
       "917  440.7   -14.7803\n",
       "918  440.8   -11.2803\n",
       "919  440.9   -11.8428\n",
       "920  441.0   -12.5303\n",
       "921  441.1   -10.9678\n",
       "\n",
       "[922 rows x 2 columns]"
      ]
     },
     "execution_count": 19,
     "metadata": {},
     "output_type": "execute_result"
    }
   ],
   "source": [
    "df2"
   ]
  },
  {
   "cell_type": "code",
   "execution_count": 21,
   "id": "d4110c92-8ca8-4b49-a759-780783d35fb5",
   "metadata": {},
   "outputs": [
    {
     "data": {
      "text/plain": [
       "[<matplotlib.lines.Line2D at 0x1de4cff6950>]"
      ]
     },
     "execution_count": 21,
     "metadata": {},
     "output_type": "execute_result"
    },
    {
     "data": {
      "image/png": "[encoded data removed]",
      "text/plain": [
       "<Figure size 640x480 with 1 Axes>"
      ]
     },
     "metadata": {},
     "output_type": "display_data"
    }
   ],
   "source": [
    "plt.plot(df2[\"labda\"],df2[\"Intensity\"])"
   ]
  },
  {
   "cell_type": "code",
   "execution_count": 22,
   "id": "0967de0e-2a89-4a7f-8b20-4841462a857f",
   "metadata": {},
   "outputs": [
    {
     "ename": "AttributeError",
     "evalue": "module 'scipy.integrate' has no attribute 'cumtrapz'",
     "output_type": "error",
     "traceback": [
      "\u001b[1;31m---------------------------------------------------------------------------\u001b[0m",
      "\u001b[1;31mAttributeError\u001b[0m                            Traceback (most recent call last)",
      "Cell \u001b[1;32mIn[22], line 2\u001b[0m\n\u001b[0;32m      1\u001b[0m \u001b[38;5;66;03m#数値積分\u001b[39;00m\n\u001b[1;32m----> 2\u001b[0m y_int \u001b[38;5;241m=\u001b[39m \u001b[43mintegrate\u001b[49m\u001b[38;5;241;43m.\u001b[39;49m\u001b[43mcumtrapz\u001b[49m(df2[\u001b[38;5;124m\"\u001b[39m\u001b[38;5;124mIntensity\u001b[39m\u001b[38;5;124m\"\u001b[39m], df2[\u001b[38;5;124m\"\u001b[39m\u001b[38;5;124mlabda\u001b[39m\u001b[38;5;124m\"\u001b[39m], inital\u001b[38;5;241m=\u001b[39m\u001b[38;5;241m0\u001b[39m)\n",
      "\u001b[1;31mAttributeError\u001b[0m: module 'scipy.integrate' has no attribute 'cumtrapz'"
     ]
    }
   ],
   "source": [
    "#数値積分\n",
    "y_int = integrate.cumtrapz(df2[\"Intensity\"], df2[\"labda\"], inital=0)"
   ]
  },
  {
   "cell_type": "code",
   "execution_count": null,
   "id": "7cdd82ae-ef09-4e71-bd21-3a390ec3685a",
   "metadata": {},
   "outputs": [],
   "source": []
  }
 ],
 "metadata": {
  "kernelspec": {
   "display_name": "Python 3 (ipykernel)",
   "language": "python",
   "name": "python3"
  },
  "language_info": {
   "codemirror_mode": {
    "name": "ipython",
    "version": 3
   },
   "file_extension": ".py",
   "mimetype": "text/x-python",
   "name": "python",
   "nbconvert_exporter": "python",
   "pygments_lexer": "ipython3",
   "version": "3.10.2"
  }
 },
 "nbformat": 4,
 "nbformat_minor": 5
}
