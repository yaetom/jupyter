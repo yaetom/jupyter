{
 "cells": [
  {
   "cell_type": "code",
   "execution_count": 1,
   "id": "e8ded658-0fe4-46c7-975d-8d2eeb263eb5",
   "metadata": {},
   "outputs": [],
   "source": [
    "import numpy as np"
   ]
  },
  {
   "cell_type": "code",
   "execution_count": 4,
   "id": "8662a244-fb9d-414a-8466-e2ba0ace399c",
   "metadata": {},
   "outputs": [],
   "source": [
    "arr1=np.arange(10).reshape(5,2)"
   ]
  },
  {
   "cell_type": "code",
   "execution_count": 5,
   "id": "01a0ddb0-ec2a-441e-88fe-b18de64b5060",
   "metadata": {},
   "outputs": [
    {
     "data": {
      "text/plain": [
       "array([[0, 1],\n",
       "       [2, 3],\n",
       "       [4, 5],\n",
       "       [6, 7],\n",
       "       [8, 9]])"
      ]
     },
     "execution_count": 5,
     "metadata": {},
     "output_type": "execute_result"
    }
   ],
   "source": [
    "arr1"
   ]
  },
  {
   "cell_type": "code",
   "execution_count": 6,
   "id": "3fce49ce-5f08-457a-b9ec-74a2a1d6b4e3",
   "metadata": {},
   "outputs": [
    {
     "data": {
      "text/plain": [
       "4.5"
      ]
     },
     "execution_count": 6,
     "metadata": {},
     "output_type": "execute_result"
    }
   ],
   "source": [
    "arr1.mean()"
   ]
  },
  {
   "cell_type": "code",
   "execution_count": 7,
   "id": "7d83086b-dbea-4270-98aa-878cb9d8560e",
   "metadata": {},
   "outputs": [
    {
     "data": {
      "text/plain": [
       "array([4., 5.])"
      ]
     },
     "execution_count": 7,
     "metadata": {},
     "output_type": "execute_result"
    }
   ],
   "source": [
    "arr1.mean(axis=0) #average"
   ]
  },
  {
   "cell_type": "code",
   "execution_count": 8,
   "id": "b33d51de-002b-41fa-94bc-96e2b204f8e4",
   "metadata": {},
   "outputs": [
    {
     "data": {
      "text/plain": [
       "array([0.5, 2.5, 4.5, 6.5, 8.5])"
      ]
     },
     "execution_count": 8,
     "metadata": {},
     "output_type": "execute_result"
    }
   ],
   "source": [
    "arr1.mean(axis=1) #average"
   ]
  },
  {
   "cell_type": "code",
   "execution_count": 9,
   "id": "9fee564a-6bab-48ac-8f25-522f448b543b",
   "metadata": {},
   "outputs": [
    {
     "data": {
      "text/plain": [
       "2.8722813232690143"
      ]
     },
     "execution_count": 9,
     "metadata": {},
     "output_type": "execute_result"
    }
   ],
   "source": [
    "arr1.std() #通常の標準偏差"
   ]
  },
  {
   "cell_type": "code",
   "execution_count": 10,
   "id": "ec8e7842-11d4-4860-b4de-c1cf7cd7206d",
   "metadata": {},
   "outputs": [
    {
     "data": {
      "text/plain": [
       "3.0276503540974917"
      ]
     },
     "execution_count": 10,
     "metadata": {},
     "output_type": "execute_result"
    }
   ],
   "source": [
    "arr1.std(ddof=True) #不変標準偏差"
   ]
  },
  {
   "cell_type": "code",
   "execution_count": 11,
   "id": "3f51fccb-6209-43a9-845b-4dbd25d5e075",
   "metadata": {},
   "outputs": [],
   "source": [
    "arr2=np.random.randn(100)"
   ]
  },
  {
   "cell_type": "code",
   "execution_count": 12,
   "id": "f2f727b4-8610-426b-b7ad-98ed30b4f82e",
   "metadata": {},
   "outputs": [
    {
     "data": {
      "text/plain": [
       "array([ 1.87949937,  0.40903272, -0.44368319, -1.26041081,  0.09676135,\n",
       "       -0.41279134, -1.09418276,  0.26517409, -1.0320009 ,  0.67361798,\n",
       "        0.1661446 , -0.5696943 , -1.58446624, -0.2067457 ,  0.84691351,\n",
       "        0.72126626,  1.6973671 ,  1.2992182 ,  1.42050712,  0.56542159,\n",
       "        0.30613666, -0.10082941,  0.48442621,  1.44750962, -0.68229758,\n",
       "       -1.1186098 ,  0.60602964,  0.73650838,  1.05722646,  1.21037236,\n",
       "        0.89729732, -1.16133417,  1.77142254,  0.97368417, -0.40695315,\n",
       "       -1.49427253, -0.47946036,  2.2609138 , -0.48563555, -0.48135757,\n",
       "       -0.62178407, -0.83039699,  0.21157664,  0.67622832, -0.70875767,\n",
       "       -0.17839195,  0.99027969,  1.42880101, -0.04421765,  0.05134263,\n",
       "        0.6037078 ,  0.53331248,  0.14948064,  0.36216793, -0.65247352,\n",
       "       -0.73527011,  2.91382631, -0.13751041, -2.81481674,  0.20175551,\n",
       "        1.05968625,  1.45708785, -1.85092954, -0.00621474, -0.74380523,\n",
       "        0.29037392, -0.67015604,  0.42756135, -0.31261   ,  0.69249495,\n",
       "       -0.885381  , -0.44574318,  1.38883114, -1.17563949, -0.94917089,\n",
       "       -0.97783823, -0.70679405,  0.61821244,  0.51955959, -0.47916021,\n",
       "        0.66644836,  1.29613128,  0.27504613, -0.96366509, -0.59155438,\n",
       "       -0.9540723 , -1.91034671,  0.36949945,  1.8107916 , -0.01367093,\n",
       "        1.29840821, -0.44733318, -0.71112563,  0.04869868,  1.28726869,\n",
       "        0.47872196,  0.36579741, -0.09407868, -0.68300088, -0.64613408])"
      ]
     },
     "execution_count": 12,
     "metadata": {},
     "output_type": "execute_result"
    }
   ],
   "source": [
    "arr2"
   ]
  },
  {
   "cell_type": "code",
   "execution_count": 13,
   "id": "76e8104b-4d52-4f17-8aaa-cae0f4cd0372",
   "metadata": {},
   "outputs": [
    {
     "data": {
      "text/plain": [
       "2.913826313712565"
      ]
     },
     "execution_count": 13,
     "metadata": {},
     "output_type": "execute_result"
    }
   ],
   "source": [
    "arr2.max()"
   ]
  },
  {
   "cell_type": "code",
   "execution_count": 14,
   "id": "a51bf17a-4c7b-4842-a02c-566d05f2382d",
   "metadata": {},
   "outputs": [
    {
     "data": {
      "text/plain": [
       "-2.8148167350619038"
      ]
     },
     "execution_count": 14,
     "metadata": {},
     "output_type": "execute_result"
    }
   ],
   "source": [
    "arr2.min()"
   ]
  },
  {
   "cell_type": "code",
   "execution_count": 15,
   "id": "034c0a2f-026f-4004-a01c-7902fdfad974",
   "metadata": {},
   "outputs": [
    {
     "data": {
      "text/plain": [
       "array([-2.81481674, -1.91034671, -1.85092954, -1.58446624, -1.49427253,\n",
       "       -1.26041081, -1.17563949, -1.16133417, -1.1186098 , -1.09418276,\n",
       "       -1.0320009 , -0.97783823, -0.96366509, -0.9540723 , -0.94917089,\n",
       "       -0.885381  , -0.83039699, -0.74380523, -0.73527011, -0.71112563,\n",
       "       -0.70875767, -0.70679405, -0.68300088, -0.68229758, -0.67015604,\n",
       "       -0.65247352, -0.64613408, -0.62178407, -0.59155438, -0.5696943 ,\n",
       "       -0.48563555, -0.48135757, -0.47946036, -0.47916021, -0.44733318,\n",
       "       -0.44574318, -0.44368319, -0.41279134, -0.40695315, -0.31261   ,\n",
       "       -0.2067457 , -0.17839195, -0.13751041, -0.10082941, -0.09407868,\n",
       "       -0.04421765, -0.01367093, -0.00621474,  0.04869868,  0.05134263,\n",
       "        0.09676135,  0.14948064,  0.1661446 ,  0.20175551,  0.21157664,\n",
       "        0.26517409,  0.27504613,  0.29037392,  0.30613666,  0.36216793,\n",
       "        0.36579741,  0.36949945,  0.40903272,  0.42756135,  0.47872196,\n",
       "        0.48442621,  0.51955959,  0.53331248,  0.56542159,  0.6037078 ,\n",
       "        0.60602964,  0.61821244,  0.66644836,  0.67361798,  0.67622832,\n",
       "        0.69249495,  0.72126626,  0.73650838,  0.84691351,  0.89729732,\n",
       "        0.97368417,  0.99027969,  1.05722646,  1.05968625,  1.21037236,\n",
       "        1.28726869,  1.29613128,  1.29840821,  1.2992182 ,  1.38883114,\n",
       "        1.42050712,  1.42880101,  1.44750962,  1.45708785,  1.6973671 ,\n",
       "        1.77142254,  1.8107916 ,  1.87949937,  2.2609138 ,  2.91382631])"
      ]
     },
     "execution_count": 15,
     "metadata": {},
     "output_type": "execute_result"
    }
   ],
   "source": [
    "np.sort(arr2)"
   ]
  },
  {
   "cell_type": "code",
   "execution_count": 17,
   "id": "2f15ba85-4d87-45f5-8f67-56d23a9b4a65",
   "metadata": {},
   "outputs": [
    {
     "data": {
      "text/plain": [
       "array([ 1,  1, -1, -1,  1, -1, -1,  1, -1,  1,  1, -1, -1, -1,  1,  1,  1,\n",
       "        1,  1,  1,  1, -1,  1,  1, -1, -1,  1,  1,  1,  1,  1, -1,  1,  1,\n",
       "       -1, -1, -1,  1, -1, -1, -1, -1,  1,  1, -1, -1,  1,  1, -1,  1,  1,\n",
       "        1,  1,  1, -1, -1,  1, -1, -1,  1,  1,  1, -1, -1, -1,  1, -1,  1,\n",
       "       -1,  1, -1, -1,  1, -1, -1, -1, -1,  1,  1, -1,  1,  1,  1, -1, -1,\n",
       "       -1, -1,  1,  1, -1,  1, -1, -1,  1,  1,  1,  1, -1, -1, -1])"
      ]
     },
     "execution_count": 17,
     "metadata": {},
     "output_type": "execute_result"
    }
   ],
   "source": [
    "np.where(arr2 > 0,1,-1)"
   ]
  },
  {
   "cell_type": "code",
   "execution_count": 20,
   "id": "3e2cb334-77c1-481b-a336-b277b308d429",
   "metadata": {},
   "outputs": [
    {
     "data": {
      "text/plain": [
       "(array([ 0,  1,  4,  7,  9, 10, 14, 15, 16, 17, 18, 19, 20, 22, 23, 26, 27,\n",
       "        28, 29, 30, 32, 33, 37, 42, 43, 46, 47, 49, 50, 51, 52, 53, 56, 59,\n",
       "        60, 61, 65, 67, 69, 72, 77, 78, 80, 81, 82, 87, 88, 90, 93, 94, 95,\n",
       "        96], dtype=int64),)"
      ]
     },
     "execution_count": 20,
     "metadata": {},
     "output_type": "execute_result"
    }
   ],
   "source": [
    "np.where(arr2>0)"
   ]
  },
  {
   "cell_type": "code",
   "execution_count": 21,
   "id": "be53cd4b-2c06-40c3-b0f0-cd64f308ac93",
   "metadata": {},
   "outputs": [
    {
     "data": {
      "text/plain": [
       "array([1.87949937, 0.40903272, 0.09676135, 0.26517409, 0.67361798,\n",
       "       0.1661446 , 0.84691351, 0.72126626, 1.6973671 , 1.2992182 ,\n",
       "       1.42050712, 0.56542159, 0.30613666, 0.48442621, 1.44750962,\n",
       "       0.60602964, 0.73650838, 1.05722646, 1.21037236, 0.89729732,\n",
       "       1.77142254, 0.97368417, 2.2609138 , 0.21157664, 0.67622832,\n",
       "       0.99027969, 1.42880101, 0.05134263, 0.6037078 , 0.53331248,\n",
       "       0.14948064, 0.36216793, 2.91382631, 0.20175551, 1.05968625,\n",
       "       1.45708785, 0.29037392, 0.42756135, 0.69249495, 1.38883114,\n",
       "       0.61821244, 0.51955959, 0.66644836, 1.29613128, 0.27504613,\n",
       "       0.36949945, 1.8107916 , 1.29840821, 0.04869868, 1.28726869,\n",
       "       0.47872196, 0.36579741])"
      ]
     },
     "execution_count": 21,
     "metadata": {},
     "output_type": "execute_result"
    }
   ],
   "source": [
    "arr2[np.where(arr2>0)]"
   ]
  },
  {
   "cell_type": "code",
   "execution_count": 22,
   "id": "035b5dde-668b-4015-ac56-4da66adff98b",
   "metadata": {},
   "outputs": [],
   "source": [
    "arr3=np.array([1,2,3,1,1,2,3,4])"
   ]
  },
  {
   "cell_type": "code",
   "execution_count": 24,
   "id": "fdda0cd7-4663-47df-8467-7057691abf27",
   "metadata": {},
   "outputs": [
    {
     "data": {
      "text/plain": [
       "array([1, 2, 3, 4])"
      ]
     },
     "execution_count": 24,
     "metadata": {},
     "output_type": "execute_result"
    }
   ],
   "source": [
    "np.unique(arr3)"
   ]
  },
  {
   "cell_type": "code",
   "execution_count": null,
   "id": "53053cb7-6f6c-4fbd-8cb8-b50283f66663",
   "metadata": {},
   "outputs": [],
   "source": []
  }
 ],
 "metadata": {
  "kernelspec": {
   "display_name": "Python 3 (ipykernel)",
   "language": "python",
   "name": "python3"
  },
  "language_info": {
   "codemirror_mode": {
    "name": "ipython",
    "version": 3
   },
   "file_extension": ".py",
   "mimetype": "text/x-python",
   "name": "python",
   "nbconvert_exporter": "python",
   "pygments_lexer": "ipython3",
   "version": "3.10.2"
  }
 },
 "nbformat": 4,
 "nbformat_minor": 5
}
