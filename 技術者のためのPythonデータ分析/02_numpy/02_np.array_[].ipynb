{
 "cells": [
  {
   "cell_type": "code",
   "execution_count": 1,
   "id": "a91a90c1-e8b2-4a29-bf29-3fdaa45f79bf",
   "metadata": {},
   "outputs": [],
   "source": [
    "import numpy as np"
   ]
  },
  {
   "cell_type": "code",
   "execution_count": 4,
   "id": "7dc87823-0028-4103-ab88-fe3670a92dfc",
   "metadata": {},
   "outputs": [],
   "source": [
    "arry1=np.arange(9)"
   ]
  },
  {
   "cell_type": "code",
   "execution_count": 5,
   "id": "3749b326-e328-4d3b-8400-c651d361d417",
   "metadata": {},
   "outputs": [
    {
     "data": {
      "text/plain": [
       "array([0, 1, 2, 3, 4, 5, 6, 7, 8])"
      ]
     },
     "execution_count": 5,
     "metadata": {},
     "output_type": "execute_result"
    }
   ],
   "source": [
    "arry1"
   ]
  },
  {
   "cell_type": "code",
   "execution_count": 7,
   "id": "7774d094-407e-467e-8781-b44453737844",
   "metadata": {},
   "outputs": [
    {
     "data": {
      "text/plain": [
       "0"
      ]
     },
     "execution_count": 7,
     "metadata": {},
     "output_type": "execute_result"
    }
   ],
   "source": [
    "arry1[0]"
   ]
  },
  {
   "cell_type": "code",
   "execution_count": 10,
   "id": "1bf2398b-a2f6-4d04-9002-8e11d8f6db48",
   "metadata": {},
   "outputs": [
    {
     "data": {
      "text/plain": [
       "7"
      ]
     },
     "execution_count": 10,
     "metadata": {},
     "output_type": "execute_result"
    }
   ],
   "source": [
    "arry1[-2]"
   ]
  },
  {
   "cell_type": "code",
   "execution_count": 12,
   "id": "4b3fef9a-8785-46f8-8dd9-58a3bfb644a4",
   "metadata": {},
   "outputs": [
    {
     "data": {
      "text/plain": [
       "array([1, 2, 3])"
      ]
     },
     "execution_count": 12,
     "metadata": {},
     "output_type": "execute_result"
    }
   ],
   "source": [
    "arry1[1:4]"
   ]
  },
  {
   "cell_type": "code",
   "execution_count": 14,
   "id": "5958b666-e234-4eae-a9e6-2f1195fd0c41",
   "metadata": {},
   "outputs": [
    {
     "data": {
      "text/plain": [
       "array([6, 7, 8])"
      ]
     },
     "execution_count": 14,
     "metadata": {},
     "output_type": "execute_result"
    }
   ],
   "source": [
    "arry1[6:]"
   ]
  },
  {
   "cell_type": "code",
   "execution_count": 15,
   "id": "70533669-abc1-44dc-bc7d-6368f4621135",
   "metadata": {},
   "outputs": [],
   "source": [
    "arry2=np.arange(9).reshape(3,3)"
   ]
  },
  {
   "cell_type": "code",
   "execution_count": 16,
   "id": "7b5f8628-a450-432b-be5f-e709fcb2acf6",
   "metadata": {},
   "outputs": [
    {
     "data": {
      "text/plain": [
       "array([[0, 1, 2],\n",
       "       [3, 4, 5],\n",
       "       [6, 7, 8]])"
      ]
     },
     "execution_count": 16,
     "metadata": {},
     "output_type": "execute_result"
    }
   ],
   "source": [
    "arry2"
   ]
  },
  {
   "cell_type": "code",
   "execution_count": 17,
   "id": "aab90178-2e8d-4c74-a926-6fa2ff693ef5",
   "metadata": {},
   "outputs": [
    {
     "data": {
      "text/plain": [
       "0"
      ]
     },
     "execution_count": 17,
     "metadata": {},
     "output_type": "execute_result"
    }
   ],
   "source": [
    "arry2[0,0]"
   ]
  },
  {
   "cell_type": "code",
   "execution_count": 20,
   "id": "ef9a4611-7838-40c9-b97f-6174cf579440",
   "metadata": {},
   "outputs": [
    {
     "data": {
      "text/plain": [
       "5"
      ]
     },
     "execution_count": 20,
     "metadata": {},
     "output_type": "execute_result"
    }
   ],
   "source": [
    "arry2[1,-1]"
   ]
  },
  {
   "cell_type": "code",
   "execution_count": 21,
   "id": "48491ad1-2a02-4ca8-8453-6b0c91823c73",
   "metadata": {},
   "outputs": [
    {
     "data": {
      "text/plain": [
       "array([1, 4, 7])"
      ]
     },
     "execution_count": 21,
     "metadata": {},
     "output_type": "execute_result"
    }
   ],
   "source": [
    "arry2[:,1]"
   ]
  },
  {
   "cell_type": "code",
   "execution_count": 22,
   "id": "76b5537e-0e39-434c-8219-a6c5e9c9f81b",
   "metadata": {},
   "outputs": [
    {
     "data": {
      "text/plain": [
       "array([[False, False, False],\n",
       "       [False, False,  True],\n",
       "       [ True,  True,  True]])"
      ]
     },
     "execution_count": 22,
     "metadata": {},
     "output_type": "execute_result"
    }
   ],
   "source": [
    "arry2 > 4"
   ]
  },
  {
   "cell_type": "code",
   "execution_count": 23,
   "id": "8da681a5-701d-4c07-84eb-4b51b47ea87f",
   "metadata": {},
   "outputs": [
    {
     "data": {
      "text/plain": [
       "array([5, 6, 7, 8])"
      ]
     },
     "execution_count": 23,
     "metadata": {},
     "output_type": "execute_result"
    }
   ],
   "source": [
    "arry2[arry2>4]"
   ]
  },
  {
   "cell_type": "code",
   "execution_count": null,
   "id": "2e941fa3-dec1-4baf-9775-1136add9bbdd",
   "metadata": {},
   "outputs": [],
   "source": []
  }
 ],
 "metadata": {
  "kernelspec": {
   "display_name": "Python 3 (ipykernel)",
   "language": "python",
   "name": "python3"
  },
  "language_info": {
   "codemirror_mode": {
    "name": "ipython",
    "version": 3
   },
   "file_extension": ".py",
   "mimetype": "text/x-python",
   "name": "python",
   "nbconvert_exporter": "python",
   "pygments_lexer": "ipython3",
   "version": "3.10.2"
  }
 },
 "nbformat": 4,
 "nbformat_minor": 5
}
