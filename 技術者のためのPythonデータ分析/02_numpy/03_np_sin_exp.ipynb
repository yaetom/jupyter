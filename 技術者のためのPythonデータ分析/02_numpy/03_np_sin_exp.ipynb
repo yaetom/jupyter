{
 "cells": [
  {
   "cell_type": "code",
   "execution_count": 1,
   "id": "c92e47a7-c7ef-45d1-b8b6-e8da07a3353c",
   "metadata": {},
   "outputs": [],
   "source": [
    "import numpy as np"
   ]
  },
  {
   "cell_type": "code",
   "execution_count": 2,
   "id": "8068cf3e-5589-4c38-8dc6-4d6259a2b431",
   "metadata": {},
   "outputs": [],
   "source": [
    "arr1=np.arange(9)"
   ]
  },
  {
   "cell_type": "code",
   "execution_count": 3,
   "id": "26bff1de-0431-4b57-a207-cc982c353308",
   "metadata": {},
   "outputs": [
    {
     "data": {
      "text/plain": [
       "array([ 0,  3,  6,  9, 12, 15, 18, 21, 24])"
      ]
     },
     "execution_count": 3,
     "metadata": {},
     "output_type": "execute_result"
    }
   ],
   "source": [
    "3*arr1"
   ]
  },
  {
   "cell_type": "code",
   "execution_count": 7,
   "id": "2d54c86b-ee18-4253-b536-f3f4a11f4437",
   "metadata": {},
   "outputs": [
    {
     "data": {
      "text/plain": [
       "array([1, 2, 3, 4, 5, 6, 7, 8, 9])"
      ]
     },
     "execution_count": 7,
     "metadata": {},
     "output_type": "execute_result"
    }
   ],
   "source": [
    "arr1+1 #ブロードキャスト関数"
   ]
  },
  {
   "cell_type": "code",
   "execution_count": 5,
   "id": "07770513-4725-4467-9622-da4d11ece1a0",
   "metadata": {},
   "outputs": [
    {
     "data": {
      "text/plain": [
       "array([ 0.        ,  0.84147098,  0.90929743,  0.14112001, -0.7568025 ,\n",
       "       -0.95892427, -0.2794155 ,  0.6569866 ,  0.98935825])"
      ]
     },
     "execution_count": 5,
     "metadata": {},
     "output_type": "execute_result"
    }
   ],
   "source": [
    "np.sin(arr1) #ユニバーサル関数"
   ]
  },
  {
   "cell_type": "code",
   "execution_count": 6,
   "id": "ac11d68b-14b6-4fa1-8a88-b5bdd7244a45",
   "metadata": {},
   "outputs": [
    {
     "data": {
      "text/plain": [
       "array([1.00000000e+00, 2.71828183e+00, 7.38905610e+00, 2.00855369e+01,\n",
       "       5.45981500e+01, 1.48413159e+02, 4.03428793e+02, 1.09663316e+03,\n",
       "       2.98095799e+03])"
      ]
     },
     "execution_count": 6,
     "metadata": {},
     "output_type": "execute_result"
    }
   ],
   "source": [
    "np.exp(arr1) #ユニバーサル関数"
   ]
  },
  {
   "cell_type": "code",
   "execution_count": null,
   "id": "65721fa7-2c49-4315-9161-9b7b9c7b5a0e",
   "metadata": {},
   "outputs": [],
   "source": []
  }
 ],
 "metadata": {
  "kernelspec": {
   "display_name": "Python 3 (ipykernel)",
   "language": "python",
   "name": "python3"
  },
  "language_info": {
   "codemirror_mode": {
    "name": "ipython",
    "version": 3
   },
   "file_extension": ".py",
   "mimetype": "text/x-python",
   "name": "python",
   "nbconvert_exporter": "python",
   "pygments_lexer": "ipython3",
   "version": "3.10.2"
  }
 },
 "nbformat": 4,
 "nbformat_minor": 5
}
