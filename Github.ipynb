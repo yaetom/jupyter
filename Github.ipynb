{
 "cells": [
  {
   "cell_type": "markdown",
   "id": "d5d5adec-7992-49cb-81b8-efa2d3fabeb5",
   "metadata": {},
   "source": [
    "git remote add origin https://github.com/yaetom/jupyter.git  \n",
    "git branch -M main  \n",
    "git push -u origin main  "
   ]
  },
  {
   "cell_type": "code",
   "execution_count": null,
   "id": "faec3e10-7bd4-4141-98d6-72a445ee4039",
   "metadata": {},
   "outputs": [],
   "source": []
  }
 ],
 "metadata": {
  "kernelspec": {
   "display_name": "Python 3 (ipykernel)",
   "language": "python",
   "name": "python3"
  },
  "language_info": {
   "codemirror_mode": {
    "name": "ipython",
    "version": 3
   },
   "file_extension": ".py",
   "mimetype": "text/x-python",
   "name": "python",
   "nbconvert_exporter": "python",
   "pygments_lexer": "ipython3",
   "version": "3.10.2"
  }
 },
 "nbformat": 4,
 "nbformat_minor": 5
}
