{
 "cells": [
  {
   "cell_type": "markdown",
   "id": "14e9d0c4-bacf-4a9a-95a3-5dabb9d9a655",
   "metadata": {},
   "source": [
    "１．Webページのダウンロード（クローリング）  \n",
    "２．データの抽出（スクレイピング）  \n",
    "３．データの保存  "
   ]
  },
  {
   "cell_type": "code",
   "execution_count": null,
   "id": "e202ba9c-3539-499e-aece-5fd29220b11c",
   "metadata": {},
   "outputs": [],
   "source": []
  }
 ],
 "metadata": {
  "kernelspec": {
   "display_name": "Python 3 (ipykernel)",
   "language": "python",
   "name": "python3"
  },
  "language_info": {
   "codemirror_mode": {
    "name": "ipython",
    "version": 3
   },
   "file_extension": ".py",
   "mimetype": "text/x-python",
   "name": "python",
   "nbconvert_exporter": "python",
   "pygments_lexer": "ipython3",
   "version": "3.10.2"
  }
 },
 "nbformat": 4,
 "nbformat_minor": 5
}
