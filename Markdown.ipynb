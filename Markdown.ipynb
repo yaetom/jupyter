{
 "cells": [
  {
   "cell_type": "markdown",
   "id": "8e0b4419-dc49-499b-bbd7-802a5515146e",
   "metadata": {},
   "source": [
    "# A\n",
    "## A\n",
    "### A"
   ]
  },
  {
   "cell_type": "markdown",
   "id": "6accfa0a-75ab-4081-add3-2eb78d7d3072",
   "metadata": {},
   "source": [
    "AA**AA**AA  \n",
    "AA*AA*AA  \n",
    "AA~~AA~~AA  \n",
    "AA~AA~AA  \n",
    "AA<u>AA<u>AA  \n",
    "AA<mark>AA<mark>AA"
   ]
  },
  {
   "cell_type": "markdown",
   "id": "9e143297-46a3-418f-ac0b-c004918e43de",
   "metadata": {},
   "source": [
    "* A\n",
    "* B\n",
    "* C"
   ]
  },
  {
   "cell_type": "markdown",
   "id": "21e187c3-7dfa-48fe-bb29-479e4384036e",
   "metadata": {},
   "source": [
    "- A\n",
    "- B\n",
    "- C\n",
    "  - D\n",
    "  - E"
   ]
  },
  {
   "cell_type": "markdown",
   "id": "4998ac89-1a94-49b7-ac1a-e9920d4602a6",
   "metadata": {},
   "source": [
    "1. A  \n",
    "1. B  \n",
    "1. C  "
   ]
  },
  {
   "cell_type": "markdown",
   "id": "0dfbee9e-4328-4bad-9160-0ada501e4282",
   "metadata": {},
   "source": [
    "```python:AAA.py\n",
    "def A\n",
    "    AAA=1\n",
    "```"
   ]
  },
  {
   "cell_type": "markdown",
   "id": "88b0afec-432e-4429-a368-f31c22cbfdcc",
   "metadata": {},
   "source": [
    "AAA`AAA`AAA"
   ]
  },
  {
   "cell_type": "markdown",
   "id": "4d476f9d-bf06-4000-aa7a-1e5bed0f81f0",
   "metadata": {},
   "source": [
    "* [ ] AAA  \n",
    "* [ ] BBB  \n",
    "* [x] CCC  "
   ]
  },
  {
   "cell_type": "markdown",
   "id": "972ebcb1-8a26-4b2e-93a7-02bf961d86e0",
   "metadata": {},
   "source": [
    "|AAA|BBB|CCC|\n",
    "|:-|:-|:-|\n",
    "|AAA|BBB|CCC|\n",
    "|AAA|BBB|CCC|\n",
    "|AAA|BBB|CCC|\n",
    "|AAA|BBB|CCC|\n",
    "|AAA|BBB|CCC|\n",
    "|AAA|BBB|CCC|"
   ]
  },
  {
   "cell_type": "markdown",
   "id": "15158a19-7cc4-4154-a910-a484d1525192",
   "metadata": {},
   "source": []
  },
  {
   "cell_type": "code",
   "execution_count": 48,
   "id": "86800336-c52d-4b8d-a509-0ba66be01556",
   "metadata": {},
   "outputs": [
    {
     "ename": "SyntaxError",
     "evalue": "invalid syntax (3837553873.py, line 1)",
     "output_type": "error",
     "traceback": [
      "\u001b[1;36m  Cell \u001b[1;32mIn[48], line 1\u001b[1;36m\u001b[0m\n\u001b[1;33m    |AAA|BBB|\u001b[0m\n\u001b[1;37m    ^\u001b[0m\n\u001b[1;31mSyntaxError\u001b[0m\u001b[1;31m:\u001b[0m invalid syntax\n"
     ]
    }
   ],
   "source": [
    "|AAA|BBB|\n",
    "|-|-|\n",
    "|AAA|BBB|\n",
    "|AAA|BBB|"
   ]
  },
  {
   "cell_type": "code",
   "execution_count": 2,
   "id": "94393baf-a6b4-4472-8396-460d5b2295d2",
   "metadata": {},
   "outputs": [
    {
     "ename": "NameError",
     "evalue": "name 'A' is not defined",
     "output_type": "error",
     "traceback": [
      "\u001b[1;31m---------------------------------------------------------------------------\u001b[0m",
      "\u001b[1;31mNameError\u001b[0m                                 Traceback (most recent call last)",
      "Cell \u001b[1;32mIn[2], line 1\u001b[0m\n\u001b[1;32m----> 1\u001b[0m A\n",
      "\u001b[1;31mNameError\u001b[0m: name 'A' is not defined"
     ]
    }
   ],
   "source": [
    "A"
   ]
  },
  {
   "cell_type": "code",
   "execution_count": null,
   "id": "8a32edd2-28f6-4362-b1d7-99fff1112710",
   "metadata": {},
   "outputs": [],
   "source": []
  }
 ],
 "metadata": {
  "kernelspec": {
   "display_name": "Python [conda env:base] *",
   "language": "python",
   "name": "conda-base-py"
  },
  "language_info": {
   "codemirror_mode": {
    "name": "ipython",
    "version": 3
   },
   "file_extension": ".py",
   "mimetype": "text/x-python",
   "name": "python",
   "nbconvert_exporter": "python",
   "pygments_lexer": "ipython3",
   "version": "3.12.7"
  }
 },
 "nbformat": 4,
 "nbformat_minor": 5
}
