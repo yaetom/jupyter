{
 "cells": [
  {
   "cell_type": "code",
   "execution_count": 1,
   "id": "b5f254f0-ca71-469c-bb85-b9a85cc8adc9",
   "metadata": {},
   "outputs": [],
   "source": [
    "import urllib\n",
    "\n",
    "url=\"https://app.rakuten.co.jp/services/api/IchibaItem/Search/20220601\"\n",
    "format=\"json\"\n",
    "applicationid=\"1057585233871214360\"\n",
    "shop_code=\"f242114-toyota\"\n",
    "url2=url+\"?\"+\"format=\"+format+\"&shopCode=\"+shop_code+\"&applicationID=\"+applicationid"
   ]
  },
  {
   "cell_type": "code",
   "execution_count": null,
   "id": "f57e3ddd-eec6-4196-95e7-36f0b01b9516",
   "metadata": {},
   "outputs": [],
   "source": [
    "import urllib.request as request\n",
    "import json\n",
    "import pandas as pd\n",
    "import time\n",
    "\n",
    "toyota_furusato_lust=pd.DataFrame()\n",
    "\n",
    "try:\n",
    "    response=request.urlopen(url2)\n",
    "    contents=response.read()\n",
    "    response.close()\n",
    "    temp=json.loads(contents.decode())\n",
    "    temp10=pd.json_normalize(temp)\n",
    "    numofpages~temp10.pageCount\n",
    "    print(\"取得するページ数\",numofpages[0])\n",
    "\n",
    "    for i in rage(numofpages[0]):\n",
    "        print(i+1,\"ページ目\")\n",
    "        time.sleep(10)\n",
    "        url3=url2+\"&page=\"+str(i+1)\n",
    "\n",
    "        response2=request.urlopen(url3)\n",
    "        content2=response2.read()\n",
    "        response2.close()\n",
    "        temp20=json.loads(content2.decode())\n",
    "        "
   ]
  }
 ],
 "metadata": {
  "kernelspec": {
   "display_name": "Python 3 (ipykernel)",
   "language": "python",
   "name": "python3"
  },
  "language_info": {
   "codemirror_mode": {
    "name": "ipython",
    "version": 3
   },
   "file_extension": ".py",
   "mimetype": "text/x-python",
   "name": "python",
   "nbconvert_exporter": "python",
   "pygments_lexer": "ipython3",
   "version": "3.10.2"
  }
 },
 "nbformat": 4,
 "nbformat_minor": 5
}
