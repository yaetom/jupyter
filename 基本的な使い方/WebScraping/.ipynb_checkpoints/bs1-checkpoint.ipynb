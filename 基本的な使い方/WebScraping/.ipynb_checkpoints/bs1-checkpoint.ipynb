{
 "cells": [
  {
   "cell_type": "code",
   "execution_count": 3,
   "id": "aecbd687-bfde-4020-affa-369b4ec946cf",
   "metadata": {},
   "outputs": [
    {
     "name": "stdout",
     "output_type": "stream",
     "text": [
      "Title: Please Please Me , Year: 22 March 1963\n",
      "Title: With The Beatles , Year: 22 November 1963\n",
      "Title: A Hard Day's Night , Year: 10 July 1964\n",
      "Title: Beatles For Sale , Year: 4 December 1964\n",
      "Title: Help! , Year: 6 August 1965\n",
      "Title: Rubber Soul , Year: 3 December 1965\n",
      "Title: Revolver , Year: 5 August 1966\n",
      "Title: Sgt Pepper's Lonely Hearts Club Band , Year: 1 June 1967\n",
      "Title: Magical Mystery Tour , Year: 27 November 1967\n",
      "Title: The Beatles , Year: 22 November 1968\n",
      "Title: Yellow Submarine , Year: 17 January 1969\n",
      "Title: Abbey Road , Year: 26 September 1969\n",
      "Title: Let It Be , Year: 8 May 1970\n",
      "Title: The Beatles 1962-1966 , Year: 1 April 1973\n",
      "Title: The Beatles 1967-1970 , Year: 2 April 1973\n",
      "Title: Past Masters , Year: 7 March 1988\n",
      "Title: Live At The BBC , Year: 30 November 1994\n",
      "Title: The Beatles Anthology 1 , Year: 20 November 1995\n",
      "Title: The Beatles Anthology 2 , Year: 18 March 1996\n",
      "Title: The Beatles Anthology 3 , Year: 28 October 1996\n",
      "Title: Yellow Submarine Songtrack , Year: 13 September 1999\n",
      "Title: 1 , Year: 13 November 2000\n",
      "Title: Let It Be...Naked , Year: 17 November 2003\n",
      "Title: Love , Year: 20 November 2006\n",
      "Title: On Air - Live At The BBC Volume 2 , Year: 11 November 2013\n",
      "Title: Live At The Hollywood Bowl , Year: 9 September 2016\n",
      "Title: Sgt. Pepper’s Lonely Hearts Club Band - Remastered (2017) , Year: 7 April 2017\n",
      "Title: The Beatles 'The White Album' - Special Anniversary Releases (2018) , Year: 9 November 2018\n",
      "Title: Abbey Road - Super Deluxe Edition (2019) , Year: 8 August 2019\n",
      "Title: Let It Be - Special Edition Releases (2021) , Year: 15 October 2021\n",
      "Title: Revolver - Special Edition (2022) , Year: 28 October 2022\n",
      "Title: 'The Beatles 1962-1966 ' Red Album and 'The Beatles 1967-1970 ' Blue Album (2023) , Year: 10 January 2024\n",
      "Title: The Beatles: 1964 U.S. Albums In Mono (2024) , Year: 22 November 2024\n"
     ]
    }
   ],
   "source": [
    "import requests\n",
    "from bs4 import BeautifulSoup\n",
    "\n",
    "url='https://www.thebeatles.com/albums'\n",
    "response=requests.get(url)\n",
    "soup=BeautifulSoup(response.content,'html.parser')\n",
    "\n",
    "album_select=soup.find('div',{'class':'order-1 order-lg-2 col-12'})\n",
    "\n",
    "for album in album_select.find_all('div',{'class':'col-xs-12 col-sm-6 col-md-3 standard-views-grid-item'}):\n",
    "    album_title=album.find('div',{'class':'title'}).text.strip()\n",
    "    album_year=album.find('div',{'class':'pre-title'}).text.strip()\n",
    "\n",
    "    print('Title:',album_title,', Year:',album_year)"
   ]
  },
  {
   "cell_type": "code",
   "execution_count": null,
   "id": "db1ba8ff-1bfb-4286-9bbb-bad1b1851bd9",
   "metadata": {},
   "outputs": [],
   "source": []
  }
 ],
 "metadata": {
  "kernelspec": {
   "display_name": "Python 3 (ipykernel)",
   "language": "python",
   "name": "python3"
  },
  "language_info": {
   "codemirror_mode": {
    "name": "ipython",
    "version": 3
   },
   "file_extension": ".py",
   "mimetype": "text/x-python",
   "name": "python",
   "nbconvert_exporter": "python",
   "pygments_lexer": "ipython3",
   "version": "3.10.2"
  }
 },
 "nbformat": 4,
 "nbformat_minor": 5
}
