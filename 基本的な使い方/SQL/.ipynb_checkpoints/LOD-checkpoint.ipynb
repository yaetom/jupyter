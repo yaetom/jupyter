{
 "cells": [
  {
   "cell_type": "code",
   "execution_count": 1,
   "id": "8cdd7787-3ea5-4ac9-9b15-c53deb65df15",
   "metadata": {},
   "outputs": [
    {
     "name": "stdout",
     "output_type": "stream",
     "text": [
      "Requirement already satisfied: sparqlwrapper in c:\\users\\key\\appdata\\local\\programs\\python\\python310\\lib\\site-packages (2.0.0)\n",
      "Requirement already satisfied: rdflib>=6.1.1 in c:\\users\\key\\appdata\\local\\programs\\python\\python310\\lib\\site-packages (from sparqlwrapper) (7.1.1)\n",
      "Requirement already satisfied: isodate<1.0.0,>=0.7.2 in c:\\users\\key\\appdata\\local\\programs\\python\\python310\\lib\\site-packages (from rdflib>=6.1.1->sparqlwrapper) (0.7.2)\n",
      "Requirement already satisfied: pyparsing<4,>=2.1.0 in c:\\users\\key\\appdata\\local\\programs\\python\\python310\\lib\\site-packages (from rdflib>=6.1.1->sparqlwrapper) (3.0.7)\n"
     ]
    }
   ],
   "source": [
    "!pip install sparqlwrapper"
   ]
  },
  {
   "cell_type": "code",
   "execution_count": 8,
   "id": "0ab91f50-64c9-41f2-ae01-51f8b32515e5",
   "metadata": {},
   "outputs": [],
   "source": [
    "from SPARQLWrapper import SPARQLWrapper\n",
    "\n",
    "sparq12=SPARQLWrapper(endpoint='http://ja.dbpedia.org/sparql',returnFormat='json')\n",
    "sparq12.setQuery(\"\"\"\n",
    "PREFIX dbpedia-owl: <http://dbpedia.org/ontology/>\n",
    "select distinct ?name ?abstract where {\n",
    "?company dbpedia-owl:wikiPageWikiLink<http://ja.dbpedia.org/resource/Category:東証マザーズ上場企業> .\n",
    "?company rdfs:label ?name .\n",
    "?company dbpedia-owl:abstract ?abstract .\n",
    "}\n",
    "\"\"\")\n",
    "\n",
    "results2=sparq12.query().convert()"
   ]
  },
  {
   "cell_type": "raw",
   "id": "f5d3983e-8816-49d6-a4ad-89d9527115dd",
   "metadata": {},
   "source": [
    "results2"
   ]
  },
  {
   "cell_type": "code",
   "execution_count": null,
   "id": "4fa3f352-0cda-48f7-bab8-bb878d29cf63",
   "metadata": {},
   "outputs": [],
   "source": []
  }
 ],
 "metadata": {
  "kernelspec": {
   "display_name": "Python 3 (ipykernel)",
   "language": "python",
   "name": "python3"
  },
  "language_info": {
   "codemirror_mode": {
    "name": "ipython",
    "version": 3
   },
   "file_extension": ".py",
   "mimetype": "text/x-python",
   "name": "python",
   "nbconvert_exporter": "python",
   "pygments_lexer": "ipython3",
   "version": "3.10.2"
  }
 },
 "nbformat": 4,
 "nbformat_minor": 5
}
