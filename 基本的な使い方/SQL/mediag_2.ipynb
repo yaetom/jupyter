{
 "cells": [
  {
   "cell_type": "code",
   "execution_count": 7,
   "id": "022353f3-6dee-4561-b1f1-0418f7d88278",
   "metadata": {},
   "outputs": [],
   "source": [
    "from SPARQLWrapper import SPARQLWrapper\n",
    "\n",
    "sparql6=SPARQLWrapper(endpoint='https://mediag.bunka.go.jp/sparql',returnFormat='json')\n",
    "sparql6.setQuery(\"\"\"\n",
    "PREFIX schema:<https://schema.org/>\n",
    "PREFIX xsd:<http://www.w3.org/2001/XMLSchema#>\n",
    "PREFIX rdfs:<http://www.w3.org/2000/01/rdf-schema#>\n",
    "PREFIX class:<https://mediaarts-db.bunka.go.jp/data/class#>\n",
    "PREFIX ma:<https://mediaarts-db.bunka.go.jp/data/property#>\n",
    "\n",
    "SELECT\n",
    "    ?アニメ ?ラベル ?総放送回数\n",
    "WHERE{\n",
    "    ?アニメ schema:genre \"アニメテレビレギュラーシリーズ\";\n",
    "        ma:numberOfPrograms ?総放送回数 ;\n",
    "        rdfs:label ?ラベル .\n",
    "}\n",
    "ORDER BY DESC(xsd:integer(?総放送回数))\n",
    "\n",
    "\"\"\")\n",
    "results6=sparql6.query().convert()"
   ]
  },
  {
   "cell_type": "code",
   "execution_count": 8,
   "id": "7695238d-6e32-4994-add7-3cd0bab77f39",
   "metadata": {},
   "outputs": [
    {
     "data": {
      "text/plain": [
       "{'head': {'vars': ['アニメ', 'ラベル', '総放送回数']}, 'results': {'bindings': []}}"
      ]
     },
     "execution_count": 8,
     "metadata": {},
     "output_type": "execute_result"
    }
   ],
   "source": [
    "results6"
   ]
  },
  {
   "cell_type": "code",
   "execution_count": 9,
   "id": "65a65b92-5f9a-43f2-ae31-6c802b490912",
   "metadata": {},
   "outputs": [],
   "source": [
    "for result in results6[\"results\"][\"bindings\"]:\n",
    "    print(result[\"ラベル\"][\"value\"],\"\",result[\"総放送回数\"][\"value\"],\"\",result[\"アニメ\"][\"value\"])"
   ]
  },
  {
   "cell_type": "code",
   "execution_count": null,
   "id": "317c96e2-aa68-4bc8-9041-bec694698d74",
   "metadata": {},
   "outputs": [],
   "source": []
  }
 ],
 "metadata": {
  "kernelspec": {
   "display_name": "Python 3 (ipykernel)",
   "language": "python",
   "name": "python3"
  },
  "language_info": {
   "codemirror_mode": {
    "name": "ipython",
    "version": 3
   },
   "file_extension": ".py",
   "mimetype": "text/x-python",
   "name": "python",
   "nbconvert_exporter": "python",
   "pygments_lexer": "ipython3",
   "version": "3.10.2"
  }
 },
 "nbformat": 4,
 "nbformat_minor": 5
}
