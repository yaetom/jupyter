{
 "cells": [
  {
   "cell_type": "code",
   "execution_count": 11,
   "id": "6a1408dc-2a11-4ef9-a8fd-7913ccac02be",
   "metadata": {},
   "outputs": [
    {
     "data": {
      "text/html": [
       "<div>\n",
       "<style scoped>\n",
       "    .dataframe tbody tr th:only-of-type {\n",
       "        vertical-align: middle;\n",
       "    }\n",
       "\n",
       "    .dataframe tbody tr th {\n",
       "        vertical-align: top;\n",
       "    }\n",
       "\n",
       "    .dataframe thead th {\n",
       "        text-align: right;\n",
       "    }\n",
       "</style>\n",
       "<table border=\"1\" class=\"dataframe\">\n",
       "  <thead>\n",
       "    <tr style=\"text-align: right;\">\n",
       "      <th></th>\n",
       "      <th>A</th>\n",
       "      <th>B</th>\n",
       "      <th>C</th>\n",
       "      <th>D</th>\n",
       "    </tr>\n",
       "  </thead>\n",
       "  <tbody>\n",
       "    <tr>\n",
       "      <th>0</th>\n",
       "      <td>-1.664738</td>\n",
       "      <td>-0.003448</td>\n",
       "      <td>1.290361</td>\n",
       "      <td>-1.186478</td>\n",
       "    </tr>\n",
       "    <tr>\n",
       "      <th>1</th>\n",
       "      <td>-0.680474</td>\n",
       "      <td>-0.783366</td>\n",
       "      <td>1.101369</td>\n",
       "      <td>0.381455</td>\n",
       "    </tr>\n",
       "    <tr>\n",
       "      <th>2</th>\n",
       "      <td>1.200221</td>\n",
       "      <td>-0.704214</td>\n",
       "      <td>0.327173</td>\n",
       "      <td>-0.738721</td>\n",
       "    </tr>\n",
       "    <tr>\n",
       "      <th>3</th>\n",
       "      <td>-0.419828</td>\n",
       "      <td>1.506767</td>\n",
       "      <td>-1.998433</td>\n",
       "      <td>-0.911541</td>\n",
       "    </tr>\n",
       "    <tr>\n",
       "      <th>4</th>\n",
       "      <td>0.149208</td>\n",
       "      <td>-0.186989</td>\n",
       "      <td>-0.401470</td>\n",
       "      <td>0.726343</td>\n",
       "    </tr>\n",
       "    <tr>\n",
       "      <th>5</th>\n",
       "      <td>0.386485</td>\n",
       "      <td>-0.738068</td>\n",
       "      <td>-0.101766</td>\n",
       "      <td>-0.425313</td>\n",
       "    </tr>\n",
       "  </tbody>\n",
       "</table>\n",
       "</div>"
      ],
      "text/plain": [
       "          A         B         C         D\n",
       "0 -1.664738 -0.003448  1.290361 -1.186478\n",
       "1 -0.680474 -0.783366  1.101369  0.381455\n",
       "2  1.200221 -0.704214  0.327173 -0.738721\n",
       "3 -0.419828  1.506767 -1.998433 -0.911541\n",
       "4  0.149208 -0.186989 -0.401470  0.726343\n",
       "5  0.386485 -0.738068 -0.101766 -0.425313"
      ]
     },
     "execution_count": 11,
     "metadata": {},
     "output_type": "execute_result"
    }
   ],
   "source": [
    "import pandas as pd\n",
    "import numpy as np\n",
    "df=pd.DataFrame(np.random.randn(6,4),columns=list('ABCD'))\n",
    "df"
   ]
  },
  {
   "cell_type": "code",
   "execution_count": 8,
   "id": "59f87e1e-0a16-4d37-9a3d-d3a6fb4a7412",
   "metadata": {},
   "outputs": [
    {
     "data": {
      "text/plain": [
       "pandas.core.frame.DataFrame"
      ]
     },
     "execution_count": 8,
     "metadata": {},
     "output_type": "execute_result"
    }
   ],
   "source": [
    "type(df)"
   ]
  },
  {
   "cell_type": "code",
   "execution_count": 9,
   "id": "cfb97016-274c-436c-b3e7-e2f9e5f95d6f",
   "metadata": {},
   "outputs": [
    {
     "data": {
      "text/plain": [
       "0   -0.559924\n",
       "1   -1.263011\n",
       "2   -1.019766\n",
       "3   -0.310077\n",
       "4   -0.074644\n",
       "5    0.342743\n",
       "Name: A, dtype: float64"
      ]
     },
     "execution_count": 9,
     "metadata": {},
     "output_type": "execute_result"
    }
   ],
   "source": [
    "df.A"
   ]
  },
  {
   "cell_type": "code",
   "execution_count": 12,
   "id": "e5351c5b-2155-4bb9-bd7b-0cde8a37a7ff",
   "metadata": {},
   "outputs": [],
   "source": [
    "df['E']=['one','one','two','three','four','three']"
   ]
  },
  {
   "cell_type": "code",
   "execution_count": 13,
   "id": "56172dcb-a10f-494f-bb78-c65c211aa78a",
   "metadata": {},
   "outputs": [
    {
     "data": {
      "text/html": [
       "<div>\n",
       "<style scoped>\n",
       "    .dataframe tbody tr th:only-of-type {\n",
       "        vertical-align: middle;\n",
       "    }\n",
       "\n",
       "    .dataframe tbody tr th {\n",
       "        vertical-align: top;\n",
       "    }\n",
       "\n",
       "    .dataframe thead th {\n",
       "        text-align: right;\n",
       "    }\n",
       "</style>\n",
       "<table border=\"1\" class=\"dataframe\">\n",
       "  <thead>\n",
       "    <tr style=\"text-align: right;\">\n",
       "      <th></th>\n",
       "      <th>A</th>\n",
       "      <th>B</th>\n",
       "      <th>C</th>\n",
       "      <th>D</th>\n",
       "      <th>E</th>\n",
       "    </tr>\n",
       "  </thead>\n",
       "  <tbody>\n",
       "    <tr>\n",
       "      <th>0</th>\n",
       "      <td>-1.664738</td>\n",
       "      <td>-0.003448</td>\n",
       "      <td>1.290361</td>\n",
       "      <td>-1.186478</td>\n",
       "      <td>one</td>\n",
       "    </tr>\n",
       "    <tr>\n",
       "      <th>1</th>\n",
       "      <td>-0.680474</td>\n",
       "      <td>-0.783366</td>\n",
       "      <td>1.101369</td>\n",
       "      <td>0.381455</td>\n",
       "      <td>one</td>\n",
       "    </tr>\n",
       "    <tr>\n",
       "      <th>2</th>\n",
       "      <td>1.200221</td>\n",
       "      <td>-0.704214</td>\n",
       "      <td>0.327173</td>\n",
       "      <td>-0.738721</td>\n",
       "      <td>two</td>\n",
       "    </tr>\n",
       "    <tr>\n",
       "      <th>3</th>\n",
       "      <td>-0.419828</td>\n",
       "      <td>1.506767</td>\n",
       "      <td>-1.998433</td>\n",
       "      <td>-0.911541</td>\n",
       "      <td>three</td>\n",
       "    </tr>\n",
       "    <tr>\n",
       "      <th>4</th>\n",
       "      <td>0.149208</td>\n",
       "      <td>-0.186989</td>\n",
       "      <td>-0.401470</td>\n",
       "      <td>0.726343</td>\n",
       "      <td>four</td>\n",
       "    </tr>\n",
       "    <tr>\n",
       "      <th>5</th>\n",
       "      <td>0.386485</td>\n",
       "      <td>-0.738068</td>\n",
       "      <td>-0.101766</td>\n",
       "      <td>-0.425313</td>\n",
       "      <td>three</td>\n",
       "    </tr>\n",
       "  </tbody>\n",
       "</table>\n",
       "</div>"
      ],
      "text/plain": [
       "          A         B         C         D      E\n",
       "0 -1.664738 -0.003448  1.290361 -1.186478    one\n",
       "1 -0.680474 -0.783366  1.101369  0.381455    one\n",
       "2  1.200221 -0.704214  0.327173 -0.738721    two\n",
       "3 -0.419828  1.506767 -1.998433 -0.911541  three\n",
       "4  0.149208 -0.186989 -0.401470  0.726343   four\n",
       "5  0.386485 -0.738068 -0.101766 -0.425313  three"
      ]
     },
     "execution_count": 13,
     "metadata": {},
     "output_type": "execute_result"
    }
   ],
   "source": [
    "df"
   ]
  },
  {
   "cell_type": "code",
   "execution_count": 14,
   "id": "ae9a3ca9-2c67-4f2c-8766-3012b81fe9a6",
   "metadata": {},
   "outputs": [
    {
     "data": {
      "text/plain": [
       "one      2\n",
       "three    2\n",
       "two      1\n",
       "four     1\n",
       "Name: E, dtype: int64"
      ]
     },
     "execution_count": 14,
     "metadata": {},
     "output_type": "execute_result"
    }
   ],
   "source": [
    "df.E.value_counts()"
   ]
  },
  {
   "cell_type": "code",
   "execution_count": 15,
   "id": "81d3b33e-dd32-458b-a756-a33357838d0a",
   "metadata": {},
   "outputs": [
    {
     "data": {
      "text/plain": [
       "A          B          C          D          E    \n",
       "-1.664738  -0.003448   1.290361  -1.186478  one      1\n",
       "-0.680474  -0.783366   1.101369   0.381455  one      1\n",
       "-0.419828   1.506767  -1.998433  -0.911541  three    1\n",
       " 0.149208  -0.186989  -0.401470   0.726343  four     1\n",
       " 0.386485  -0.738068  -0.101766  -0.425313  three    1\n",
       " 1.200221  -0.704214   0.327173  -0.738721  two      1\n",
       "dtype: int64"
      ]
     },
     "execution_count": 15,
     "metadata": {},
     "output_type": "execute_result"
    }
   ],
   "source": [
    "df.value_counts()"
   ]
  },
  {
   "cell_type": "code",
   "execution_count": null,
   "id": "06d0d492-6e60-4e75-977b-36e0f7eb4e81",
   "metadata": {},
   "outputs": [],
   "source": []
  }
 ],
 "metadata": {
  "kernelspec": {
   "display_name": "Python 3 (ipykernel)",
   "language": "python",
   "name": "python3"
  },
  "language_info": {
   "codemirror_mode": {
    "name": "ipython",
    "version": 3
   },
   "file_extension": ".py",
   "mimetype": "text/x-python",
   "name": "python",
   "nbconvert_exporter": "python",
   "pygments_lexer": "ipython3",
   "version": "3.10.2"
  }
 },
 "nbformat": 4,
 "nbformat_minor": 5
}
