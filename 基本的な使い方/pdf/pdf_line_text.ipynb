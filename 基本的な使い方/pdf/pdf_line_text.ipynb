{
 "cells": [
  {
   "cell_type": "code",
   "execution_count": 7,
   "id": "22c4899a-7807-4351-893c-657a986b1404",
   "metadata": {},
   "outputs": [],
   "source": [
    "from reportlab.pdfgen import canvas\n",
    "from reportlab.lib.pagesizes import A4,portrait\n",
    "from reportlab.lib.units import inch,mm,cm\n",
    "\n",
    "page=canvas.Canvas('pdf_line_text.pdf',pagesize=portrait(A4))\n",
    "\n",
    "cols=26\n",
    "margin=10\n",
    "tile=(A4[0]-margin*2)/cols\n",
    "rows=int((A4[1]-margin*2)/tile)\n",
    "page.setFontSize(tile*0.5)\n",
    "for y in range(rows):\n",
    "    for x in range(cols):\n",
    "        i=(x+y)%26\n",
    "        xx,yy=(x*tile+margin,y*tile+margin)\n",
    "        page.rect(xx,yy,tile,tile,stroke=1,fill=0)\n",
    "        page.drawString(xx+8,yy+7,chr(ord('A')+i))\n",
    "\n",
    "page.save()"
   ]
  },
  {
   "cell_type": "code",
   "execution_count": null,
   "id": "aa5d8e00-f357-454f-9d8d-5455b8af2998",
   "metadata": {},
   "outputs": [],
   "source": []
  }
 ],
 "metadata": {
  "kernelspec": {
   "display_name": "Python 3 (ipykernel)",
   "language": "python",
   "name": "python3"
  },
  "language_info": {
   "codemirror_mode": {
    "name": "ipython",
    "version": 3
   },
   "file_extension": ".py",
   "mimetype": "text/x-python",
   "name": "python",
   "nbconvert_exporter": "python",
   "pygments_lexer": "ipython3",
   "version": "3.10.2"
  }
 },
 "nbformat": 4,
 "nbformat_minor": 5
}
