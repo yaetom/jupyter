{
 "cells": [
  {
   "cell_type": "code",
   "execution_count": 4,
   "id": "16e06bac-58dd-406e-977e-cd49f0d457a2",
   "metadata": {},
   "outputs": [],
   "source": [
    "from reportlab.pdfgen import canvas\n",
    "from reportlab.lib.pagesizes import A4, portrait\n",
    "\n",
    "pdf_file=\"hello.pdf\"\n",
    "page=canvas.Canvas(pdf_file,pagesize=portrait(A4))\n",
    "\n",
    "page.setFontSize(80)\n",
    "page.drawString(20,700,\"Hello!\")\n",
    "\n",
    "page.save()"
   ]
  },
  {
   "cell_type": "code",
   "execution_count": 6,
   "id": "4ec5b7e8-ab44-444b-bf6d-959c31cfeda1",
   "metadata": {},
   "outputs": [
    {
     "name": "stdout",
     "output_type": "stream",
     "text": [
      "A4縦サイズ (595.2755905511812, 841.8897637795277)\n",
      "A4横サイズ (841.8897637795277, 595.2755905511812)\n"
     ]
    }
   ],
   "source": [
    "from reportlab.lib.pagesizes import A4,portrait,landscape\n",
    "\n",
    "print(\"A4縦サイズ\",portrait(A4))\n",
    "print(\"A4横サイズ\",landscape(A4))"
   ]
  },
  {
   "cell_type": "code",
   "execution_count": null,
   "id": "088c2e50-9e70-4777-a1a0-6c056e1cebb9",
   "metadata": {},
   "outputs": [],
   "source": []
  }
 ],
 "metadata": {
  "kernelspec": {
   "display_name": "Python 3 (ipykernel)",
   "language": "python",
   "name": "python3"
  },
  "language_info": {
   "codemirror_mode": {
    "name": "ipython",
    "version": 3
   },
   "file_extension": ".py",
   "mimetype": "text/x-python",
   "name": "python",
   "nbconvert_exporter": "python",
   "pygments_lexer": "ipython3",
   "version": "3.10.2"
  }
 },
 "nbformat": 4,
 "nbformat_minor": 5
}
