{
 "cells": [
  {
   "cell_type": "code",
   "execution_count": 1,
   "id": "daff2878-d22d-4275-aeeb-01f56c322434",
   "metadata": {},
   "outputs": [
    {
     "name": "stdout",
     "output_type": "stream",
     "text": [
      "OK\n",
      "Yes\n",
      "OK\n",
      "OK\n",
      "(12, 29, 2024)\n",
      "#000040\n",
      "リンゴ\n"
     ]
    },
    {
     "ename": "TypeError",
     "evalue": "popup_listbox() got an unexpected keyword argument 'items'",
     "output_type": "error",
     "traceback": [
      "\u001b[1;31m---------------------------------------------------------------------------\u001b[0m",
      "\u001b[1;31mTypeError\u001b[0m                                 Traceback (most recent call last)",
      "Cell \u001b[1;32mIn[1], line 43\u001b[0m\n\u001b[0;32m     40\u001b[0m \u001b[38;5;28mprint\u001b[39m(eg\u001b[38;5;241m.\u001b[39mpopup_buttons(\u001b[38;5;124m\"\u001b[39m\u001b[38;5;124m[21] popup_buttons\u001b[39m\u001b[38;5;124m\"\u001b[39m,\n\u001b[0;32m     41\u001b[0m     buttons\u001b[38;5;241m=\u001b[39m[\u001b[38;5;124m\"\u001b[39m\u001b[38;5;124mリンゴ\u001b[39m\u001b[38;5;124m\"\u001b[39m, \u001b[38;5;124m\"\u001b[39m\u001b[38;5;124mバナナ\u001b[39m\u001b[38;5;124m\"\u001b[39m, \u001b[38;5;124m\"\u001b[39m\u001b[38;5;124mミカン\u001b[39m\u001b[38;5;124m\"\u001b[39m]))\n\u001b[0;32m     42\u001b[0m \u001b[38;5;66;03m# リストボックスをポップアップ --- (*22)\u001b[39;00m\n\u001b[1;32m---> 43\u001b[0m \u001b[38;5;28mprint\u001b[39m(\u001b[43meg\u001b[49m\u001b[38;5;241;43m.\u001b[39;49m\u001b[43mpopup_listbox\u001b[49m\u001b[43m(\u001b[49m\u001b[43mtitle\u001b[49m\u001b[38;5;241;43m=\u001b[39;49m\u001b[38;5;124;43m\"\u001b[39;49m\u001b[38;5;124;43m[22] popup_list\u001b[39;49m\u001b[38;5;124;43m\"\u001b[39;49m\u001b[43m,\u001b[49m\n\u001b[0;32m     44\u001b[0m \u001b[43m    \u001b[49m\u001b[43mmessage\u001b[49m\u001b[38;5;241;43m=\u001b[39;49m\u001b[38;5;124;43m\"\u001b[39;49m\u001b[38;5;124;43m好きな果物を選んでください\u001b[39;49m\u001b[38;5;124;43m\"\u001b[39;49m\u001b[43m,\u001b[49m\n\u001b[0;32m     45\u001b[0m \u001b[43m    \u001b[49m\u001b[43mitems\u001b[49m\u001b[38;5;241;43m=\u001b[39;49m\u001b[43m[\u001b[49m\u001b[38;5;124;43m\"\u001b[39;49m\u001b[38;5;124;43mリンゴ\u001b[39;49m\u001b[38;5;124;43m\"\u001b[39;49m\u001b[43m,\u001b[49m\u001b[43m \u001b[49m\u001b[38;5;124;43m\"\u001b[39;49m\u001b[38;5;124;43mバナナ\u001b[39;49m\u001b[38;5;124;43m\"\u001b[39;49m\u001b[43m,\u001b[49m\u001b[43m \u001b[49m\u001b[38;5;124;43m\"\u001b[39;49m\u001b[38;5;124;43mミカン\u001b[39;49m\u001b[38;5;124;43m\"\u001b[39;49m\u001b[43m]\u001b[49m\u001b[43m)\u001b[49m)\n",
      "\u001b[1;31mTypeError\u001b[0m: popup_listbox() got an unexpected keyword argument 'items'"
     ]
    }
   ],
   "source": [
    "import PySimpleGUI as sg\n",
    "# import TkEasyGUI as sg\n",
    "\n",
    "# メッセージをダイアログに表示する\n",
    "sg.popup(\"[1] popup\")\n",
    "# OKボタンを持ったダイアログ\n",
    "sg.popup_ok(\"[2] popup_ok\")\n",
    "# OK/Cancelボタンを持つダイアログ\n",
    "print(sg.popup_ok_cancel(\"[3] popup_ok_cancel\"))\n",
    "# YES/Noボタンを持つダイアログ\n",
    "print(sg.popup_yes_no(\"[4] popup_yes_no\"))\n",
    "# Cancelledボタンを持つダイアログ\n",
    "sg.popup_cancel(\"[5] popup_cancel\")\n",
    "# Errorボタンを持つダイアログ\n",
    "sg.popup_error(\"[6] popup_error\")\n",
    "# 待ち時間のないダイアログ --- (*7)\n",
    "sg.popup_no_wait(\"[7] popup_no_wait\")\n",
    "# 3秒で自動的に閉じる --- (*8)\n",
    "print(sg.popup_auto_close(\"[8] popup_auto_close\", auto_close_duration=3))\n",
    "# ボタンのないダイアログ --- (+9)\n",
    "sg.popup_no_buttons(\"[9] popup_no_buttons\")\n",
    "# テキスト入力ダイアログ --- (*10)\n",
    "sg.popup_get_text(\"[10] popup_get_text\")\n",
    "# 通知領域に情報を表示する --- (*11)\n",
    "sg.popup_notify(\"[11] popup_notify\")\n",
    "# ファイル選択ダイアログ --- (*12)\n",
    "sg.popup_get_file(\"[12] popup_get_file\")\n",
    "# フォルダ選択ダイアログ --- (*13)\n",
    "sg.popup_get_folder(\"[13] popup_get_folder\")\n",
    "# 複数行入力ボックス --- (*14)\n",
    "print(sg.popup_scrolled(\"[14] popup_scrolled\\n複数行\\n入力\"))\n",
    "# 日付入力ボックス --- (*15)\n",
    "print(sg.popup_get_date(title=\"[15] popup_get_date\"))\n",
    "\n",
    "import TkEasyGUI as eg\n",
    "\n",
    "# 色選択ダイアログをポップアップ --- (*20)\n",
    "print(eg.popup_color(\"[20] popup_color\"))\n",
    "# 任意のボタンをポップアップ --- (*21)\n",
    "print(eg.popup_buttons(\"[21] popup_buttons\",\n",
    "    buttons=[\"リンゴ\", \"バナナ\", \"ミカン\"]))\n",
    "# リストボックスをポップアップ --- (*22)\n",
    "print(eg.popup_listbox(title=\"[22] popup_list\",\n",
    "    message=\"好きな果物を選んでください\",\n",
    "    items=[\"リンゴ\", \"バナナ\", \"ミカン\"]))\n"
   ]
  },
  {
   "cell_type": "code",
   "execution_count": null,
   "id": "392a126a-f700-451d-8394-3bc5154718fb",
   "metadata": {},
   "outputs": [],
   "source": []
  }
 ],
 "metadata": {
  "kernelspec": {
   "display_name": "Python 3 (ipykernel)",
   "language": "python",
   "name": "python3"
  },
  "language_info": {
   "codemirror_mode": {
    "name": "ipython",
    "version": 3
   },
   "file_extension": ".py",
   "mimetype": "text/x-python",
   "name": "python",
   "nbconvert_exporter": "python",
   "pygments_lexer": "ipython3",
   "version": "3.10.2"
  }
 },
 "nbformat": 4,
 "nbformat_minor": 5
}
