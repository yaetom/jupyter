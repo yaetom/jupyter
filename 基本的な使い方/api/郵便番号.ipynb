{
 "cells": [
  {
   "cell_type": "code",
   "execution_count": 17,
   "id": "1b9fa8c3-2e96-4af1-b69f-5bf87ae3eb12",
   "metadata": {},
   "outputs": [
    {
     "name": "stdout",
     "output_type": "stream",
     "text": [
      "  address1 address2 address3   kana1  kana2   kana3 prefcode  zipcode\n",
      "0      長野県      松本市       並柳  ﾅｶﾞﾉｹﾝ  ﾏﾂﾓﾄｼ  ﾅﾐﾔﾅｷﾞ       20  3900825\n",
      "  address1\n",
      "0      長野県\n"
     ]
    }
   ],
   "source": [
    "import requests\n",
    "import pandas as pd\n",
    "\n",
    "def zipinfo(zipcode):\n",
    "    url=\"https://zip-cloud.appspot.com/api/search?zipcode=\"+str(zipcode)\n",
    "    x=requests.get(url)\n",
    "    x=x.json()\n",
    "    x=x['results']\n",
    "    y=pd.DataFrame(x)\n",
    "    print(y)\n",
    "\n",
    "    y=y[['address1']]\n",
    "    print(y)\n",
    "\n",
    "zipinfo(3900825)"
   ]
  },
  {
   "cell_type": "markdown",
   "id": "47106b90-ef72-4a14-9b81-da4d80cd74c9",
   "metadata": {},
   "source": [
    "{\n",
    "\t\"message\": null,\n",
    "    \n",
    "\t\"results\": [\n",
    "\t\t{\n",
    "        \n",
    "\t\t\t\"address1\": \"東京都\",\n",
    "\t\t\t\"address2\": \"品川区\",\n",
    "\t\t\t\"address3\": \"北品川\",\n",
    "\t\t\t\"kana1\": \"ﾄｳｷｮｳﾄ\",\n",
    "\t\t\t\"kana2\": \"ｼﾅｶﾞﾜｸ\",\n",
    "\t\t\t\"kana3\": \"ｷﾀｼﾅｶﾞﾜ\",\n",
    "\t\t\t\"prefcode\": \"13\",\n",
    "\t\t\t\"zipcode\": \"1400001\"\n",
    "\t\t}\n",
    "\t],\n",
    "\t\"status\": 200\n",
    "}"
   ]
  },
  {
   "cell_type": "code",
   "execution_count": null,
   "id": "c0bc4dcb-0037-4500-9dd3-32587476d872",
   "metadata": {},
   "outputs": [],
   "source": []
  }
 ],
 "metadata": {
  "kernelspec": {
   "display_name": "Python 3 (ipykernel)",
   "language": "python",
   "name": "python3"
  },
  "language_info": {
   "codemirror_mode": {
    "name": "ipython",
    "version": 3
   },
   "file_extension": ".py",
   "mimetype": "text/x-python",
   "name": "python",
   "nbconvert_exporter": "python",
   "pygments_lexer": "ipython3",
   "version": "3.10.2"
  }
 },
 "nbformat": 4,
 "nbformat_minor": 5
}
