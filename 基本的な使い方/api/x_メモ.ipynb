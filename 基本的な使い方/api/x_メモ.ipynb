{
 "cells": [
  {
   "cell_type": "code",
   "execution_count": null,
   "id": "6f2c839f-b88d-4479-b133-786e6b833ad8",
   "metadata": {},
   "outputs": [],
   "source": [
    "import sys\n",
    "import xml.etree.ElementTree as ET\n",
    "import json\n",
    "\n",
    "def put_attrib(node, result):\n",
    "    for k, v in node.items():\n",
    "    result[k] = v\n",
    "\n",
    "def trav(node):\n",
    "    results = []\n",
    "    for idx in range(len(node)):\n",
    "        item = node[idx]\n",
    "        result = {\n",
    "            'tag': item.tag\n",
    "        }\n",
    "        put_attrib(item, result)\n",
    "        result['text'] = item.text\n",
    "        result['tail'] = item.tail\n",
    "        result['childlen'] = len(item)\n",
    "        result['children'] = trav(item)\n",
    "        results.append(result)\n",
    "\n",
    "    return results\n",
    "\n",
    "def to_json(arg):\n",
    "    tree = ET.parse(arg)\n",
    "\n",
    "    root = tree.getroot()\n",
    "    tree = {\n",
    "        'tag': root.tag\n",
    "    }\n",
    "    put_attrib(root, tree)\n",
    "    tree['text'] = root.text\n",
    "    tree['tail'] = root.tail\n",
    "    tree['childlen'] = len(root)\n",
    "    tree['children'] = trav(root)\n",
    "\n",
    "\n",
    "    return json.dumps(tree, ensure_ascii=False, indent=2)\n",
    "\n",
    "if __name__ == '__main__':\n",
    "    for arg in sys.argv[1:]:\n",
    "       j = to_json(arg)\n",
    "       print(j)"
   ]
  },
  {
   "cell_type": "code",
   "execution_count": null,
   "id": "80e69b5a-d5e7-4875-bf1a-a597460b4f78",
   "metadata": {},
   "outputs": [],
   "source": []
  }
 ],
 "metadata": {
  "kernelspec": {
   "display_name": "Python 3 (ipykernel)",
   "language": "python",
   "name": "python3"
  },
  "language_info": {
   "codemirror_mode": {
    "name": "ipython",
    "version": 3
   },
   "file_extension": ".py",
   "mimetype": "text/x-python",
   "name": "python",
   "nbconvert_exporter": "python",
   "pygments_lexer": "ipython3",
   "version": "3.10.2"
  }
 },
 "nbformat": 4,
 "nbformat_minor": 5
}
