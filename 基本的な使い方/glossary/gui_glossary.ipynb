{
 "cells": [
  {
   "cell_type": "code",
   "execution_count": 14,
   "id": "15fc7007-c145-4fc3-8d01-e700f07f1e5a",
   "metadata": {},
   "outputs": [
    {
     "name": "stderr",
     "output_type": "stream",
     "text": [
      "C:\\Users\\key\\AppData\\Local\\Programs\\Python\\Python310\\lib\\site-packages\\pandas\\io\\sql.py:758: UserWarning: pandas only support SQLAlchemy connectable(engine/connection) ordatabase string URI or sqlite3 DBAPI2 connectionother DBAPI2 objects are not tested, please consider using SQLAlchemy\n",
      "  warnings.warn(\n"
     ]
    }
   ],
   "source": [
    "import os\n",
    "import pymysql\n",
    "import pandas as pd\n",
    "import PySimpleGUI as sg\n",
    "\n",
    "def read_glossary():\n",
    "    host='localhost'\n",
    "    port='3306'\n",
    "    user='user001'\n",
    "    password='mysqluser001'\n",
    "    databese='glossarybase'\n",
    "    \n",
    "    conn=pymysql.connect(\n",
    "        host=host,\n",
    "        port=int(port),\n",
    "        user=user,\n",
    "        passwd=password,\n",
    "        db=databese,\n",
    "        charset='utf8mb4')\n",
    "\n",
    "    df=pd.read_sql_query(\"SELECT * FROM glossary_table\",conn)\n",
    "    df\n",
    "    \n",
    "    result=[]\n",
    "#    name_col_index=xl.utils.column_index_from_string(\"I\")\n",
    "#    pop_col_index=xl.utils.column_index_from_string(\"L\")\n",
    "\n",
    "    l=len(df)\n",
    "    for row in range(0,l):\n",
    "        #i=df['id'][row]\n",
    "        n=df['no'][row]\n",
    "        g=df['glossary'][row]\n",
    "        r=df['reading'][row]\n",
    "        o=df['omitted'][row]\n",
    "        d=df['detail'][row]\n",
    "        result.append([n,g,r,o,d])\n",
    "    return result\n",
    "\n",
    "def show_table(data):\n",
    "    layout=[\n",
    "        [sg.Table(values=data,\n",
    "                  headings=[\"no\",\"glossary\",\"reading\",\"omitted\",\"detail\"],\n",
    "                  auto_size_columns=True,\n",
    "                  expand_x=True,\n",
    "                  expand_y=True,\n",
    "                  justification=\"left\",\n",
    "                  font=(\"Arial\",11))],\n",
    "        [sg.Button(\"閉じる\")]]\n",
    "\n",
    "    window=sg.Window(\"GLOSSARY\",layout,size=(1500,400))\n",
    "    while True:\n",
    "        event,_=window.read()\n",
    "        if event in [\"閉じる\",sg.WIN_CLOSED]:\n",
    "            break\n",
    "        window.close()\n",
    "\n",
    "if __name__ == \"__main__\":\n",
    "    data=read_glossary()\n",
    "    show_table(data)\n"
   ]
  },
  {
   "cell_type": "code",
   "execution_count": null,
   "id": "21e4a9be-270a-4dc8-9850-348594ec3c53",
   "metadata": {},
   "outputs": [],
   "source": []
  }
 ],
 "metadata": {
  "kernelspec": {
   "display_name": "Python 3 (ipykernel)",
   "language": "python",
   "name": "python3"
  },
  "language_info": {
   "codemirror_mode": {
    "name": "ipython",
    "version": 3
   },
   "file_extension": ".py",
   "mimetype": "text/x-python",
   "name": "python",
   "nbconvert_exporter": "python",
   "pygments_lexer": "ipython3",
   "version": "3.10.2"
  }
 },
 "nbformat": 4,
 "nbformat_minor": 5
}
