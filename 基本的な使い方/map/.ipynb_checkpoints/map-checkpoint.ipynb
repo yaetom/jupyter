{
 "cells": [
  {
   "cell_type": "code",
   "execution_count": 14,
   "id": "10c8ff92-436e-4854-9f52-4d66964b3371",
   "metadata": {},
   "outputs": [
    {
     "name": "stdout",
     "output_type": "stream",
     "text": [
      "[139.887955, 35.070312]\n"
     ]
    }
   ],
   "source": [
    "import requests\n",
    "import urllib\n",
    "\n",
    "makeUrl = \"https://msearch.gsi.go.jp/address-search/AddressSearch?q=\"\n",
    "s_quote = urllib.parse.quote('千葉県南房総市富浦町青木123-1')\n",
    "response = requests.get(makeUrl + s_quote)\n",
    "\n",
    "print(response.json()[0][\"geometry\"][\"coordinates\"])"
   ]
  },
  {
   "cell_type": "code",
   "execution_count": 22,
   "id": "f0d0671e-bfa0-4ccd-b2c3-a0622216773c",
   "metadata": {},
   "outputs": [
    {
     "name": "stdout",
     "output_type": "stream",
     "text": [
      "<Response [200]>\n"
     ]
    }
   ],
   "source": [
    "import requests\n",
    "\n",
    "makeUrl=\"http://cyberjapandata.gsi.go.jp/xyz/dem/14/14255/6519.txt\"\n",
    "data=requests.get(makeUrl)\n",
    "\n",
    "print(data)"
   ]
  },
  {
   "cell_type": "code",
   "execution_count": 23,
   "id": "3a3854a7-9b2a-438f-8fb5-476bed6b823f",
   "metadata": {},
   "outputs": [
    {
     "name": "stdout",
     "output_type": "stream",
     "text": [
      "29.2\n"
     ]
    }
   ],
   "source": [
    "import requests\n",
    "\n",
    "lat = 35.678601  # 緯度\n",
    "lon = 139.740286 # 経度\n",
    "\n",
    "url = \"http://cyberjapandata2.gsi.go.jp/general/dem/scripts/getelevation.php\" \\\n",
    "       \"?lon=%s&lat=%s&outtype=%s\" %(lon, lat, \"JSON\")\n",
    "\n",
    "resp = requests.get(url, timeout=10)\n",
    "data = resp.json()\n",
    "\n",
    "print(data[\"elevation\"])"
   ]
  },
  {
   "cell_type": "code",
   "execution_count": 26,
   "id": "f5f23511-8abd-434d-8424-493c03917646",
   "metadata": {},
   "outputs": [
    {
     "name": "stdout",
     "output_type": "stream",
     "text": [
      "<folium.folium.Map object at 0x0000021E20D99240>\n"
     ]
    }
   ],
   "source": [
    "import folium\n",
    "\n",
    "m = folium.Map(location=[35.6769883, 139.7588499],\n",
    "               tiles='https://cyberjapandata.gsi.go.jp/xyz/std/{z}/{x}/{y}.png',\n",
    "               attr='国土地理院',\n",
    "               zoom_start=15)\n",
    "print(m)\n",
    "m.save('map.html')"
   ]
  },
  {
   "cell_type": "code",
   "execution_count": 44,
   "id": "851e4006-c05d-4298-95a7-e719f789d7bb",
   "metadata": {},
   "outputs": [
    {
     "name": "stdout",
     "output_type": "stream",
     "text": [
      "<Response [200]>\n"
     ]
    }
   ],
   "source": [
    "import requests\n",
    "url=\"https://maps.gsi.go.jp/vector/#10/36.542207/138.289321/&ls=vblank&disp=1&d=l\"\n",
    "#url=\"https://maps.gsi.go.jp/#15/38.262749/140.873523/&ls=ort%7Cexperimental_anno%7Cexperimental_rdcl%7Cexperimental_railcl%7Cexperimental_rvrcl&disp=00100&lcd=experimental_rdcl&vs=c1g1j0h0k0l0u0t0z0r0s0m0f1&d=m\"\n",
    "#url = \"https://cyberjapandata.gsi.go.jp/xyz/experimental_rdcl/16/38.2/140.8.geojson\"\n",
    "resp = requests.get(url)\n",
    "print(resp)"
   ]
  },
  {
   "cell_type": "code",
   "execution_count": 48,
   "id": "41bc519f-7f66-471e-bd84-8d819d6d762e",
   "metadata": {},
   "outputs": [
    {
     "data": {
      "text/html": [
       "\n",
       "        <iframe\n",
       "            width=\"960\"\n",
       "            height=\"500\"\n",
       "            src=\"https://www.keene.edu/campus/maps/tool/\"\n",
       "            frameborder=\"0\"\n",
       "            allowfullscreen\n",
       "            \n",
       "        ></iframe>\n",
       "        "
      ],
      "text/plain": [
       "<IPython.lib.display.IFrame at 0x21e069126e0>"
      ]
     },
     "execution_count": 48,
     "metadata": {},
     "output_type": "execute_result"
    }
   ],
   "source": [
    "from IPython.display import IFrame\n",
    "src=\"https://www.keene.edu/campus/maps/tool/\"\n",
    "IFrame(src,width=960,height=500)"
   ]
  },
  {
   "cell_type": "code",
   "execution_count": null,
   "id": "f5da23f0-0357-418c-b169-7ceba18c517f",
   "metadata": {},
   "outputs": [],
   "source": []
  }
 ],
 "metadata": {
  "kernelspec": {
   "display_name": "Python 3 (ipykernel)",
   "language": "python",
   "name": "python3"
  },
  "language_info": {
   "codemirror_mode": {
    "name": "ipython",
    "version": 3
   },
   "file_extension": ".py",
   "mimetype": "text/x-python",
   "name": "python",
   "nbconvert_exporter": "python",
   "pygments_lexer": "ipython3",
   "version": "3.10.2"
  }
 },
 "nbformat": 4,
 "nbformat_minor": 5
}
