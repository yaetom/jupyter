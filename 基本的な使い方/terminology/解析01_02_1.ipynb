{
 "cells": [
  {
   "cell_type": "code",
   "execution_count": 41,
   "id": "df1e1a58-1a88-41ca-917c-6761615a7de2",
   "metadata": {},
   "outputs": [
    {
     "name": "stdout",
     "output_type": "stream",
     "text": [
      "インジェクション攻撃\n",
      "DoS攻撃\n",
      "ゼロデイ攻撃\n"
     ]
    }
   ],
   "source": [
    "from bs4 import BeautifulSoup\n",
    "import requests\n",
    "import bs4\n",
    "import pandas as pd\n",
    "import re\n",
    "\n",
    "url = \"https://it-trend.jp/words/incident\"\n",
    "res = requests.get(url)\n",
    "\n",
    "soup = BeautifulSoup(res.text, \"html.parser\")\n",
    "#print(soup)\n",
    "\n",
    "#article_body = soup.find(\"td\", class_=\"first\")\n",
    "#text = article_body.get_text()\n",
    "#parts = text.split(\"/\")\n",
    "#print(parts[0][:-1])\n",
    "#print(parts[1][1:])\n",
    "\n",
    "article_body = soup.find(id=\"words-relation\")\n",
    "text=article_body.get_text()\n",
    "cleaned_text = re.sub(r'\\s+', ' ', text).strip()\n",
    "words=cleaned_text.split()\n",
    "\n",
    "for i in words:\n",
    "    if i!='関連用語' and i!='他の用語も調べる':\n",
    "        print(i)\n",
    "        "
   ]
  },
  {
   "cell_type": "code",
   "execution_count": null,
   "id": "afca08cc-8c9e-4429-8735-f5985cc6fe7e",
   "metadata": {},
   "outputs": [],
   "source": []
  }
 ],
 "metadata": {
  "kernelspec": {
   "display_name": "Python 3 (ipykernel)",
   "language": "python",
   "name": "python3"
  },
  "language_info": {
   "codemirror_mode": {
    "name": "ipython",
    "version": 3
   },
   "file_extension": ".py",
   "mimetype": "text/x-python",
   "name": "python",
   "nbconvert_exporter": "python",
   "pygments_lexer": "ipython3",
   "version": "3.10.2"
  }
 },
 "nbformat": 4,
 "nbformat_minor": 5
}
