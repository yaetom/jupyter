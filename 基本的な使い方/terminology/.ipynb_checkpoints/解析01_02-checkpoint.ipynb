{
 "cells": [
  {
   "cell_type": "code",
   "execution_count": 81,
   "id": "80bae555-71f3-4803-a28c-bf1dbf5201f1",
   "metadata": {},
   "outputs": [
    {
     "name": "stdout",
     "output_type": "stream",
     "text": [
      "あいでんてぃてぃかんり\n",
      "Identity Management\n",
      "アイデンティティ管理とは、IDやパスワードなどのユーザアカウントを一元的に管理するシステムや技術のこと。 同義語：ID管理\n",
      "\n",
      "管理するユーザ情報には、ID、パスワード、ユーザプロファイル、プロファイルに基づくアクセス権限などが対象となる。\n",
      "\n",
      "旧来のアイデンティティ管理では、端末やシステム、ネットワークごとにログイン用のID、パスワードだけを単純に手作業で管理していたが、所属や職責、雇用形態などのユーザプロファイルによって、閲覧、変更などの細かいアクセス権限や有効期間などを効率的に管理するために統合的なアイデンティティ管理が発展してきた。\n",
      "\n",
      "セキュリティ面では、情報漏洩などにおいて、外部からの不正侵入に対して、正規のID、パスワードを利用した内部からのデータ持ち出しが圧倒的に多いといわる。\n",
      "この点において、退職者や契約社員、アルバイトなどに付与されたIDが、有効なまま削除されず、放置されていることが指摘されている。\n",
      "\n",
      "IDのライフサイクル管理については、特権IDといわれる管理者用IDは、データへのアクセスなど、ほぼ制限がないため、近年その管理が重要視されている。\n",
      "\n",
      "また、ユーザの利便性では、シングルサインオンなどの仕組みも普及している。\n"
     ]
    }
   ],
   "source": [
    "from bs4 import BeautifulSoup\n",
    "import requests\n",
    "import bs4\n",
    "import pandas as pd\n",
    "\n",
    "url = \"https://it-trend.jp/words/identity\"\n",
    "res = requests.get(url)\n",
    "\n",
    "soup = BeautifulSoup(res.text, \"html.parser\")\n",
    "\n",
    "article_body = soup.find(\"td\", class_=\"first\")\n",
    "text = article_body.get_text()\n",
    "parts = text.split(\"/\")\n",
    "print(parts[0][:-1])\n",
    "print(parts[1][1:])\n",
    "\n",
    "article_body = soup.find(id=\"detail_sentence\")\n",
    "print(article_body.get_text())\n"
   ]
  },
  {
   "cell_type": "code",
   "execution_count": null,
   "id": "37aa6f5c-a791-47bc-a5aa-a7f4fb4ee1ae",
   "metadata": {},
   "outputs": [],
   "source": []
  }
 ],
 "metadata": {
  "kernelspec": {
   "display_name": "Python 3 (ipykernel)",
   "language": "python",
   "name": "python3"
  },
  "language_info": {
   "codemirror_mode": {
    "name": "ipython",
    "version": 3
   },
   "file_extension": ".py",
   "mimetype": "text/x-python",
   "name": "python",
   "nbconvert_exporter": "python",
   "pygments_lexer": "ipython3",
   "version": "3.10.2"
  }
 },
 "nbformat": 4,
 "nbformat_minor": 5
}
