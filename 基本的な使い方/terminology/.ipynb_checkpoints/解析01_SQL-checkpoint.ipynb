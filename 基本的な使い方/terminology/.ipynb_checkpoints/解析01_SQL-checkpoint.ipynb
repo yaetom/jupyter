{
 "cells": [
  {
   "cell_type": "code",
   "execution_count": 1,
   "id": "22de10ab-986e-4986-99e8-1899386e3688",
   "metadata": {},
   "outputs": [
    {
     "name": "stdout",
     "output_type": "stream",
     "text": [
      "Collecting psycopg2\n",
      "  Downloading psycopg2-2.9.10-cp310-cp310-win_amd64.whl.metadata (5.0 kB)\n",
      "Downloading psycopg2-2.9.10-cp310-cp310-win_amd64.whl (1.2 MB)\n",
      "   ---------------------------------------- 0.0/1.2 MB ? eta -:--:--\n",
      "   --------- ------------------------------ 0.3/1.2 MB ? eta -:--:--\n",
      "   ------------------ --------------------- 0.5/1.2 MB 2.1 MB/s eta 0:00:01\n",
      "   --------------------------- ------------ 0.8/1.2 MB 2.0 MB/s eta 0:00:01\n",
      "   ---------------------------------------- 1.2/1.2 MB 1.5 MB/s eta 0:00:00\n",
      "Installing collected packages: psycopg2\n",
      "Successfully installed psycopg2-2.9.10\n"
     ]
    }
   ],
   "source": [
    "!pip install psycopg2"
   ]
  },
  {
   "cell_type": "code",
   "execution_count": null,
   "id": "aa5c5a5c-3bd8-4f36-91c2-381854192ce9",
   "metadata": {},
   "outputs": [],
   "source": [
    "import psycopg2\n",
    "\n",
    "host=\"localhost\"\n",
    "dbname=\"it_db\"\n",
    "user=\"postgres\"\n",
    "password=\"postgres001\"\n",
    "port=\"5432\"\n",
    "\n",
    "try:\n",
    "    connection=psycopg2.connect(\n",
    "        host=host,\n",
    "        dbname=dbname,\n",
    "        user=user,\n",
    "        password=passward,\n",
    "        port=port\n",
    "    )\n",
    "    print(\"データベースに接続完了\")\n",
    "\n",
    "    cursor=connection.cursor()\n",
    "    cursor.execute(\"SELECT table_name FROM information_schema.tables WHERE table_schema='public';\")\n",
    "\n",
    "    tables=cursor.fetchall()\n",
    "    print(\"テーブル一覧：\",tables)\n",
    "\n",
    "except Exception as e:\n",
    "    print(\"接続エラー：\",e)\n",
    "\n",
    "finally:\n",
    "    if connection:\n",
    "        cursor.close()\n",
    "        connection.close()\n",
    "        print(\"データベース接続を閉じました\")"
   ]
  }
 ],
 "metadata": {
  "kernelspec": {
   "display_name": "Python 3 (ipykernel)",
   "language": "python",
   "name": "python3"
  },
  "language_info": {
   "codemirror_mode": {
    "name": "ipython",
    "version": 3
   },
   "file_extension": ".py",
   "mimetype": "text/x-python",
   "name": "python",
   "nbconvert_exporter": "python",
   "pygments_lexer": "ipython3",
   "version": "3.10.2"
  }
 },
 "nbformat": 4,
 "nbformat_minor": 5
}
