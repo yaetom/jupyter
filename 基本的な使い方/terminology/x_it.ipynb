{
 "cells": [
  {
   "cell_type": "code",
   "execution_count": 3,
   "id": "e884b5a3-9cb4-406a-895d-c013a6f73c4f",
   "metadata": {},
   "outputs": [
    {
     "name": "stdout",
     "output_type": "stream",
     "text": [
      "01:\n",
      "02:\n",
      "03:\n",
      "04:\n",
      "05:\n",
      "06:\n",
      "07:\n",
      "08:\n",
      "09:\n",
      "10:\n",
      "11:\n",
      "\n"
     ]
    }
   ],
   "source": [
    "import PySimpleGUI as sg\n",
    "from selenium import webdriver\n",
    "from selenium.webdriver.common.by import By\n",
    "from selenium.common.exceptions import NoSuchElementException\n",
    "\n",
    "def extract_element(url,query):\n",
    "    driver=webdriver.Chrome()\n",
    "    driver.get(url)\n",
    "    driver.implicitly_wait(20)\n",
    "    result=\"\"\n",
    "\n",
    "    try:\n",
    "        elements=driver.find_elements(By.LINK_TEXT,query)\n",
    "        for no,ele in enumerate(elements):\n",
    "            result+=f\"{no+1:02}:{ele.text}\\n\"\n",
    "        return result\n",
    "    except NoSuchElementExceotion:\n",
    "        return \"見つかりませんでした。\"\n",
    "    finally:\n",
    "        import time; time.sleep(30)\n",
    "        driver.quit()\n",
    "\n",
    "if __name__==\"__main__\":\n",
    "    url='https://it-trend.jp/words#word1'\n",
    "    \n",
    "    result=extract_element(url,query=\"\")\n",
    "    print(result)\n",
    "    #sg.popup_scrolled(result,title=\"結果\",size=(40,20))\n",
    "\n",
    "    "
   ]
  },
  {
   "cell_type": "code",
   "execution_count": null,
   "id": "bb7e3887-a2b4-423b-893a-87d90608478d",
   "metadata": {},
   "outputs": [],
   "source": []
  }
 ],
 "metadata": {
  "kernelspec": {
   "display_name": "Python 3 (ipykernel)",
   "language": "python",
   "name": "python3"
  },
  "language_info": {
   "codemirror_mode": {
    "name": "ipython",
    "version": 3
   },
   "file_extension": ".py",
   "mimetype": "text/x-python",
   "name": "python",
   "nbconvert_exporter": "python",
   "pygments_lexer": "ipython3",
   "version": "3.10.2"
  }
 },
 "nbformat": 4,
 "nbformat_minor": 5
}
