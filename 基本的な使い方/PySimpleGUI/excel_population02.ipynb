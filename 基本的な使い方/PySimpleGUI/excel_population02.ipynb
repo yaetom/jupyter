{
 "cells": [
  {
   "cell_type": "code",
   "execution_count": 1,
   "id": "6e0f0f52-d715-4982-af19-c3c81107b55b",
   "metadata": {
    "editable": true,
    "slideshow": {
     "slide_type": ""
    },
    "tags": []
   },
   "outputs": [],
   "source": [
    "import PySimpleGUI as sg\n",
    "import openpyxl as xl\n",
    "\n",
    "def read_population():\n",
    "    EXCEL_FILE=\"./population_jp.xlsx\"\n",
    "    workbook=xl.load_workbook(EXCEL_FILE)\n",
    "    sheet=workbook[\"A\"]\n",
    "\n",
    "    result=[]\n",
    "    name_col_index=xl.utils.column_index_from_string(\"I\")\n",
    "    pop_col_index=xl.utils.column_index_from_string(\"L\")\n",
    "\n",
    "    for row in range(14,60+1):\n",
    "        name=sheet.cell(row,name_col_index).value\n",
    "        pop=sheet.cell(row,pop_col_index).value\n",
    "        man=sheet.cell(row,pop_col_index+2).value\n",
    "        woman=sheet.cell(row,pop_col_index+4).value\n",
    "        result.append([name,pop,man,woman])\n",
    "\n",
    "    list_result=list(sorted(result,key=lambda x:x[3],reverse=True))\n",
    "\n",
    "    #Noをつける\n",
    "    ranking=[\n",
    "        [\n",
    "            f\"{(i+1):02}\",\n",
    "            list_result[i][0],\n",
    "            list_result[i][1],\n",
    "            list_result[i][2],\n",
    "            list_result[i][3]] for i in range(0,46+1)]\n",
    "    \n",
    "    workbook.close()\n",
    "    return ranking\n",
    "\n",
    "def show_table(data):\n",
    "    layout=[\n",
    "        [sg.Table(values=data,\n",
    "                  headings=[\"No\",\"都道府県\",\"総人口（万人）\",\"男性\",\"女性\"],\n",
    "                  auto_size_columns=True,\n",
    "                  expand_x=True,expand_y=True,\n",
    "                  justification=\"right\",\n",
    "                  font=(\"Arial\",14))],\n",
    "        [sg.Button(\"閉じる\")]]\n",
    "\n",
    "    window=sg.Window(\"人口統計\",layout,size=(600,400))\n",
    "    while True:\n",
    "        event,_=window.read()\n",
    "        if event in [\"閉じる\",sg.WIN_CLOSED]:\n",
    "            break\n",
    "        window.close()\n",
    "\n",
    "if __name__ == \"__main__\":\n",
    "    data=read_population()\n",
    "    show_table(data)\n"
   ]
  },
  {
   "cell_type": "code",
   "execution_count": null,
   "id": "1f0b9fc4-c767-4b8a-961a-466616bb71a7",
   "metadata": {},
   "outputs": [],
   "source": []
  }
 ],
 "metadata": {
  "kernelspec": {
   "display_name": "Python 3 (ipykernel)",
   "language": "python",
   "name": "python3"
  },
  "language_info": {
   "codemirror_mode": {
    "name": "ipython",
    "version": 3
   },
   "file_extension": ".py",
   "mimetype": "text/x-python",
   "name": "python",
   "nbconvert_exporter": "python",
   "pygments_lexer": "ipython3",
   "version": "3.10.2"
  }
 },
 "nbformat": 4,
 "nbformat_minor": 5
}
