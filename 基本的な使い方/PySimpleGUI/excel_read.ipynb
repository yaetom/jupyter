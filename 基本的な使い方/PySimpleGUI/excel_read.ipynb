{
 "cells": [
  {
   "cell_type": "code",
   "execution_count": 5,
   "id": "db30809c-5a05-4891-ac51-9779b01910f9",
   "metadata": {},
   "outputs": [],
   "source": [
    "import PySimpleGUI as sg\n",
    "import openpyxl as xl\n",
    "\n",
    "workbook=xl.load_workbook(\"./excel_hello.xlsx\")\n",
    "\n",
    "sheet=workbook.active\n",
    "\n",
    "val=sheet[\"A1\"].value\n",
    "\n",
    "sg.popup(val,title=\"A1の内容\")\n",
    "\n",
    "workbook.close()"
   ]
  },
  {
   "cell_type": "code",
   "execution_count": null,
   "id": "bdafd2ef-7d12-4c74-bd32-f8b79db50eca",
   "metadata": {},
   "outputs": [],
   "source": []
  }
 ],
 "metadata": {
  "kernelspec": {
   "display_name": "Python 3 (ipykernel)",
   "language": "python",
   "name": "python3"
  },
  "language_info": {
   "codemirror_mode": {
    "name": "ipython",
    "version": 3
   },
   "file_extension": ".py",
   "mimetype": "text/x-python",
   "name": "python",
   "nbconvert_exporter": "python",
   "pygments_lexer": "ipython3",
   "version": "3.10.2"
  }
 },
 "nbformat": 4,
 "nbformat_minor": 5
}
