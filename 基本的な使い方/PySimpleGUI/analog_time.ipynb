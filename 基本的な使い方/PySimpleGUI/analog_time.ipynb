{
 "cells": [
  {
   "cell_type": "code",
   "execution_count": 1,
   "id": "58ed8dba-f97c-4f59-b391-e5311ace265a",
   "metadata": {},
   "outputs": [
    {
     "data": {
      "text/plain": [
       "'OK'"
      ]
     },
     "execution_count": 1,
     "metadata": {},
     "output_type": "execute_result"
    }
   ],
   "source": [
    "import PySimpleGUI as sg\n",
    "\n",
    "sg.popup(\"Hello\")"
   ]
  },
  {
   "cell_type": "code",
   "execution_count": 2,
   "id": "7542d7f0-6788-4807-a26b-3fb66ffa40d9",
   "metadata": {},
   "outputs": [],
   "source": [
    "import math\n",
    "import datetime\n",
    "import PySimpleGUI as sg\n",
    "\n",
    "CENTER_X=200\n",
    "CENTER_Y=200\n",
    "\n",
    "def main():\n",
    "    layout=[\n",
    "        [sg.Canvas(\n",
    "            key='-canvas-',\n",
    "            size=(CENTER_X*2,CENTER_Y*2),\n",
    "            background_color='white'\n",
    "        )],\n",
    "        [sg.Button('終了')]]\n",
    "\n",
    "    window=sg.Window('アナログ時計',layout)\n",
    "    canvas=window['-canvas-']\n",
    "\n",
    "    while True:\n",
    "        event,_=window.read(timeout=100)\n",
    "        if event in [sg.WIN_CLOSED,'終了']:\n",
    "            break\n",
    "        draw_clock(canvas.Widget,datetime.datetime.now())\n",
    "        window.refresh()\n",
    "    window.close()\n",
    "\n",
    "def calc_hand_coords(angle,rate):\n",
    "    x=CENTER_X+CENTER_X*rate*math.cos(angle)\n",
    "    y=CENTER_Y+CENTER_Y*rate*math.sin(angle)\n",
    "    return x,y\n",
    "\n",
    "def draw_hand(widget,angle,rate,width,color):\n",
    "    x,y=calc_hand_coords(angle,rate)\n",
    "    widget.create_line(\n",
    "        CENTER_X,CENTER_Y,x,y,width=width,fill=color)\n",
    "\n",
    "def draw_clock(widget,draw_time):\n",
    "    h,m,s=draw_time.hour,draw_time.minute,draw_time.second\n",
    "    h=h%12\n",
    "\n",
    "    widget.delete('all')\n",
    "    widget.create_oval(10,10,CENTER_X*2-10,CENTER_Y*2-10,width=2)\n",
    "\n",
    "    for i in range(12):\n",
    "        angle=math.radians(i*30-90)\n",
    "        x1,y1=calc_hand_coords(angle,0.8)\n",
    "        x2,y2=calc_hand_coords(angle,0.95)\n",
    "        widget.create_line(x1,y1,x2,y2,width=1,fill='silver')\n",
    "\n",
    "    h_angle=math.radians((h/12+m/60/12)*360-90)\n",
    "    draw_hand(widget,h_angle,0.5,20,'black')\n",
    "    \n",
    "    min_angle=math.radians((m/60)*360-90)\n",
    "    draw_hand(widget,min_angle,0.7,15,'black')\n",
    "\n",
    "    sec_angle=math.radians((s/60)*360-90)\n",
    "    draw_hand(widget,sec_angle,0.9,2,'red')\n",
    "\n",
    "if __name__=='__main__':\n",
    "    main()"
   ]
  },
  {
   "cell_type": "code",
   "execution_count": null,
   "id": "62a62b96-25af-4dd9-a67e-7dbd753e4464",
   "metadata": {},
   "outputs": [],
   "source": []
  }
 ],
 "metadata": {
  "kernelspec": {
   "display_name": "Python 3 (ipykernel)",
   "language": "python",
   "name": "python3"
  },
  "language_info": {
   "codemirror_mode": {
    "name": "ipython",
    "version": 3
   },
   "file_extension": ".py",
   "mimetype": "text/x-python",
   "name": "python",
   "nbconvert_exporter": "python",
   "pygments_lexer": "ipython3",
   "version": "3.10.2"
  }
 },
 "nbformat": 4,
 "nbformat_minor": 5
}
