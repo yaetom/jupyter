{
 "cells": [
  {
   "cell_type": "code",
   "execution_count": 2,
   "id": "e5e3efa6-a5a9-4b36-9756-c814f856a7e5",
   "metadata": {},
   "outputs": [
    {
     "name": "stdout",
     "output_type": "stream",
     "text": [
      "\n"
     ]
    }
   ],
   "source": [
    "import os\n",
    "import sys\n",
    "import PySimpleGUI as sg\n",
    "\n",
    "script_dir=os.path.dirname(\"__file__\")\n",
    "#script_dir=os.path.dirname(os.path.abspath(sys.argv[0]))\n",
    "image_path=os.path.join(script_dir,'image.png')\n",
    "\n",
    "print(script_dir)\n",
    "\n",
    "layout=[\n",
    "    [sg.Image(image_path)],\n",
    "    [sg.Button('閉じる')]\n",
    "]\n",
    "\n",
    "window=sg.Window('画像の表示',layout)\n",
    "\n",
    "while True:\n",
    "    event,values=window.read()\n",
    "    if event==sg.WIN_CLOSED or event==\"閉じる\":\n",
    "        break\n",
    "window.close()"
   ]
  }
 ],
 "metadata": {
  "kernelspec": {
   "display_name": "Python 3 (ipykernel)",
   "language": "python",
   "name": "python3"
  },
  "language_info": {
   "codemirror_mode": {
    "name": "ipython",
    "version": 3
   },
   "file_extension": ".py",
   "mimetype": "text/x-python",
   "name": "python",
   "nbconvert_exporter": "python",
   "pygments_lexer": "ipython3",
   "version": "3.10.2"
  }
 },
 "nbformat": 4,
 "nbformat_minor": 5
}
