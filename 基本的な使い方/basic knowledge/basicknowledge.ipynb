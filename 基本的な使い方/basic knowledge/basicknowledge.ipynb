{
 "cells": [
  {
   "cell_type": "code",
   "execution_count": 1,
   "id": "45e0754c-dfcb-4e74-b97a-c907ddd7d219",
   "metadata": {},
   "outputs": [
    {
     "name": "stdout",
     "output_type": "stream",
     "text": [
      "Hello World !\n"
     ]
    }
   ],
   "source": [
    "print(\"Hello World !\")"
   ]
  },
  {
   "cell_type": "code",
   "execution_count": 10,
   "id": "67235f2a-a70e-4adc-ad20-365c8f66bcf9",
   "metadata": {},
   "outputs": [
    {
     "name": "stdout",
     "output_type": "stream",
     "text": [
      "aaa=48\n"
     ]
    }
   ],
   "source": [
    "s='aaa'\n",
    "i=48\n",
    "print('%s=%d' %(s,i))"
   ]
  },
  {
   "cell_type": "code",
   "execution_count": 11,
   "id": "6d9dc0bd-a033-44d6-b820-8ae2caa3c692",
   "metadata": {},
   "outputs": [
    {
     "name": "stdout",
     "output_type": "stream",
     "text": [
      "<class 'str'>\n",
      "<class 'int'>\n"
     ]
    }
   ],
   "source": [
    "print(type(s))\n",
    "print(type(i))"
   ]
  },
  {
   "cell_type": "code",
   "execution_count": 16,
   "id": "d20d5584-920d-4fcb-91d0-992ed3a3c87c",
   "metadata": {},
   "outputs": [
    {
     "name": "stdout",
     "output_type": "stream",
     "text": [
      "101\n",
      "33.333333333333336\n",
      "33\n",
      "300\n",
      "97\n",
      "1000000\n"
     ]
    }
   ],
   "source": [
    "print(100+1)\n",
    "print(100/3)\n",
    "print(100//3)\n",
    "print(100*3)\n",
    "print(100-3)\n",
    "print(100**3)"
   ]
  },
  {
   "cell_type": "code",
   "execution_count": 22,
   "id": "782616b1-f6d3-4586-8e2d-4879cef85b19",
   "metadata": {},
   "outputs": [
    {
     "name": "stdout",
     "output_type": "stream",
     "text": [
      "123 type= <class 'int'>\n",
      "123.0 typt= <class 'float'>\n",
      "123 typt= <class 'str'>\n",
      "aaa123%\n"
     ]
    },
    {
     "ename": "TypeError",
     "evalue": "can only concatenate str (not \"float\") to str",
     "output_type": "error",
     "traceback": [
      "\u001b[1;31m---------------------------------------------------------------------------\u001b[0m",
      "\u001b[1;31mTypeError\u001b[0m                                 Traceback (most recent call last)",
      "Cell \u001b[1;32mIn[22], line 10\u001b[0m\n\u001b[0;32m      8\u001b[0m string2\u001b[38;5;241m=\u001b[39m\u001b[38;5;124m\"\u001b[39m\u001b[38;5;124m%\u001b[39m\u001b[38;5;124m\"\u001b[39m\n\u001b[0;32m      9\u001b[0m \u001b[38;5;28mprint\u001b[39m(string\u001b[38;5;241m+\u001b[39mdata3\u001b[38;5;241m+\u001b[39mstring2)\n\u001b[1;32m---> 10\u001b[0m \u001b[38;5;28mprint\u001b[39m(\u001b[43mstring\u001b[49m\u001b[38;5;241;43m+\u001b[39;49m\u001b[43mdata2\u001b[49m\u001b[38;5;241m+\u001b[39mstring2)\n",
      "\u001b[1;31mTypeError\u001b[0m: can only concatenate str (not \"float\") to str"
     ]
    }
   ],
   "source": [
    "data=123\n",
    "print(data,\"type=\",type(data))\n",
    "data2=float(data)\n",
    "print(data2,\"typt=\",type(data2))\n",
    "data3=str(data)\n",
    "print(data3,\"typt=\",type(data3))\n",
    "string=\"aaa\"\n",
    "string2=\"%\"\n",
    "print(string+data3+string2)\n",
    "print(string+data2+string2)"
   ]
  },
  {
   "cell_type": "code",
   "execution_count": 30,
   "id": "7a8f5b36-8804-49e7-9245-7e7d43b6ef37",
   "metadata": {},
   "outputs": [
    {
     "name": "stdout",
     "output_type": "stream",
     "text": [
      "AA\n",
      "end\n",
      "CC\n",
      "end----\n"
     ]
    }
   ],
   "source": [
    "a={'AA','BB','CC'}\n",
    "for n in a:\n",
    "    if n=='BB':\n",
    "        print(\"end\")\n",
    "        #break\n",
    "        continue\n",
    "    print(n)\n",
    "else:\n",
    "    print(\"end----\")"
   ]
  },
  {
   "cell_type": "code",
   "execution_count": 31,
   "id": "86351e93-e213-479f-9346-9a87e1a4c589",
   "metadata": {},
   "outputs": [
    {
     "name": "stdout",
     "output_type": "stream",
     "text": [
      "AAA= 0 _\n",
      "AAA= 1 _\n",
      "AAA= 2 _\n",
      "AAA= 3 _\n",
      "AAA= 4 _\n"
     ]
    }
   ],
   "source": [
    "for i in range(5):\n",
    "    print(\"AAA=\",i,\"_\")"
   ]
  },
  {
   "cell_type": "code",
   "execution_count": 32,
   "id": "99a909a4-0e5d-421c-8532-19f11e83c4e1",
   "metadata": {},
   "outputs": [
    {
     "name": "stdout",
     "output_type": "stream",
     "text": [
      "AAA= 18 _\n",
      "AAA= 15 _\n",
      "AAA= 12 _\n",
      "AAA= 9 _\n",
      "AAA= 6 _\n",
      "AAA= 3 _\n"
     ]
    }
   ],
   "source": [
    "for i in range(18,0,-3):\n",
    "    print(\"AAA=\",i,\"_\")"
   ]
  },
  {
   "cell_type": "code",
   "execution_count": 33,
   "id": "b640323a-a717-458b-b036-9207057ccca7",
   "metadata": {},
   "outputs": [
    {
     "name": "stdout",
     "output_type": "stream",
     "text": [
      "0 AAA\n",
      "1 BBB\n",
      "2 CCC\n",
      "3 DDD\n"
     ]
    }
   ],
   "source": [
    "name=['AAA','BBB','CCC','DDD']\n",
    "for i,name in enumerate(name):\n",
    "    print(i,name)"
   ]
  },
  {
   "cell_type": "code",
   "execution_count": 34,
   "id": "8210329a-5dbf-46e4-8186-1693cc6e7476",
   "metadata": {},
   "outputs": [
    {
     "name": "stdout",
     "output_type": "stream",
     "text": [
      "AAA 22\n",
      "BBB 55\n",
      "CCC 77\n"
     ]
    }
   ],
   "source": [
    "n=['AAA','BBB','CCC']\n",
    "m=[22,55,77]\n",
    "\n",
    "for a,b in zip(n,m):\n",
    "    print(a,b)"
   ]
  },
  {
   "cell_type": "code",
   "execution_count": 38,
   "id": "7c173047-23e6-424a-9893-0b57000d5094",
   "metadata": {},
   "outputs": [
    {
     "name": "stdout",
     "output_type": "stream",
     "text": [
      "('AAA', 22)\n",
      "('BBB', 55)\n",
      "('CCC', 77)\n"
     ]
    }
   ],
   "source": [
    "for a,b in enumerate(zip(n,m)):\n",
    "    print(b)"
   ]
  },
  {
   "cell_type": "code",
   "execution_count": 39,
   "id": "f543661a-4630-480d-9eca-06c396f57f8c",
   "metadata": {},
   "outputs": [
    {
     "name": "stdout",
     "output_type": "stream",
     "text": [
      "AAA ooo\n",
      "AAA ppp\n",
      "AAA qqq\n",
      "AAA rrr\n",
      "BBB ooo\n",
      "BBB ppp\n",
      "BBB qqq\n",
      "BBB rrr\n",
      "CCC ooo\n",
      "CCC ppp\n",
      "CCC qqq\n",
      "CCC rrr\n",
      "DDD ooo\n",
      "DDD ppp\n",
      "DDD qqq\n",
      "DDD rrr\n"
     ]
    }
   ],
   "source": [
    "import itertools\n",
    "\n",
    "loop1=['AAA','BBB','CCC','DDD']\n",
    "loop2=['ooo','ppp','qqq','rrr']\n",
    "\n",
    "for i,j in itertools.product(loop1,loop2):\n",
    "    print(i,j)"
   ]
  },
  {
   "cell_type": "code",
   "execution_count": 40,
   "id": "e3198909-4376-4e66-baa5-1c857d97ca3e",
   "metadata": {},
   "outputs": [
    {
     "name": "stdout",
     "output_type": "stream",
     "text": [
      "1 < number < 9\n",
      "number <= 1 or number >= 9\n"
     ]
    }
   ],
   "source": [
    "def if_test(number):\n",
    "    if 1 < number < 9:\n",
    "        print('1 < number < 9')\n",
    "    else:\n",
    "        print('number <= 1 or number >= 9')\n",
    "\n",
    "if_test(5)\n",
    "if_test(0)"
   ]
  },
  {
   "cell_type": "code",
   "execution_count": 46,
   "id": "d458a53b-23ba-4f5f-9968-f4ff1e77c6e3",
   "metadata": {},
   "outputs": [
    {
     "name": "stdout",
     "output_type": "stream",
     "text": [
      "False\n",
      "True\n",
      "False\n",
      "True\n"
     ]
    }
   ],
   "source": [
    "p=True\n",
    "q=False\n",
    "\n",
    "print(p and q)\n",
    "print(p or q)\n",
    "print(not p)\n",
    "print(p ^ q)"
   ]
  },
  {
   "cell_type": "code",
   "execution_count": 49,
   "id": "c434438d-23a4-40d4-b2ef-62d8613ce461",
   "metadata": {},
   "outputs": [
    {
     "name": "stdout",
     "output_type": "stream",
     "text": [
      "i= 0\n",
      "i= 1\n",
      "i= 2\n",
      "i= 3\n",
      "i= 4\n"
     ]
    }
   ],
   "source": [
    "i=0\n",
    "while i<5:\n",
    "    print(\"i=\",i)\n",
    "    i += 1"
   ]
  },
  {
   "cell_type": "code",
   "execution_count": 50,
   "id": "ace78a2c-7c04-4c9b-a85b-d85e05ed4c9f",
   "metadata": {},
   "outputs": [
    {
     "name": "stdout",
     "output_type": "stream",
     "text": [
      "AAA\n",
      "AAA\n",
      "AAA\n",
      "AAA\n",
      "AAA\n",
      "end\n"
     ]
    }
   ],
   "source": [
    "import time\n",
    "\n",
    "try:\n",
    "    while True:\n",
    "        time.sleep(1)\n",
    "        print(\"AAA\")\n",
    "except KeyboardInterrupt:\n",
    "    print(\"end\")"
   ]
  },
  {
   "cell_type": "code",
   "execution_count": null,
   "id": "f0bce2cc-1d58-41c6-ba04-8d618a0829cc",
   "metadata": {},
   "outputs": [],
   "source": []
  }
 ],
 "metadata": {
  "kernelspec": {
   "display_name": "Python 3 (ipykernel)",
   "language": "python",
   "name": "python3"
  },
  "language_info": {
   "codemirror_mode": {
    "name": "ipython",
    "version": 3
   },
   "file_extension": ".py",
   "mimetype": "text/x-python",
   "name": "python",
   "nbconvert_exporter": "python",
   "pygments_lexer": "ipython3",
   "version": "3.10.2"
  }
 },
 "nbformat": 4,
 "nbformat_minor": 5
}
