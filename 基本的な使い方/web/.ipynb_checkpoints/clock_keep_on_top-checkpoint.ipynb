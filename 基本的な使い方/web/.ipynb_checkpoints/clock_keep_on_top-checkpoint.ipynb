{
 "cells": [
  {
   "cell_type": "code",
   "execution_count": 3,
   "id": "c07f8a03-fa03-4f78-af7e-b8908572cda1",
   "metadata": {},
   "outputs": [],
   "source": [
    "from datetime import datetime\n",
    "import PySimpleGUI as sg\n",
    "\n",
    "window=sg.Window(\"時計\",\n",
    "                 layout=[[sg.Text(\"x\",enable_events=True,font=(\"\",8)),\n",
    "                          sg.Text(\"--:--:--\",key=\"-clock-\")]],\n",
    "                 no_titlebar=True,\n",
    "                 keep_on_top=True,\n",
    "                 grab_anywhere=True,\n",
    "                 font=(\"Arial\",40),\n",
    "                 finalize=True,\n",
    "                alpha_channel=0.8)\n",
    "\n",
    "while True:\n",
    "    event,values=window.read(timeout=100,timeout_key=\"-timeout-\")\n",
    "    if event in [sg.WIN_CLOSED,\"x\"]:\n",
    "        break\n",
    "    if event==\"-timeout-\":\n",
    "        now_s=datetime.now().strftime(\"%H:%M:%S\")\n",
    "        window[\"-clock-\"].update(now_s)\n",
    "\n",
    "window.close()"
   ]
  },
  {
   "cell_type": "code",
   "execution_count": null,
   "id": "77d22f26-27ce-4731-9e60-db1143a69309",
   "metadata": {},
   "outputs": [],
   "source": []
  }
 ],
 "metadata": {
  "kernelspec": {
   "display_name": "Python 3 (ipykernel)",
   "language": "python",
   "name": "python3"
  },
  "language_info": {
   "codemirror_mode": {
    "name": "ipython",
    "version": 3
   },
   "file_extension": ".py",
   "mimetype": "text/x-python",
   "name": "python",
   "nbconvert_exporter": "python",
   "pygments_lexer": "ipython3",
   "version": "3.10.2"
  }
 },
 "nbformat": 4,
 "nbformat_minor": 5
}
