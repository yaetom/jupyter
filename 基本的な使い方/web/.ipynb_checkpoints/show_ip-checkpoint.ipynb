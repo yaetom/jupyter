{
 "cells": [
  {
   "cell_type": "code",
   "execution_count": 4,
   "id": "fa34d9e6-0fb3-4b6d-9ad7-768964b91e27",
   "metadata": {},
   "outputs": [
    {
     "name": "stdout",
     "output_type": "stream",
     "text": [
      "['192.168.10.10', '255.255.255.0', '192.168.10.1', '172.26.160.1', '255.255.240.0']\n"
     ]
    }
   ],
   "source": [
    "import platform,subprocess,re\n",
    "import pyperclip\n",
    "import PySimpleGUI as sg\n",
    "\n",
    "def get_ip_address():\n",
    "    cmd=\"ipconfig\" if platform.system()==\"Windows\" else \"ifconfig\"\n",
    "    result=subprocess.run([cmd],text=True,stdout=subprocess.PIPE)\n",
    "\n",
    "    if result.returncode != 0:\n",
    "        sg.popup(\"IPアドレスの取得に失敗しました\")\n",
    "        return []\n",
    "\n",
    "#    print(result.text)\n",
    "\n",
    "    pattern=r'([0-9]+\\.[0-9]+\\.[0-9]+\\.[0-9]+)'\n",
    "    #pattern=r'\\b(?:[0-9]{1,3}\\.){3}[0-9]{1,3}\\b'\n",
    "    \n",
    "    text=result.stdout\n",
    "    addr=re.findall(pattern,text)\n",
    "    \n",
    "    return filter(lambda n:\n",
    "                  n.split(\".\")[3] != \"255\" and n.split(\".\")[0] != \"255\",addr)\n",
    "\n",
    "def show_window(ip_list):\n",
    "    window=sg.Window(\"IPアドレス\",layout=[\n",
    "        [sg.Text(\"IPアドレス\")],\n",
    "        [sg.Button(ip) for ip in ip_list],\n",
    "        [sg.Button(\"閉じる\")]])\n",
    "    \n",
    "    while True:\n",
    "        event,_=window.read()\n",
    "        if event in [\"閉じる\",sg.WIN_CLOSED]:\n",
    "            break\n",
    "        pyperclip.copy(event)\n",
    "        sg.popup(f\"{event}をコピーしました\")\n",
    "\n",
    "if __name__==\"__main__\":\n",
    "    show_window(get_ip_address())"
   ]
  },
  {
   "cell_type": "code",
   "execution_count": null,
   "id": "0e77e501-0a52-46fc-8a60-991810b112c7",
   "metadata": {},
   "outputs": [],
   "source": []
  }
 ],
 "metadata": {
  "kernelspec": {
   "display_name": "Python 3 (ipykernel)",
   "language": "python",
   "name": "python3"
  },
  "language_info": {
   "codemirror_mode": {
    "name": "ipython",
    "version": 3
   },
   "file_extension": ".py",
   "mimetype": "text/x-python",
   "name": "python",
   "nbconvert_exporter": "python",
   "pygments_lexer": "ipython3",
   "version": "3.10.2"
  }
 },
 "nbformat": 4,
 "nbformat_minor": 5
}
