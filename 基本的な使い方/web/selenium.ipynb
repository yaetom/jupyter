{
 "cells": [
  {
   "cell_type": "code",
   "execution_count": 8,
   "id": "6775424d-6e44-4dd4-8c4c-cc2efcfb352e",
   "metadata": {},
   "outputs": [],
   "source": [
    "import urllib.parse\n",
    "import time\n",
    "from selenium import webdriver\n",
    "\n",
    "keyword=\"柴犬\"\n",
    "key_enc=urllib.parse.quote(keyword)\n",
    "\n",
    "driver=webdriver.Chrome()\n",
    "driver.get(f\"https://www.google.com/search?q={key_enc}\")\n",
    "driver.implicitly_wait(10)\n",
    "\n",
    "driver.save_screenshot('screenshot.png')\n",
    "#time.sleep(3)\n",
    "driver.quit()"
   ]
  },
  {
   "cell_type": "code",
   "execution_count": null,
   "id": "7d00bf69-eb93-4e45-8df8-0d8eb560ad3a",
   "metadata": {},
   "outputs": [],
   "source": []
  }
 ],
 "metadata": {
  "kernelspec": {
   "display_name": "Python 3 (ipykernel)",
   "language": "python",
   "name": "python3"
  },
  "language_info": {
   "codemirror_mode": {
    "name": "ipython",
    "version": 3
   },
   "file_extension": ".py",
   "mimetype": "text/x-python",
   "name": "python",
   "nbconvert_exporter": "python",
   "pygments_lexer": "ipython3",
   "version": "3.10.2"
  }
 },
 "nbformat": 4,
 "nbformat_minor": 5
}
