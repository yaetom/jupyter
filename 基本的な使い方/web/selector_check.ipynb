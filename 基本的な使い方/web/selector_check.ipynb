{
 "cells": [
  {
   "cell_type": "code",
   "execution_count": 11,
   "id": "73b6922a-52fb-49f4-8621-d62d4dbc9201",
   "metadata": {},
   "outputs": [
    {
     "name": "stdout",
     "output_type": "stream",
     "text": [
      "C:\\Users\\key\\iCloudDrive\\program\\python_jupyter\\web\n",
      "C:\\Users\\key\\iCloudDrive\\program\\python_jupyter\\web\\selector_test.html\n",
      "file://C:\\Users\\key\\iCloudDrive\\program\\python_jupyter\\web\\selector_test.html\n",
      "=== h3 ===\n",
      "01:私の好きな果物\n",
      "02:私の好きな動物\n",
      "\n",
      "=== li ===\n",
      "01:リンゴ\n",
      "02:バナナ\n",
      "03:イチゴ\n",
      "04:ライオン\n",
      "05:ゾウ\n",
      "06:ラクダ\n",
      "\n",
      "=== #fruits li ===\n",
      "01:リンゴ\n",
      "02:バナナ\n",
      "03:イチゴ\n",
      "\n",
      "=== .besy ===\n",
      "01:バナナ\n",
      "02:ライオン\n",
      "\n"
     ]
    }
   ],
   "source": [
    "import os\n",
    "from selenium import webdriver\n",
    "from selenium.webdriver.common.by import By\n",
    "from selenium.common.exceptions import NoSuchElementException\n",
    "\n",
    "def extract_element(url,query):\n",
    "    driver=webdriver.Chrome()\n",
    "    driver.get(url)\n",
    "    driver.implicitly_wait(20)\n",
    "    result=\"\"\n",
    "\n",
    "    try:\n",
    "        elements=driver.find_elements(By.CSS_SELECTOR,query)\n",
    "        for no,ele in enumerate(elements):\n",
    "            result+=f\"{no+1:02}:{ele.text}\\n\"\n",
    "        return result\n",
    "    except NoSuchElementExceotion:\n",
    "        return \"見つかりませんでした。\"\n",
    "    finally:\n",
    "        import time; time.sleep(30)\n",
    "        driver.quit()\n",
    "\n",
    "if __name__==\"__main__\":\n",
    "    SCRIPT_DIR=os.path.dirname(os.path.abspath(\"__file__\"))\n",
    "    print(SCRIPT_DIR)\n",
    "    \n",
    "    sample_file=os.path.join(SCRIPT_DIR,\"selector_test.html\")\n",
    "    print(sample_file)\n",
    "\n",
    "    sample_url=f\"file://{sample_file}\"\n",
    "    print(sample_url)\n",
    "\n",
    "    print(\"=== h3 ===\")\n",
    "    print(extract_element(sample_url,query=\"h3\"))\n",
    "\n",
    "    print(\"=== li ===\")\n",
    "    print(extract_element(sample_url,query=\"li\"))\n",
    "\n",
    "    print(\"=== #fruits li ===\")\n",
    "    print(extract_element(sample_url,query=\"#fruits li\"))\n",
    "\n",
    "    print(\"=== .best ===\")\n",
    "    print(extract_element(sample_url,query=\"li.best\"))\n"
   ]
  },
  {
   "cell_type": "code",
   "execution_count": null,
   "id": "f529abd0-26d2-4f13-b4f7-7b74c0178be5",
   "metadata": {},
   "outputs": [],
   "source": []
  }
 ],
 "metadata": {
  "kernelspec": {
   "display_name": "Python 3 (ipykernel)",
   "language": "python",
   "name": "python3"
  },
  "language_info": {
   "codemirror_mode": {
    "name": "ipython",
    "version": 3
   },
   "file_extension": ".py",
   "mimetype": "text/x-python",
   "name": "python",
   "nbconvert_exporter": "python",
   "pygments_lexer": "ipython3",
   "version": "3.10.2"
  }
 },
 "nbformat": 4,
 "nbformat_minor": 5
}
