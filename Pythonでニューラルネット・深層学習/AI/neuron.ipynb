{
 "cells": [
  {
   "cell_type": "code",
   "execution_count": 1,
   "metadata": {
    "colab": {
     "base_uri": "https://localhost:8080/"
    },
    "executionInfo": {
     "elapsed": 295,
     "status": "ok",
     "timestamp": 1739799884461,
     "user": {
      "displayName": "tom y",
      "userId": "11917648637315657852"
     },
     "user_tz": -540
    },
    "id": "SQvcEg9pFtc_",
    "outputId": "1911e84f-7b62-4e26-b4d5-b7f26ab66378"
   },
   "outputs": [
    {
     "name": "stdout",
     "output_type": "stream",
     "text": [
      "1.0\n",
      "3.0\n",
      "6.0\n"
     ]
    }
   ],
   "source": [
    "class Neuron:\n",
    "  def __init__(self):\n",
    "    self.input_sum=0.0\n",
    "\n",
    "  def set_input(self,inp):\n",
    "    self.input_sum+=inp\n",
    "    print(self.input_sum)\n",
    "\n",
    "class NeuralNetwork:\n",
    "  def __init__(self):\n",
    "    self.neuron=Neuron()\n",
    "\n",
    "  def commit(self,input_data):\n",
    "    for data in input_data:\n",
    "      self.neuron.set_input(data)\n",
    "\n",
    "neural_network=NeuralNetwork()\n",
    "\n",
    "input_data=[1.0,2.0,3.0]\n",
    "neural_network.commit(input_data)"
   ]
  },
  {
   "cell_type": "code",
   "execution_count": 2,
   "metadata": {
    "colab": {
     "base_uri": "https://localhost:8080/"
    },
    "executionInfo": {
     "elapsed": 344,
     "status": "ok",
     "timestamp": 1739800257843,
     "user": {
      "displayName": "tom y",
      "userId": "11917648637315657852"
     },
     "user_tz": -540
    },
    "id": "CL1SrltyIqqG",
    "outputId": "175bbbf1-9e32-4de0-c5f3-852bd5299b06"
   },
   "outputs": [
    {
     "name": "stdout",
     "output_type": "stream",
     "text": [
      "0.9975273768433653\n"
     ]
    }
   ],
   "source": [
    "import numpy as np\n",
    "\n",
    "def sigmoid(x):\n",
    "  return 1.0/(1.0+np.exp(-x))\n",
    "\n",
    "class Neuron:\n",
    "  def __init__(self):\n",
    "    self.input_sum=0.0\n",
    "    self.output=0.0\n",
    "\n",
    "  def set_input(self,inp):\n",
    "    self.input_sum+=inp\n",
    "\n",
    "  def get_output(self):\n",
    "    self.output=sigmoid(self.input_sum)\n",
    "    return self.output\n",
    "\n",
    "class NeuralNetwork:\n",
    "  def __init__(self):\n",
    "    self.neuron=Neuron()\n",
    "\n",
    "  def commit(self,input_data):\n",
    "    for data in input_data:\n",
    "      self.neuron.set_input(data)\n",
    "    return self.neuron.get_output()\n",
    "\n",
    "neural_network=NeuralNetwork()\n",
    "\n",
    "input_data=[1.0,2.0,3.0]\n",
    "print(neural_network.commit(input_data))"
   ]
  },
  {
   "cell_type": "code",
   "execution_count": 7,
   "metadata": {
    "colab": {
     "base_uri": "https://localhost:8080/"
    },
    "executionInfo": {
     "elapsed": 352,
     "status": "ok",
     "timestamp": 1739801099546,
     "user": {
      "displayName": "tom y",
      "userId": "11917648637315657852"
     },
     "user_tz": -540
    },
    "id": "NRyhjRK_LKk_",
    "outputId": "979fd690-0973-4685-f42e-0128d374c62e"
   },
   "outputs": [
    {
     "name": "stdout",
     "output_type": "stream",
     "text": [
      "0.2689414213699951\n"
     ]
    }
   ],
   "source": [
    "import numpy as np\n",
    "\n",
    "# シグモイド関数\n",
    "def sigmoid(x):\n",
    "    return 1.0 / (1.0 + np.exp(-x))\n",
    "\n",
    "# ニューロン\n",
    "class Neuron:\n",
    "    def __init__(self):  # 初期設定\n",
    "        self.input_sum = 0.0\n",
    "        self.output = 0.0\n",
    "\n",
    "    def set_input(self, inp):\n",
    "        self.input_sum += inp\n",
    "\n",
    "    def get_output(self):\n",
    "        self.output = sigmoid(self.input_sum)\n",
    "        return self.output\n",
    "\n",
    "class NeuralNetwork:\n",
    "  def __init__(self):\n",
    "    self.neuron=Neuron()\n",
    "    self.w=[1.5,0.75,-1.0]\n",
    "    self.bias=-1.0\n",
    "\n",
    "  def commit(self,input_data):\n",
    "    self.neuron.set_input(input_data[0]*self.w[0])\n",
    "    self.neuron.set_input(input_data[1]*self.w[1])\n",
    "    self.neuron.set_input(input_data[2]*self.w[2])\n",
    "    self.neuron.set_input(self.bias)\n",
    "    return self.neuron.get_output()\n",
    "\n",
    "neural_network=NeuralNetwork()\n",
    "\n",
    "input_data=[1.0,2.0,3.0]\n",
    "print(neural_network.commit(input_data))"
   ]
  },
  {
   "cell_type": "code",
   "execution_count": null,
   "metadata": {
    "id": "9Rx1T1foNrwY"
   },
   "outputs": [],
   "source": []
  }
 ],
 "metadata": {
  "colab": {
   "authorship_tag": "ABX9TyP92BZRN5TstHUFYKL+BRsI",
   "provenance": [],
   "toc_visible": true
  },
  "kernelspec": {
   "display_name": "Python 3 (ipykernel)",
   "language": "python",
   "name": "python3"
  },
  "language_info": {
   "codemirror_mode": {
    "name": "ipython",
    "version": 3
   },
   "file_extension": ".py",
   "mimetype": "text/x-python",
   "name": "python",
   "nbconvert_exporter": "python",
   "pygments_lexer": "ipython3",
   "version": "3.10.2"
  }
 },
 "nbformat": 4,
 "nbformat_minor": 4
}
