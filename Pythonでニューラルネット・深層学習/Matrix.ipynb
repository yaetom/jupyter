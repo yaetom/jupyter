{
 "cells": [
  {
   "cell_type": "code",
   "execution_count": 1,
   "metadata": {
    "colab": {
     "base_uri": "https://localhost:8080/"
    },
    "executionInfo": {
     "elapsed": 70,
     "status": "ok",
     "timestamp": 1743322985714,
     "user": {
      "displayName": "tom y",
      "userId": "11917648637315657852"
     },
     "user_tz": -540
    },
    "id": "V7IaIABlWj8e",
    "outputId": "94ab0b39-0719-471d-c970-16476176140a"
   },
   "outputs": [
    {
     "name": "stdout",
     "output_type": "stream",
     "text": [
      "[[0 1 2 3]\n",
      " [1 2 3 4]\n",
      " [2 3 4 5]]\n"
     ]
    }
   ],
   "source": [
    "import numpy as np\n",
    "\n",
    "a = np.array([[0, 1, 2, 3],  # 行列\n",
    "              [1, 2, 3, 4],\n",
    "              [2, 3, 4, 5]])\n",
    "print(a)"
   ]
  },
  {
   "cell_type": "code",
   "execution_count": 2,
   "metadata": {
    "colab": {
     "base_uri": "https://localhost:8080/"
    },
    "executionInfo": {
     "elapsed": 33,
     "status": "ok",
     "timestamp": 1743323013627,
     "user": {
      "displayName": "tom y",
      "userId": "11917648637315657852"
     },
     "user_tz": -540
    },
    "id": "VQ1tPSX1XaN_",
    "outputId": "dd7d0917-e4ad-49f3-dfaa-a2237862b00d"
   },
   "outputs": [
    {
     "name": "stdout",
     "output_type": "stream",
     "text": [
      "[[ 6  3]\n",
      " [12  6]]\n",
      "[[1 4 7]\n",
      " [1 4 7]\n",
      " [1 4 7]]\n"
     ]
    }
   ],
   "source": [
    "import numpy as np\n",
    "\n",
    "a = np.array([[0, 1, 2],\n",
    "              [1, 2, 3]])\n",
    "b = np.array([[2, 1],\n",
    "              [2, 1],\n",
    "              [2, 1]])\n",
    "\n",
    "c = np.dot(a, b)  # 行列積\n",
    "print(c)\n",
    "\n",
    "d=np.dot(b,a)\n",
    "print(d)"
   ]
  },
  {
   "cell_type": "code",
   "execution_count": null,
   "metadata": {
    "colab": {
     "base_uri": "https://localhost:8080/"
    },
    "executionInfo": {
     "elapsed": 12,
     "status": "ok",
     "timestamp": 1740357240384,
     "user": {
      "displayName": "tom y",
      "userId": "11917648637315657852"
     },
     "user_tz": -540
    },
    "id": "JoEyDoj-XtZh",
    "outputId": "48873156-2a39-42e1-c930-d45266916875"
   },
   "outputs": [
    {
     "name": "stdout",
     "output_type": "stream",
     "text": [
      "[[-0.5  0.5]]\n"
     ]
    }
   ],
   "source": [
    "import numpy as np\n",
    "\n",
    "# 入力:3 ニューロン:2\n",
    "x = np.array([[0, 0.5, 1.0]])  # 入力\n",
    "w = np.array([[-1, 1],  # 重み\n",
    "              [1, -1],\n",
    "              [-1, 1]])\n",
    "\n",
    "print(np.dot(x, w))  # 入力と重みの積の総和"
   ]
  },
  {
   "cell_type": "code",
   "execution_count": null,
   "metadata": {
    "colab": {
     "base_uri": "https://localhost:8080/"
    },
    "executionInfo": {
     "elapsed": 14,
     "status": "ok",
     "timestamp": 1740357331063,
     "user": {
      "displayName": "tom y",
      "userId": "11917648637315657852"
     },
     "user_tz": -540
    },
    "id": "xdXtxJQtX-xH",
    "outputId": "459235d5-29f8-41be-853d-3b0462f85943"
   },
   "outputs": [
    {
     "name": "stdout",
     "output_type": "stream",
     "text": [
      "[[1 4]\n",
      " [2 5]\n",
      " [3 6]]\n"
     ]
    }
   ],
   "source": [
    "import numpy as np\n",
    "\n",
    "a = np.array([[1, 2, 3],\n",
    "              [4, 5, 6]])\n",
    "print(a.T)  # 転置"
   ]
  },
  {
   "cell_type": "code",
   "execution_count": null,
   "metadata": {
    "colab": {
     "base_uri": "https://localhost:8080/"
    },
    "executionInfo": {
     "elapsed": 33,
     "status": "ok",
     "timestamp": 1740357376118,
     "user": {
      "displayName": "tom y",
      "userId": "11917648637315657852"
     },
     "user_tz": -540
    },
    "id": "5-DEIlLrYWdR",
    "outputId": "864b157e-4566-4ca8-9365-6bc357ae8611"
   },
   "outputs": [
    {
     "name": "stdout",
     "output_type": "stream",
     "text": [
      "[[ 5  8]\n",
      " [ 8 14]]\n"
     ]
    }
   ],
   "source": [
    "import numpy as np\n",
    "\n",
    "a = np.array([[0, 1, 2],\n",
    "              [1, 2, 3]])  # 2x3の行列\n",
    "b = np.array([[0, 1, 2],\n",
    "              [1, 2, 3]])  # 2x3の行列 このままでは行列積ができない\n",
    "\n",
    "# print(np.dot(a, b))  # 転置しないで行列積をとるとエラー\n",
    "print(np.dot(a, b.T))  # 転置により行列積が可能に"
   ]
  },
  {
   "cell_type": "code",
   "execution_count": null,
   "metadata": {
    "id": "yQQRDV-kYe--"
   },
   "outputs": [],
   "source": []
  }
 ],
 "metadata": {
  "colab": {
   "authorship_tag": "ABX9TyNZcJwJKGlO8+qvAnrIgViq",
   "mount_file_id": "1CnTzP9YOyGpWkn0zM-qaRp7j0oOjIy4Z",
   "provenance": []
  },
  "kernelspec": {
   "display_name": "Python [conda env:base] *",
   "language": "python",
   "name": "conda-base-py"
  },
  "language_info": {
   "codemirror_mode": {
    "name": "ipython",
    "version": 3
   },
   "file_extension": ".py",
   "mimetype": "text/x-python",
   "name": "python",
   "nbconvert_exporter": "python",
   "pygments_lexer": "ipython3",
   "version": "3.12.7"
  }
 },
 "nbformat": 4,
 "nbformat_minor": 4
}
