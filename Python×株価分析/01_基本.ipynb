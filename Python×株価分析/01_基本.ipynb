{
 "cells": [
  {
   "cell_type": "code",
   "execution_count": 1,
   "id": "df552243-b7ba-49f6-b5a8-90b7d34d9486",
   "metadata": {},
   "outputs": [],
   "source": [
    "a=1\n",
    "b=\"Hello\""
   ]
  },
  {
   "cell_type": "code",
   "execution_count": 3,
   "id": "374c0a5f-116f-47e6-9211-803b9d90e08c",
   "metadata": {},
   "outputs": [
    {
     "name": "stdout",
     "output_type": "stream",
     "text": [
      "1\n",
      "2\n"
     ]
    }
   ],
   "source": [
    "a=1\n",
    "print(a)\n",
    "a=2\n",
    "print(a)"
   ]
  },
  {
   "cell_type": "code",
   "execution_count": 7,
   "id": "ddbbf603-a5d8-45f2-b21c-517e37afbbcd",
   "metadata": {},
   "outputs": [
    {
     "data": {
      "text/plain": [
       "int"
      ]
     },
     "execution_count": 7,
     "metadata": {},
     "output_type": "execute_result"
    }
   ],
   "source": [
    "type(1) #int型"
   ]
  },
  {
   "cell_type": "code",
   "execution_count": 8,
   "id": "d6b7df0b-b5bc-44b4-89af-3e077b678006",
   "metadata": {},
   "outputs": [
    {
     "data": {
      "text/plain": [
       "str"
      ]
     },
     "execution_count": 8,
     "metadata": {},
     "output_type": "execute_result"
    }
   ],
   "source": [
    "type(\"Hello\") #str型"
   ]
  },
  {
   "cell_type": "code",
   "execution_count": 9,
   "id": "8484d257-372c-46fc-87db-349b6734fe21",
   "metadata": {},
   "outputs": [
    {
     "name": "stdout",
     "output_type": "stream",
     "text": [
      "2025-04-05 20:00:20.620588\n"
     ]
    }
   ],
   "source": [
    "import datetime\n",
    "now = datetime.datetime.now()\n",
    "print(now)"
   ]
  },
  {
   "cell_type": "code",
   "execution_count": 10,
   "id": "df6d5e96-90e2-4da4-b687-59a84ba5210d",
   "metadata": {},
   "outputs": [
    {
     "data": {
      "text/plain": [
       "datetime.datetime"
      ]
     },
     "execution_count": 10,
     "metadata": {},
     "output_type": "execute_result"
    }
   ],
   "source": [
    "type(now)"
   ]
  },
  {
   "cell_type": "code",
   "execution_count": 11,
   "id": "8294d1ef-1cb1-4bbc-b1df-4de947dfb59e",
   "metadata": {},
   "outputs": [
    {
     "data": {
      "text/plain": [
       "bool"
      ]
     },
     "execution_count": 11,
     "metadata": {},
     "output_type": "execute_result"
    }
   ],
   "source": [
    "type(True)"
   ]
  },
  {
   "cell_type": "code",
   "execution_count": 12,
   "id": "ba8691fa-c4e4-48e5-9cdf-654767bf4a09",
   "metadata": {},
   "outputs": [
    {
     "data": {
      "text/plain": [
       "False"
      ]
     },
     "execution_count": 12,
     "metadata": {},
     "output_type": "execute_result"
    }
   ],
   "source": [
    "1 == 2"
   ]
  },
  {
   "cell_type": "code",
   "execution_count": 13,
   "id": "72304eea-4b05-465a-a8bd-ee5fd85a1eba",
   "metadata": {},
   "outputs": [
    {
     "data": {
      "text/plain": [
       "list"
      ]
     },
     "execution_count": 13,
     "metadata": {},
     "output_type": "execute_result"
    }
   ],
   "source": [
    "a = [1,2,\"Hello\"]\n",
    "type(a) #list型"
   ]
  },
  {
   "cell_type": "code",
   "execution_count": 14,
   "id": "958588c9-466a-4cde-aa1f-c5808ed27e65",
   "metadata": {},
   "outputs": [
    {
     "data": {
      "text/plain": [
       "tuple"
      ]
     },
     "execution_count": 14,
     "metadata": {},
     "output_type": "execute_result"
    }
   ],
   "source": [
    "a = (1,2,\"Helle\")\n",
    "type(a) #tuple型"
   ]
  },
  {
   "cell_type": "code",
   "execution_count": 19,
   "id": "5d73b2f6-de9b-46e7-bd9c-d5daeacece34",
   "metadata": {},
   "outputs": [
    {
     "data": {
      "text/plain": [
       "dict"
      ]
     },
     "execution_count": 19,
     "metadata": {},
     "output_type": "execute_result"
    }
   ],
   "source": [
    "a = {\n",
    "    \"Key1\": \"Hello\",\n",
    "    \"Key2\": \"Bye\",\n",
    "    \"num\": 1\n",
    "    }\n",
    "type(a) #dict型"
   ]
  },
  {
   "cell_type": "code",
   "execution_count": 20,
   "id": "5f3e0436-99db-40ae-b91d-318bb0829a97",
   "metadata": {},
   "outputs": [
    {
     "data": {
      "text/plain": [
       "'Hello'"
      ]
     },
     "execution_count": 20,
     "metadata": {},
     "output_type": "execute_result"
    }
   ],
   "source": [
    "a[\"Key1\"]"
   ]
  },
  {
   "cell_type": "code",
   "execution_count": 22,
   "id": "b845e08c-8da0-49ac-933d-cb80dd081158",
   "metadata": {},
   "outputs": [
    {
     "data": {
      "text/plain": [
       "{'Key1': 'hi', 'Key2': 'Bye', 'num': 1}"
      ]
     },
     "execution_count": 22,
     "metadata": {},
     "output_type": "execute_result"
    }
   ],
   "source": [
    "a[\"Key1\"] = \"hi\"\n",
    "a"
   ]
  },
  {
   "cell_type": "code",
   "execution_count": 23,
   "id": "2a1f25a8-d054-4249-9597-db7472f4f426",
   "metadata": {},
   "outputs": [
    {
     "data": {
      "text/plain": [
       "{'Key1': 'hi', 'Key2': 'Bye', 'num': 1, 'Key3': 'LLL'}"
      ]
     },
     "execution_count": 23,
     "metadata": {},
     "output_type": "execute_result"
    }
   ],
   "source": [
    "a[\"Key3\"] = \"LLL\"\n",
    "a"
   ]
  },
  {
   "cell_type": "code",
   "execution_count": 25,
   "id": "4670fdb6-ff58-4003-8137-1642cfbb5a72",
   "metadata": {},
   "outputs": [
    {
     "ename": "KeyError",
     "evalue": "'Key1'",
     "output_type": "error",
     "traceback": [
      "\u001b[1;31m---------------------------------------------------------------------------\u001b[0m",
      "\u001b[1;31mKeyError\u001b[0m                                  Traceback (most recent call last)",
      "Cell \u001b[1;32mIn[25], line 1\u001b[0m\n\u001b[1;32m----> 1\u001b[0m \u001b[38;5;28;01mdel\u001b[39;00m a[\u001b[38;5;124m\"\u001b[39m\u001b[38;5;124mKey1\u001b[39m\u001b[38;5;124m\"\u001b[39m]\n\u001b[0;32m      2\u001b[0m a\n",
      "\u001b[1;31mKeyError\u001b[0m: 'Key1'"
     ]
    }
   ],
   "source": [
    "del a[\"Key1\"]\n",
    "a"
   ]
  },
  {
   "cell_type": "code",
   "execution_count": 26,
   "id": "ccc4e39a-ccbb-4238-b351-015fbcc69235",
   "metadata": {},
   "outputs": [
    {
     "data": {
      "text/plain": [
       "{'Key2': 'Bye', 'num': 1, 'Key3': 'LLL'}"
      ]
     },
     "execution_count": 26,
     "metadata": {},
     "output_type": "execute_result"
    }
   ],
   "source": [
    "a"
   ]
  },
  {
   "cell_type": "code",
   "execution_count": 27,
   "id": "3de5c728-4bad-46bf-a48f-bc7bcdb426b6",
   "metadata": {},
   "outputs": [
    {
     "data": {
      "text/plain": [
       "dict_keys(['Key2', 'num', 'Key3'])"
      ]
     },
     "execution_count": 27,
     "metadata": {},
     "output_type": "execute_result"
    }
   ],
   "source": [
    "a.keys()"
   ]
  },
  {
   "cell_type": "code",
   "execution_count": 29,
   "id": "996da94f-0082-422b-8fb3-ad2ca32ee316",
   "metadata": {},
   "outputs": [
    {
     "data": {
      "text/plain": [
       "dict_values(['Bye', 1, 'LLL'])"
      ]
     },
     "execution_count": 29,
     "metadata": {},
     "output_type": "execute_result"
    }
   ],
   "source": [
    "a.values()"
   ]
  },
  {
   "cell_type": "code",
   "execution_count": 30,
   "id": "c515a5ce-ffab-4e90-a6ac-62a04113105a",
   "metadata": {},
   "outputs": [
    {
     "data": {
      "text/plain": [
       "dict_items([('Key2', 'Bye'), ('num', 1), ('Key3', 'LLL')])"
      ]
     },
     "execution_count": 30,
     "metadata": {},
     "output_type": "execute_result"
    }
   ],
   "source": [
    "a.items()"
   ]
  },
  {
   "cell_type": "code",
   "execution_count": 35,
   "id": "58f9c32f-2bc3-47bf-87df-deb9112e45b6",
   "metadata": {},
   "outputs": [
    {
     "data": {
      "text/plain": [
       "['a', 'b', 'c']"
      ]
     },
     "execution_count": 35,
     "metadata": {},
     "output_type": "execute_result"
    }
   ],
   "source": [
    "a = \"a,b,c\"\n",
    "a=a.split(\",\")\n",
    "a"
   ]
  },
  {
   "cell_type": "code",
   "execution_count": 36,
   "id": "f4b1e3c2-b0de-43e3-95d6-43eb92d76d65",
   "metadata": {},
   "outputs": [
    {
     "name": "stdout",
     "output_type": "stream",
     "text": [
      "a-b-c\n"
     ]
    }
   ],
   "source": [
    "print(\"-\".join(a))"
   ]
  },
  {
   "cell_type": "code",
   "execution_count": 37,
   "id": "71e4e2fc-a083-4be3-b3dd-3858368ee3a2",
   "metadata": {},
   "outputs": [
    {
     "data": {
      "text/plain": [
       "'a-b-c'"
      ]
     },
     "execution_count": 37,
     "metadata": {},
     "output_type": "execute_result"
    }
   ],
   "source": [
    "a = \"a,b,c\"\n",
    "a.replace(\",\",\"-\")"
   ]
  },
  {
   "cell_type": "code",
   "execution_count": 40,
   "id": "9bc9a1bd-7677-4904-be99-ac8c4292eb3e",
   "metadata": {},
   "outputs": [
    {
     "name": "stdout",
     "output_type": "stream",
     "text": [
      "Key1\n",
      "Hello\n",
      "Key2\n",
      "Bye\n",
      "num\n",
      "1\n"
     ]
    }
   ],
   "source": [
    "a = {\n",
    "    \"Key1\": \"Hello\",\n",
    "    \"Key2\": \"Bye\",\n",
    "    \"num\": 1\n",
    "    }\n",
    "for i,j in a.items():\n",
    "    print(i)\n",
    "    print(j)"
   ]
  },
  {
   "cell_type": "code",
   "execution_count": 43,
   "id": "b8dbf135-ab95-458e-bbfa-bca3b95c180e",
   "metadata": {},
   "outputs": [
    {
     "name": "stdout",
     "output_type": "stream",
     "text": [
      "0\n",
      "Key1\n",
      "1\n",
      "Key2\n",
      "2\n",
      "num\n"
     ]
    }
   ],
   "source": [
    "a = {\n",
    "    \"Key1\": \"Hello\",\n",
    "    \"Key2\": \"Bye\",\n",
    "    \"num\": 1\n",
    "    }\n",
    "for i,j in enumerate(a):\n",
    "    print(i)\n",
    "    print(j)"
   ]
  },
  {
   "cell_type": "code",
   "execution_count": 44,
   "id": "24d93920-1051-46ea-8afd-f045c4706b6a",
   "metadata": {},
   "outputs": [
    {
     "data": {
      "text/plain": [
       "['Key1Key1', 'Key2Key2', 'numnum']"
      ]
     },
     "execution_count": 44,
     "metadata": {},
     "output_type": "execute_result"
    }
   ],
   "source": [
    "[i*2 for i in a]"
   ]
  },
  {
   "cell_type": "code",
   "execution_count": 45,
   "id": "3ffd7bb8-192b-45c2-a9ed-be78312ffc90",
   "metadata": {},
   "outputs": [
    {
     "data": {
      "text/plain": [
       "[2, 4, 6]"
      ]
     },
     "execution_count": 45,
     "metadata": {},
     "output_type": "execute_result"
    }
   ],
   "source": [
    "a = [1,2,3]\n",
    "[i*2 for i in a]"
   ]
  },
  {
   "cell_type": "code",
   "execution_count": null,
   "id": "6fe090eb-4e77-488d-aff0-7a41cf2ad206",
   "metadata": {},
   "outputs": [],
   "source": []
  }
 ],
 "metadata": {
  "kernelspec": {
   "display_name": "Python 3 (ipykernel)",
   "language": "python",
   "name": "python3"
  },
  "language_info": {
   "codemirror_mode": {
    "name": "ipython",
    "version": 3
   },
   "file_extension": ".py",
   "mimetype": "text/x-python",
   "name": "python",
   "nbconvert_exporter": "python",
   "pygments_lexer": "ipython3",
   "version": "3.10.2"
  }
 },
 "nbformat": 4,
 "nbformat_minor": 5
}
